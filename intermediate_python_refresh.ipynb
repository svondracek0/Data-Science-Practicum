{
  "nbformat": 4,
  "nbformat_minor": 0,
  "metadata": {
    "colab": {
      "provenance": [],
      "toc_visible": true,
      "include_colab_link": true
    },
    "kernelspec": {
      "name": "python3",
      "display_name": "Python 3"
    },
    "language_info": {
      "name": "python"
    }
  },
  "cells": [
    {
      "cell_type": "markdown",
      "metadata": {
        "id": "view-in-github",
        "colab_type": "text"
      },
      "source": [
        "<a href=\"https://colab.research.google.com/github/svondracek0/Data-Science-Practicum/blob/main/intermediate_python_refresh.ipynb\" target=\"_parent\"><img src=\"https://colab.research.google.com/assets/colab-badge.svg\" alt=\"Open In Colab\"/></a>"
      ]
    },
    {
      "cell_type": "markdown",
      "source": [
        "# Intermediate Python - regularni vyrazy, paralelizace, profiling (vyuka 30./31.5.)"
      ],
      "metadata": {
        "id": "rI5ifTTeAPnI"
      }
    },
    {
      "cell_type": "markdown",
      "source": [
        "## 1 Regularni vyrazy (RegEx/RegExp)"
      ],
      "metadata": {
        "id": "kTiSP-9impmB"
      }
    },
    {
      "cell_type": "code",
      "source": [
        "# stahne data z repozitare potrebna pro prvni cviceni\n",
        "!wget -O slovnik.txt https://raw.githubusercontent.com/svondracek0/Data-Science-Practicum/refs/heads/main/slovnik.txt"
      ],
      "metadata": {
        "id": "fN17ljj8n265",
        "outputId": "b56a335c-d866-4c15-9b44-c1a6227b2056",
        "colab": {
          "base_uri": "https://localhost:8080/"
        }
      },
      "execution_count": 16,
      "outputs": [
        {
          "output_type": "stream",
          "name": "stdout",
          "text": [
            "--2025-06-04 20:28:29--  https://raw.githubusercontent.com/svondracek0/Data-Science-Practicum/refs/heads/main/slovnik.txt\n",
            "Resolving raw.githubusercontent.com (raw.githubusercontent.com)... 185.199.111.133, 185.199.109.133, 185.199.110.133, ...\n",
            "Connecting to raw.githubusercontent.com (raw.githubusercontent.com)|185.199.111.133|:443... connected.\n",
            "HTTP request sent, awaiting response... 200 OK\n",
            "Length: 409599 (400K) [text/plain]\n",
            "Saving to: ‘slovnik.txt’\n",
            "\n",
            "slovnik.txt         100%[===================>] 400.00K  2.09MB/s    in 0.2s    \n",
            "\n",
            "2025-06-04 20:28:30 (2.09 MB/s) - ‘slovnik.txt’ saved [409599/409599]\n",
            "\n"
          ]
        }
      ]
    },
    {
      "cell_type": "markdown",
      "source": [
        "### 1.1 Hledani slov regexem ve slovniku\n",
        "Napište takový regulární výraz, který ve slovníku (slovnik.txt) vyhledá následující vzory. Využijte předpřipravenou funkci find_regexp"
      ],
      "metadata": {
        "id": "4qY8QUHGGFss"
      }
    },
    {
      "cell_type": "code",
      "source": [
        "def find_regexp(regexp, file_name=\"slovnik.txt\"):\n",
        "    with open(file_name, \"r\", encoding=\"utf-8\") as my_file:\n",
        "        for line in my_file:\n",
        "            if re.search(regexp, line):\n",
        "                strip_line = line.rstrip()\n",
        "                print(strip_line, end=\", \")\n",
        "    print(\"\\n\")"
      ],
      "metadata": {
        "id": "5wYiYAaNDeTj"
      },
      "execution_count": 17,
      "outputs": []
    },
    {
      "cell_type": "code",
      "source": [
        "!ls -l"
      ],
      "metadata": {
        "colab": {
          "base_uri": "https://localhost:8080/"
        },
        "id": "xYsxqi9REMLY",
        "outputId": "c1ac5cd3-155c-46e3-fa07-03bc7cc6b807"
      },
      "execution_count": 20,
      "outputs": [
        {
          "output_type": "stream",
          "name": "stdout",
          "text": [
            "total 404\n",
            "drwxr-xr-x 1 root root   4096 Jun  3 14:04 sample_data\n",
            "-rw-r--r-- 1 root root 409599 Jun  4 20:28 slovnik.txt\n"
          ]
        }
      ]
    },
    {
      "cell_type": "code",
      "source": [
        "import re"
      ],
      "metadata": {
        "id": "7gy4wgLvEU2l"
      },
      "execution_count": 21,
      "outputs": []
    },
    {
      "cell_type": "code",
      "source": [
        "# Vypsat vsechny retezce, ktere obsahuji podretezec \"oo\"\n",
        "find_regexp(r\"oo\")"
      ],
      "metadata": {
        "colab": {
          "base_uri": "https://localhost:8080/"
        },
        "id": "0JsAGQrSEM4Y",
        "outputId": "3ae46054-ac9b-42c2-dc68-a07d2ca8c383"
      },
      "execution_count": 22,
      "outputs": [
        {
          "output_type": "stream",
          "name": "stdout",
          "text": [
            "pootevrel, samoobsluhy, pootevrenych, woodyho, zoo, roosevelta, poohlednout, wood, velkoobchod, kooperativni, daewoo, hollywoodskych, bloom, zoologickou, moon, brooklyn, wootton, poloostrov, goose, good, velkoobchodu, moore, boomu, maloobchodnich, koordinator, mooshabrova, poodstoupil, doopravdy, hollywoodu, google, koordinaci, koordinace, kooperativniho, roosevelt, cooteova, liverpool, velkoobchodni, school, maloobchodu, pootevrena, mooshabrove, cooper, hollywood, koordinacni, boom, zoologickych, mikroorganismy, mikroorganismu, waterloo, pootevrela, pooperacni, goodwin, notebook, kohinoor, hollywoodsky, hollywoodska, hollywoodske, koordinuje, notebooku, kooperativa, zoologicke, kooperace, kooperaci, broome, brooklynu, poole, woods, woody, pootevrene, pootocil, bloomberg, maloobchodni, \n",
            "\n"
          ]
        }
      ]
    },
    {
      "cell_type": "code",
      "source": [
        "# Vypsat vsechny retezce, ktere zacinaji na \"e\" a konci na \"le\"\n",
        "# Vypise pouze erteple, elle, emile,\n",
        "find_regexp(r\"^e.*le$\")"
      ],
      "metadata": {
        "id": "DSldNNZ-EY4s",
        "outputId": "bfdbe23c-8246-48c1-d631-af8d656bbe52",
        "colab": {
          "base_uri": "https://localhost:8080/"
        }
      },
      "execution_count": 23,
      "outputs": [
        {
          "output_type": "stream",
          "name": "stdout",
          "text": [
            "erteple, elle, \n",
            "\n"
          ]
        }
      ]
    },
    {
      "cell_type": "code",
      "source": [
        "# Vypsat vsechny retezce, ktere obsahuji \"a\", \"e\", \"i\", \"o\", \"u\" v tomto\n",
        "# poradi (ale ne nutne za sebou, napr. akademickou)\n",
        "find_regexp(r\"a\")"
      ],
      "metadata": {
        "id": "pYLxGpdSEZYE"
      },
      "execution_count": null,
      "outputs": []
    },
    {
      "cell_type": "code",
      "source": [
        "# Vypsat vsechny retezce, ktere obsahuji podretezec delky 4\n",
        "# tvoreny z pismen \"rst\" (napr. bratrstvi)\n",
        "find_regexp(r\"[rst]{4}\")"
      ],
      "metadata": {
        "id": "6cYPjAtnEifh",
        "outputId": "c127b797-e537-4ecb-c5ff-fa4868b2c0b5",
        "colab": {
          "base_uri": "https://localhost:8080/"
        }
      },
      "execution_count": 25,
      "outputs": [
        {
          "output_type": "stream",
          "name": "stdout",
          "text": [
            "bratrstvo, bratrstva, meststi, srst, srsti, \n",
            "\n"
          ]
        }
      ]
    },
    {
      "cell_type": "code",
      "source": [
        "# Vypsat vsechny retezce, dve \"u\" vzdalena od sebe 8 pozic (napr. \"uhlovodiku\")\n",
        "find_regexp(r\"u.{8}u\")"
      ],
      "metadata": {
        "id": "jMhPoSV7EmQV",
        "outputId": "6c669686-94e7-4171-948a-7f84034b61d3",
        "colab": {
          "base_uri": "https://localhost:8080/"
        }
      },
      "execution_count": 26,
      "outputs": [
        {
          "output_type": "stream",
          "name": "stdout",
          "text": [
            "ceskobudejovicku, uhlovodiku, autobusovou, lucembursku, soustredenou, tuberkulozu, funkcionaru, autentickou, surrealismu, ukazovacku, automobilku, zastupitelstvu, kuomintangu, univerzitu, komunistickou, turistickou, umeleckemu, \n",
            "\n"
          ]
        }
      ]
    },
    {
      "cell_type": "code",
      "source": [
        "# Obsahuji pismeno \"u\" na druhe i predposledni pozici (napr. \"luxus\")\n",
        "find_regexp(r\"^.{1}u.*u.$\")"
      ],
      "metadata": {
        "id": "u9LXjR4JEo4T",
        "outputId": "f6fbe664-b428-4523-951a-eb17cdf09804",
        "colab": {
          "base_uri": "https://localhost:8080/"
        }
      },
      "execution_count": 28,
      "outputs": [
        {
          "output_type": "stream",
          "name": "stdout",
          "text": [
            "julius, turistum, kultur, vudcum, luxus, sunul, autoruv, autorum, publikum, bushuv, kunuk, budecius, dusledkum, humbuk, humanismus, jubileum, subjektum, turkum, juventus, duun, muzum, kubismus, muzeum, buddhismus, \n",
            "\n"
          ]
        }
      ]
    },
    {
      "cell_type": "code",
      "source": [
        "# Krome prvniho a posledniho pismene, kde muze byt libovolne pismeno, obsahuji\n",
        "# pouze samohlasky a maji presne 5 pismen (napr. \"foyer\")\n",
        "find_regexp(r\"^[a-z][aeiou]{3}[a-z]$\")"
      ],
      "metadata": {
        "id": "BUNbc5mfEq9O",
        "outputId": "539d9bb7-08cf-4718-fd99-f350bcbb19d2",
        "colab": {
          "base_uri": "https://localhost:8080/"
        }
      },
      "execution_count": 29,
      "outputs": [
        {
          "output_type": "stream",
          "name": "stdout",
          "text": [
            "louis, maier, bauer, queen, \n",
            "\n"
          ]
        }
      ]
    },
    {
      "cell_type": "markdown",
      "source": [
        "### 1.2 Ruzne funkce modulu re"
      ],
      "metadata": {
        "id": "WpcnQM51pAaI"
      }
    },
    {
      "cell_type": "code",
      "source": [
        "# rozdil str split a re split\n",
        "my_string = \"jablko,hruška,hrozny,mrkev.zelí,zelenina.ovoce,dvůr\"\n",
        "[elem.split(\".\") for elem in my_string.split(\",\")]"
      ],
      "metadata": {
        "id": "TZNuCxVdFgsX",
        "outputId": "39a5b63b-538d-42bf-f6e8-05fb307f56ed",
        "colab": {
          "base_uri": "https://localhost:8080/"
        }
      },
      "execution_count": 38,
      "outputs": [
        {
          "output_type": "execute_result",
          "data": {
            "text/plain": [
              "[['jablko'],\n",
              " ['hruška'],\n",
              " ['hrozny'],\n",
              " ['mrkev', 'zelí'],\n",
              " ['zelenina', 'ovoce'],\n",
              " ['dvůr']]"
            ]
          },
          "metadata": {},
          "execution_count": 38
        }
      ]
    },
    {
      "cell_type": "code",
      "source": [
        "# re.split pro rozdeleni slov\n",
        "re.split(\",|\\.\", my_string) # pozor na zpetne lomitko"
      ],
      "metadata": {
        "id": "mog7QfoZeA5f",
        "outputId": "9ad926b5-fab2-430f-8b0a-e07ab55f0d31",
        "colab": {
          "base_uri": "https://localhost:8080/"
        }
      },
      "execution_count": 39,
      "outputs": [
        {
          "output_type": "execute_result",
          "data": {
            "text/plain": [
              "['jablko', 'hruška', 'hrozny', 'mrkev', 'zelí', 'zelenina', 'ovoce', 'dvůr']"
            ]
          },
          "metadata": {},
          "execution_count": 39
        }
      ]
    },
    {
      "cell_type": "code",
      "source": [
        "print(re.subn(r\"[a-z]{5}\", \"pes\", \"Alice má slona\"))\n"
      ],
      "metadata": {
        "id": "Ethdxx9GfPhb",
        "outputId": "30bcaef6-62f1-4d29-fe54-12923bed4267",
        "colab": {
          "base_uri": "https://localhost:8080/"
        }
      },
      "execution_count": 40,
      "outputs": [
        {
          "output_type": "stream",
          "name": "stdout",
          "text": [
            "('Alice má pes', 1)\n"
          ]
        }
      ]
    },
    {
      "cell_type": "markdown",
      "source": [
        "Najděte všechna čísla ze zadaného textu pomocí regulárního výrazu.\n",
        "\n",
        "Tj. pro řetězec \"test43543lfdsfdsfl534543fdgl432fr\" to bude:  \n",
        "- 43543  \n",
        "- 534543  \n",
        "- 432  \n",
        "\n",
        "*Nápověda*  \n",
        "\n",
        "Použi jte speciální symbol \\d, který označuje libovolnou číslici, a znak +, který znamená \"jeden nebo více znaků\"."
      ],
      "metadata": {
        "id": "-UGMVRnSFhcl"
      }
    },
    {
      "cell_type": "code",
      "source": [
        "test_str = \"test43543lfdsfdsfl534543fdgl432fr\"\n",
        "re.search(r\"\\d+\", test_str) # match najde jen prvni shodu"
      ],
      "metadata": {
        "id": "O0uG96rzFi__",
        "outputId": "ecf523e5-413b-422d-9462-69f742c6f1e7",
        "colab": {
          "base_uri": "https://localhost:8080/"
        }
      },
      "execution_count": 41,
      "outputs": [
        {
          "output_type": "execute_result",
          "data": {
            "text/plain": [
              "<re.Match object; span=(4, 9), match='43543'>"
            ]
          },
          "metadata": {},
          "execution_count": 41
        }
      ]
    },
    {
      "cell_type": "code",
      "source": [
        "re.search(r\"\\d+\", test_str).group()  # stejne tak search"
      ],
      "metadata": {
        "id": "Fbfk2_nWhnTm",
        "outputId": "730017bb-fdd2-481b-a5bf-2bf378cd6137",
        "colab": {
          "base_uri": "https://localhost:8080/",
          "height": 35
        }
      },
      "execution_count": 44,
      "outputs": [
        {
          "output_type": "execute_result",
          "data": {
            "text/plain": [
              "'43543'"
            ],
            "application/vnd.google.colaboratory.intrinsic+json": {
              "type": "string"
            }
          },
          "metadata": {},
          "execution_count": 44
        }
      ]
    },
    {
      "cell_type": "code",
      "source": [
        "re.findall(r\"\\d+\", test_str)  # k nalezeni vsech je potreba findall"
      ],
      "metadata": {
        "id": "ro4ZdU81hrLm",
        "outputId": "eb8b4c4c-8157-486b-ced3-78192dfa6a31",
        "colab": {
          "base_uri": "https://localhost:8080/"
        }
      },
      "execution_count": 45,
      "outputs": [
        {
          "output_type": "execute_result",
          "data": {
            "text/plain": [
              "['43543', '534543', '432']"
            ]
          },
          "metadata": {},
          "execution_count": 45
        }
      ]
    },
    {
      "cell_type": "markdown",
      "source": [
        "Napište program, který pomocí regulárního výrazu zkontroluje, zda je zadané telefonní číslo validní.Validní čísla mají tyto formáty:\n",
        "\n",
        "- 48123456789\n",
        "- +48123456789\n",
        "- 0048123456789  \n",
        "\n",
        "Na začátku použijte '48', '+48' nebo '0048' a poté 9 číslic."
      ],
      "metadata": {
        "id": "ahn1HwqSF2iX"
      }
    },
    {
      "cell_type": "code",
      "source": [
        "# pattern = r\"(?[\\+|00])\\d{9}\"\n",
        "pattern = \"^(\\+|00)?48\\d{9}\"\n",
        "\n",
        "re.match(pattern, \"+48123456789\")  # zde match dava smysl, validujeme cely strimg"
      ],
      "metadata": {
        "id": "P_3h16exGA6r",
        "outputId": "ad485894-3883-49ed-9775-a8adf2323120",
        "colab": {
          "base_uri": "https://localhost:8080/"
        }
      },
      "execution_count": 46,
      "outputs": [
        {
          "output_type": "execute_result",
          "data": {
            "text/plain": [
              "<re.Match object; span=(0, 12), match='+48123456789'>"
            ]
          },
          "metadata": {},
          "execution_count": 46
        }
      ]
    },
    {
      "cell_type": "code",
      "source": [
        "test_list = [\"48123456789\",\n",
        "\"+48123456789\",\n",
        "\"0048123456789\", \"+42123456789\"]\n",
        "\n",
        "for number in test_list:\n",
        "    if re.match(pattern, number):\n",
        "        print(number, \"is valid\")\n",
        "    else:\n",
        "        print(number, \"is not valid\")"
      ],
      "metadata": {
        "id": "vByJMAfZiM9Q",
        "outputId": "b03a84c8-4f12-45ad-d755-8ec40117d7ba",
        "colab": {
          "base_uri": "https://localhost:8080/"
        }
      },
      "execution_count": 47,
      "outputs": [
        {
          "output_type": "stream",
          "name": "stdout",
          "text": [
            "48123456789 is valid\n",
            "+48123456789 is valid\n",
            "0048123456789 is valid\n",
            "+42123456789 is not valid\n"
          ]
        }
      ]
    },
    {
      "cell_type": "markdown",
      "source": [
        "### 1.3 Re Funkce Opakovani\n",
        "The main objective for each exercise is to choose the most appropriate re module function for the given task.\n",
        "\n",
        "Exercise 1: Validating an API Key Format\n",
        "\n",
        "    Scenario: You need to validate if a given API key string strictly adheres to a format where it must begin with \"KEY-\" followed by exactly 10 alphanumeric characters.\n",
        "\n",
        "    Your Task: Choose the re function that is best suited to check if the input_string starts exactly with the given pattern.\n",
        "\n",
        "    Which re function should you use?\n",
        "        A) re.match()\n",
        "        B) re.search()\n",
        "        C) re.findall()\n",
        "        D) re.split()"
      ],
      "metadata": {
        "id": "BuicfY32JwrK"
      }
    },
    {
      "cell_type": "code",
      "source": [
        "import re\n",
        "\n",
        "input_string = \"KEY-ABC123XYZ7\"\n",
        "another_string = \"Invalid KEY-ABC123XYZ7\"\n",
        "pattern = r\"KEY-[a-zA-Z0-9]{10}\"\n",
        "\n",
        "# Using re.match()\n",
        "match_object1 = re.match(pattern, input_string)\n",
        "if match_object1:\n",
        "  print(f\"'{input_string}' matches: {match_object1.group(0)}\")\n",
        "else:\n",
        "  print(f\"'{input_string}' does not match at the beginning.\")\n",
        "\n",
        "match_object2 = re.match(pattern, another_string)\n",
        "if match_object2:\n",
        "  print(f\"'{another_string}' matches: {match_object2.group(0)}\")\n",
        "else:\n",
        "  print(f\"'{another_string}' does not match at the beginning.\")\n",
        "# Expected Output:\n",
        "# 'KEY-ABC123XYZ7' matches: KEY-ABC123XYZ7\n",
        "# 'another_string' does not match at the beginning."
      ],
      "metadata": {
        "colab": {
          "base_uri": "https://localhost:8080/"
        },
        "id": "njTZHrPKKACL",
        "outputId": "45a502e5-400a-4ff0-f918-d21a0d49a3fb"
      },
      "execution_count": null,
      "outputs": [
        {
          "output_type": "stream",
          "name": "stdout",
          "text": [
            "'KEY-ABC123XYZ7' matches: KEY-ABC123XYZ7\n",
            "'Invalid KEY-ABC123XYZ7' does not match at the beginning.\n"
          ]
        }
      ]
    },
    {
      "cell_type": "markdown",
      "source": [
        "Finding a Specific Error Code\n",
        "\n",
        "    Scenario: You are parsing a long log message and need to determine if a specific error code, say \"ERR_TIMEOUT_504\", is present anywhere within the message. You only need to know if it's there and perhaps its first occurrence.\n",
        "\n",
        "    Your Task: Choose the re function that is best suited to find the first occurrence of the pattern anywhere in the input_string.\n",
        "\n",
        "    Which re function should you use?\n",
        "        A) re.match()\n",
        "        B) re.search()\n",
        "        C) re.findall()\n",
        "        D) re.split()\n"
      ],
      "metadata": {
        "id": "VWrGxvUsLael"
      }
    },
    {
      "cell_type": "code",
      "source": [
        "import re\n",
        "\n",
        "input_string = \"System normal. Operation X completed. ERR_TIMEOUT_504: Critical task failed. Retrying.\"\n",
        "pattern = r\"ERR_TIMEOUT_504\"\n",
        "\n",
        "# Using re.search()\n",
        "search_result = re.search(pattern, input_string)\n",
        "if search_result:\n",
        "  print(f\"Pattern '{pattern}' found at index {search_result.start()}: {search_result.group(0)}\")\n",
        "else:\n",
        "  print(f\"Pattern '{pattern}' not found in the string.\")\n",
        "# Expected Output:\n",
        "# Pattern 'ERR_TIMEOUT_504' found at index 36: ERR_TIMEOUT_504"
      ],
      "metadata": {
        "colab": {
          "base_uri": "https://localhost:8080/"
        },
        "id": "kYZF5s6wKBH-",
        "outputId": "47f5b607-8179-4d71-ba98-f851212b06eb"
      },
      "execution_count": null,
      "outputs": [
        {
          "output_type": "stream",
          "name": "stdout",
          "text": [
            "Pattern 'ERR_TIMEOUT_504' found at index 38: ERR_TIMEOUT_504\n"
          ]
        }
      ]
    },
    {
      "cell_type": "code",
      "source": [
        "\"ERR_TIMEOUT_504\" in input_string"
      ],
      "metadata": {
        "colab": {
          "base_uri": "https://localhost:8080/"
        },
        "id": "ePSAY_v_Vz0g",
        "outputId": "8024e188-46fc-448c-dddc-7189a44e1e5a"
      },
      "execution_count": null,
      "outputs": [
        {
          "output_type": "execute_result",
          "data": {
            "text/plain": [
              "True"
            ]
          },
          "metadata": {},
          "execution_count": 47
        }
      ]
    },
    {
      "cell_type": "markdown",
      "source": [
        "Extracting All Usernames Mentioned\n",
        "\n",
        "    Scenario: You have a social media post, and you want to extract all usernames mentioned. Usernames are identified by an \"@\" symbol followed by one or more alphanumeric characters.\n",
        "\n",
        "    Your Task: Choose the re function that will find all occurrences of the pattern and return them.\n",
        "\n",
        "    Which re function should you use?\n",
        "        A) re.match()\n",
        "        B) re.search()\n",
        "        C) re.findall()\n",
        "        D) re.split()\n"
      ],
      "metadata": {
        "id": "vV-HIuPJLayK"
      }
    },
    {
      "cell_type": "code",
      "source": [
        "import re\n",
        "\n",
        "input_string = \"Hello @alice, please check with @bob_01. Thanks, @charlie!\"\n",
        "pattern = r\"@[a-zA-z0-9]+\" # Captures the username part\n",
        "\n",
        "# Using re.findall()\n",
        "usernames = re.findall(pattern, input_string)\n",
        "print(f\"Usernames found: {usernames}\")\n",
        "# Expected Output:\n",
        "# Usernames found: ['alice', 'bob_01', 'charlie']"
      ],
      "metadata": {
        "colab": {
          "base_uri": "https://localhost:8080/"
        },
        "id": "7LmgjgyrKgJg",
        "outputId": "d2533b09-54c9-4f12-990e-6065c7e16e65"
      },
      "execution_count": null,
      "outputs": [
        {
          "output_type": "stream",
          "name": "stdout",
          "text": [
            "Usernames found: ['@alice', '@bob_01', '@charlie']\n"
          ]
        }
      ]
    },
    {
      "cell_type": "markdown",
      "source": [
        "Tokenizing a Sentence by Punctuation\n",
        "\n",
        "    Scenario: You need to break down a sentence into smaller parts (tokens) based on common punctuation marks like commas, periods, and exclamation marks, which act as delimiters.\n",
        "\n",
        "    Which re function should you use?\n",
        "        A) re.match()\n",
        "        B) re.search()\n",
        "        C) re.findall()\n",
        "        D) re.split()"
      ],
      "metadata": {
        "id": "qRekRmI7La70"
      }
    },
    {
      "cell_type": "code",
      "source": [
        "import re\n",
        "\n",
        "input_string = \"First part,second part.Third part!And the last one.\"\n",
        "pattern = r\"[,.!]\" # Delimiters are comma, period, or exclamation mark\n",
        "\n",
        "# Using re.split()\n",
        "tokens = re.split(pattern, input_string)\n",
        "print(f\"Tokens: {tokens}\")\n",
        "# Expected Output:\n",
        "# Tokens: ['First part', 'second part', 'Third part', 'And the last one', '']\n",
        "# To remove empty strings, a list comprehension can be used:\n",
        "# filtered_tokens = [token for token in tokens if token]\n",
        "# print(f\"Filtered Tokens: {filtered_tokens}\")\n",
        "# Filtered Tokens: ['First part', 'second part', 'Third part', 'And the last one']"
      ],
      "metadata": {
        "colab": {
          "base_uri": "https://localhost:8080/"
        },
        "id": "GZQ7Ew9kKQGB",
        "outputId": "7ca492a4-c655-4e09-e11d-4f61716a5b6d"
      },
      "execution_count": null,
      "outputs": [
        {
          "output_type": "stream",
          "name": "stdout",
          "text": [
            "Tokens: ['First part', 'second part', 'Third part', 'And the last one', '']\n"
          ]
        }
      ]
    },
    {
      "cell_type": "markdown",
      "source": [
        "## 2 Profiling - timeit + tqdm modul\n",
        "\n"
      ],
      "metadata": {
        "id": "vlelE2NoZqkZ"
      }
    },
    {
      "cell_type": "code",
      "source": [
        "import timeit\n",
        "\n",
        "setup = \"from math import sqrt\"\n",
        "\n",
        "code = '''\n",
        "def func():\n",
        "  return [sqrt(x) for x in range(100)]\n",
        "    '''\n",
        "\n",
        "print(timeit.timeit(stmt=code, setup=setup, number=int(1e4)))  # standardni pristup a vyuziti timeit"
      ],
      "metadata": {
        "colab": {
          "base_uri": "https://localhost:8080/"
        },
        "id": "jYjsLJMvZu0_",
        "outputId": "aa90b990-c1f6-488b-ed4e-51f2bfd706ba"
      },
      "execution_count": 48,
      "outputs": [
        {
          "output_type": "stream",
          "name": "stdout",
          "text": [
            "0.0006123600001046725\n"
          ]
        }
      ]
    },
    {
      "cell_type": "code",
      "source": [
        "%%timeit\n",
        "from math import sqrt\n",
        "\n",
        "def func():\n",
        "  return [sqrt(x) for x in range(100)]\n",
        "\n",
        "func()  # zde muzeme vyuzit prostredi jupyter notebooku a pouzit magic command %%timit"
      ],
      "metadata": {
        "id": "r8y9DXJmsj8W",
        "outputId": "f53362b4-36d9-4f7c-abc1-1125e2c2e35a",
        "colab": {
          "base_uri": "https://localhost:8080/"
        }
      },
      "execution_count": 50,
      "outputs": [
        {
          "output_type": "stream",
          "name": "stdout",
          "text": [
            "4.86 µs ± 85 ns per loop (mean ± std. dev. of 7 runs, 100000 loops each)\n"
          ]
        }
      ]
    },
    {
      "cell_type": "code",
      "source": [
        "# show information on progress using TQDM\n",
        "from tqdm import tqdm\n",
        "import time\n",
        "\n",
        "for i in tqdm(range(100)):\n",
        "    time.sleep(0.01)\n"
      ],
      "metadata": {
        "colab": {
          "base_uri": "https://localhost:8080/"
        },
        "id": "MYCJC_kIaZ-T",
        "outputId": "92e81dd1-0d1f-45fb-98b5-e50af979044c"
      },
      "execution_count": null,
      "outputs": [
        {
          "output_type": "stream",
          "name": "stderr",
          "text": [
            "100%|██████████| 100/100 [00:01<00:00, 97.70it/s]\n"
          ]
        }
      ]
    },
    {
      "cell_type": "code",
      "source": [
        "# use tqdm with some custom message, use postfix and progress bar\n",
        "my_list = [\"jablko\", \"hruska\", \"banan\"]\n",
        "\n",
        "for item in tqdm(my_list, desc=f\"Processing item: {item}\"):\n",
        "    time.sleep(0.1)"
      ],
      "metadata": {
        "colab": {
          "base_uri": "https://localhost:8080/"
        },
        "id": "p-Rj3WCibFQh",
        "outputId": "fa3f3acb-ae70-48cd-aebe-34966744389e"
      },
      "execution_count": null,
      "outputs": [
        {
          "output_type": "stream",
          "name": "stderr",
          "text": [
            "Processing item: banan: 100%|██████████| 3/3 [00:00<00:00,  9.87it/s]\n"
          ]
        }
      ]
    },
    {
      "cell_type": "code",
      "source": [
        "#\n",
        "# Cíl:\n",
        "# 1. Použít modul `timeit` k měření doby provádění funkce `main_work_function`.\n",
        "# 2. Používat jednoduché `print()` příkazy pro záznam informací o průběhu skriptu.\n",
        "# 3. Použít modul `tqdm` k zobrazení progress baru pro hlavní smyčku ve funkci `main_work_function`.\n",
        "#\n",
        "# Instrukce jsou uvedeny v komentářích níže.\n",
        "\n",
        "import time\n",
        "import math\n",
        "import random\n",
        "import timeit # Pro Úkol 1\n",
        "from tqdm import tqdm # Pro Úkol 3\n",
        "\n",
        "# --- Poskytnutý kód (základní funkce) ---\n",
        "# TENTO KÓD BY STUDENTI NEMĚLI MĚNIT, POUZE HO DOPLNIT O PROFILOVÁNÍ, LOGOVÁNÍ A TQDM\n",
        "\n",
        "def expensive_calculation(item_value):\n",
        "    \"\"\"Simuluje výpočetně náročnou operaci na jedné položce.\"\"\"\n",
        "    # Záměrně neefektivní část.\n",
        "    for _ in range(10000 + random.randint(0, 5000)):\n",
        "        _ = math.sqrt(abs(random.gauss(100, 50))) * math.tan(random.random())\n",
        "    result = item_value * random.uniform(0.5, 1.5) + math.log(abs(item_value) + 1)\n",
        "    print(f\"DEBUG: expensive_calculation for {item_value} resulted in {result}\") # Příklad, kam přidat print pro logování\n",
        "    return result\n",
        "\n",
        "def process_data_item(item_id, data_value):\n",
        "    \"\"\"Zpracuje jednu datovou položku.\"\"\"\n",
        "    print(f\"INFO: Processing item {item_id} with value {data_value}\") # Příklad, kam přidat print pro logování\n",
        "    time.sleep(random.uniform(0.001, 0.005))\n",
        "    processed_value = expensive_calculation(data_value)\n",
        "    time.sleep(random.uniform(0.001, 0.003))\n",
        "    print(f\"DEBUG: Finished processing item {item_id}. Processed value: {processed_value}\") # Příklad\n",
        "    return {\"id\": item_id, \"original\": data_value, \"processed\": round(processed_value, 2)}\n",
        "\n",
        "def main_work_function(dataset):\n",
        "    \"\"\"\n",
        "    Hlavní funkce pro zpracování datasetu.\n",
        "    Studenti by měli přidat `tqdm` kolem smyčky a print() pro logování dovnitř.\n",
        "    \"\"\"\n",
        "    # print(\"INFO: Starting main_work_function...\") # Příklad\n",
        "    results = []\n",
        "\n",
        "    # ÚKOL 3: Přidejte `tqdm` progress bar pro následující smyčku.\n",
        "    # Zde začíná kód studenta pro Úkol 3\n",
        "    data_iterator = tqdm(dataset, desc=\"Zpracování datasetu\", unit=\"položka\", leave=True)\n",
        "    for i, item in enumerate(data_iterator):\n",
        "    # Zde končí kód studenta pro Úkol 3\n",
        "\n",
        "        # ÚKOL 2: Přidejte logování pomocí print().\n",
        "        # Zde začíná kód studenta pro Úkol 2 (logování uvnitř smyčky)\n",
        "        if (i + 1) % 10 == 0: # Logovat každou 10. položku pro přehlednost\n",
        "            print(f\"INFO: Zpracovává se položka {i+1}/{len(dataset)}: hodnota {item}\")\n",
        "        # print(f\"DEBUG: Detail: Zpracování položky index {i}, hodnota {item}\") # Příklad detailnějšího logu\n",
        "        # Zde končí kód studenta pro Úkol 2\n",
        "\n",
        "        result = process_data_item(item_id=f\"item_{i:03d}\", data_value=item)\n",
        "        results.append(result)\n",
        "\n",
        "    # print(f\"INFO: Finished main_work_function. Processed {len(results)} items.\") # Příklad\n",
        "    return results\n",
        "\n",
        "def generate_sample_dataset(size=50):\n",
        "    \"\"\"Generuje náhodný dataset.\"\"\"\n",
        "    return [random.randint(-500, 1500) for _ in range(size)]\n",
        "\n",
        "# --- Hlavní část skriptu ---\n",
        "if __name__ == \"__main__\":\n",
        "    # ÚKOL 2: Použijte print() pro logování.\n",
        "    # Není potřeba žádné speciální nastavení, stačí používat print() na relevantních místech.\n",
        "    print(\"INFO: Skript spuštěn.\")\n",
        "\n",
        "    # Generování datasetu\n",
        "    dataset_size = 75\n",
        "    print(f\"INFO: Generuji dataset o velikosti {dataset_size}...\")\n",
        "    dataset = generate_sample_dataset(size=dataset_size)\n",
        "    # print(f\"DEBUG: Vygenerovaný dataset (prvních 5 položek): {dataset[:5]}\")\n",
        "\n",
        "    # ÚKOL 1: Měření času pomocí timeit.\n",
        "    # Změřte dobu provádění `main_work_function`.\n",
        "    # `timeit` je vhodnější pro měření krátkých kousků kódu, které se opakují mnohokrát.\n",
        "    # Pro měření celé funkce, která se volá jednou, můžeme použít `time.perf_counter()`\n",
        "    # nebo `timeit.timeit` s `number=1`.\n",
        "    # Pro účely tohoto cvičení použijeme `timeit.timeit` s `number=1` pro demonstraci.\n",
        "\n",
        "    print(\"INFO: Spouštím hlavní funkci pro zpracování dat...\")\n",
        "\n",
        "    # Zde začíná kód studenta pro Úkol 1 (měření času)\n",
        "\n",
        "    # Příprava pro timeit: definujeme setup kód a kód k měření.\n",
        "    # Setup kód se provede jednou před měřením.\n",
        "    # Kód k měření je ten, jehož čas chceme zjistit.\n",
        "\n",
        "    # Abychom mohli `main_work_function` a `dataset` použít v `timeit`,\n",
        "    # musíme je importovat do jeho scope nebo je předat přes `globals`.\n",
        "\n",
        "    # Varianta 1: Použití time.perf_counter() pro jednorázové měření (jednodušší pro tento případ)\n",
        "    start_time_pc = time.perf_counter()\n",
        "    processed_results = main_work_function(dataset) # Volání hlavní funkce\n",
        "    end_time_pc = time.perf_counter()\n",
        "    duration_pc = end_time_pc - start_time_pc\n",
        "    print(f\"\\n--- Měření pomocí time.perf_counter() ---\")\n",
        "    print(f\"Doba trvání main_work_function: {duration_pc:.4f} sekund.\")\n",
        "\n",
        "    # Varianta 2: Použití timeit.timeit (pro demonstraci, i když pro jednorázové volání je perf_counter() přirozenější)\n",
        "    # `timeit` typicky spouští kód vícekrát, aby získal přesnější měření.\n",
        "    # Pro jednorázové spuštění nastavíme `number=1`.\n",
        "    # Musíme zajistit, aby `main_work_function` a `dataset` byly dostupné v `timeit`.\n",
        "\n",
        "    # Příprava pro timeit - setup string\n",
        "    # Předáváme potřebné funkce a proměnné do `globals` parametru `timeit.timeit`\n",
        "    # nebo je importujeme v setup stringu.\n",
        "    setup_code = \"\"\"\n",
        "import random\n",
        "import math\n",
        "import time # process_data_item a expensive_calculation ho používají\n",
        "from __main__ import main_work_function, generate_sample_dataset, process_data_item, expensive_calculation\n",
        "# Musíme znovu vygenerovat dataset uvnitř setupu, pokud ho chceme mít stejný pro každé opakování (pokud by number > 1)\n",
        "# Pro number=1 to není tak kritické, ale je to dobrá praxe.\n",
        "# Nebo můžeme dataset předat přes globals.\n",
        "# dataset_for_timeit = generate_sample_dataset(size={{}}) # Nahradit {{}} velikostí\n",
        "# Poznámka: Zde bylo potřeba escapovat složené závorky pro .format() níže, pokud by se tato řádka odkomentovala a formátovala.\n",
        "# Jelikož .format(dataset_size) níže nemá žádný aktivní placeholder, mohlo by být i odstraněno, pokud tato řádka zůstane komentářem.\n",
        "\"\"\".format(dataset_size) # Vložíme dataset_size do setup_code, i když aktuálně nemá aktivní placeholder\n",
        "\n",
        "\n",
        "    # Kód, který se bude měřit\n",
        "    stmt_code = f\"main_work_function(dataset_for_timeit)\" # Tento řádek by potřeboval dataset_for_timeit, pokud by se setup_code aktivně používal k jeho vytvoření\n",
        "\n",
        "    # Vytvoření datasetu, který bude dostupný pro timeit přes globals\n",
        "    # Toto je jednodušší než ho vytvářet v setup stringu pro tento případ.\n",
        "    dataset_for_timeit_measurement = generate_sample_dataset(size=dataset_size)\n",
        "\n",
        "    print(f\"\\n--- Měření pomocí timeit.timeit (number=1) ---\")\n",
        "    # Měření času. `globals` argument zpřístupní proměnné z aktuálního scope.\n",
        "    # Je důležité, aby `main_work_function` a `dataset_for_timeit_measurement` byly v `globals()`.\n",
        "    # Také všechny funkce, které `main_work_function` volá, a moduly, které používají.\n",
        "    # Pro jednoduchost můžeme předat celé `globals()`.\n",
        "\n",
        "    # Abychom zajistili, že `tqdm` nevypisuje do konzole během `timeit`, můžeme ho dočasně vypnout\n",
        "    # nebo použít `disable=True` v `tqdm` konstruktoru, pokud by to bylo součástí měřeného kódu.\n",
        "    # V našem případě je `tqdm` uvnitř `main_work_function`, takže to ovlivní výstup.\n",
        "    # Pro čisté měření `timeit` by bylo lepší `tqdm` odstranit nebo vypnout.\n",
        "    # Pro toto cvičení to ponecháme pro demonstraci.\n",
        "\n",
        "    # Definujeme wrapper funkci, kterou bude timeit volat, abychom mohli předat argumenty\n",
        "    def wrapper_for_timeit(data):\n",
        "        main_work_function(data)\n",
        "\n",
        "    # Použijeme `functools.partial` pro vytvoření funkce bez argumentů, kterou timeit může volat.\n",
        "    import functools\n",
        "    timeit_callable = functools.partial(wrapper_for_timeit, dataset_for_timeit_measurement)\n",
        "\n",
        "    # Počet opakování pro `timeit`. Pro dlouho běžící funkci stačí 1.\n",
        "    number_of_runs = 1\n",
        "    duration_timeit = timeit.timeit(timeit_callable, number=number_of_runs)\n",
        "\n",
        "    print(f\"Doba trvání main_work_function (měřeno timeit, {number_of_runs} spuštění): {duration_timeit:.4f} sekund.\")\n",
        "    if number_of_runs > 1:\n",
        "        print(f\"Průměrná doba na jedno spuštění: {duration_timeit/number_of_runs:.4f} sekund.\")\n",
        "\n",
        "    # Poznámka pro studenty:\n",
        "    # `timeit` je nejlepší pro mikro-benchmarky (velmi krátké kousky kódu).\n",
        "    # Pro měření delších funkcí, jako je tato, je `time.perf_counter()` často jednodušší a dostatečné.\n",
        "    # Výstup `tqdm` se během `timeit` normálně zobrazí, pokud není explicitně vypnut.\n",
        "    # Pro přesné benchmarkování by se vedlejší efekty jako print a tqdm měly minimalizovat nebo odstranit z měřené části.\n",
        "\n",
        "    # Zde končí kód studenta pro Úkol 1\n",
        "\n",
        "    # Výsledky z prvního (perf_counter) běhu\n",
        "    print(f\"\\nINFO: Zpracování (měřeno perf_counter) dokončeno za {duration_pc:.2f} sekund.\")\n",
        "    print(f\"INFO: Počet zpracovaných výsledků: {len(processed_results)}\")\n",
        "    if processed_results:\n",
        "        # print(f\"DEBUG: Příklad zpracovaného výsledku: {processed_results[0]}\")\n",
        "        print(f\"Ukázka prvního výsledku: {processed_results[0]}\")\n",
        "\n",
        "\n",
        "    print(\"INFO: Skript dokončen.\")\n",
        "\n",
        "# --- Očekávaný postup studenta ---\n",
        "# 1. Spustí skript v původní podobě, aby viděl, jak funguje.\n",
        "# 2. Implementuje Úkol 2 (Logování pomocí print()):\n",
        "#    - Vloží `print()` s prefixy jako \"INFO:\", \"DEBUG:\" na relevantní místa.\n",
        "#    - Ověří, že se zprávy zobrazují v konzoli.\n",
        "# 3. Implementuje Úkol 3 (TQDM):\n",
        "#    - Importuje `tqdm`.\n",
        "#    - Obklopí iterátor `dataset` ve funkci `main_work_function` pomocí `tqdm()`.\n",
        "#    - Přidá popis (`desc`) pro progress bar.\n",
        "#    - Spustí skript a ověří, že se progress bar zobrazuje a aktualizuje.\n",
        "# 4. Implementuje Úkol 1 (Měření času):\n",
        "#    - Použije `time.perf_counter()` před a po volání `main_work_function` pro jednoduché měření.\n",
        "#    - Alternativně (pro demonstraci `timeit`) nastaví a zavolá `timeit.timeit` pro `main_work_function`.\n",
        "#      Uvědomí si komplexitu předávání argumentů a scope do `timeit`.\n",
        "#    - Vypíše změřený čas.\n",
        "# 5. Otestuje všechny části dohromady.\n"
      ],
      "metadata": {
        "colab": {
          "base_uri": "https://localhost:8080/"
        },
        "id": "MOUgfd8wSbK_",
        "outputId": "8c467c17-55df-4813-9913-65d2719e25d6"
      },
      "execution_count": null,
      "outputs": [
        {
          "output_type": "stream",
          "name": "stdout",
          "text": [
            "INFO: Skript spuštěn.\n",
            "INFO: Generuji dataset o velikosti 75...\n",
            "INFO: Spouštím hlavní funkci pro zpracování dat...\n"
          ]
        },
        {
          "output_type": "stream",
          "name": "stderr",
          "text": [
            "Zpracování datasetu:   9%|▉         | 7/75 [00:00<00:01, 62.30položka/s]"
          ]
        },
        {
          "output_type": "stream",
          "name": "stdout",
          "text": [
            "INFO: Processing item item_000 with value 724\n",
            "DEBUG: expensive_calculation for 724 resulted in 597.4690430825249\n",
            "DEBUG: Finished processing item item_000. Processed value: 597.4690430825249\n",
            "INFO: Processing item item_001 with value 1401\n",
            "DEBUG: expensive_calculation for 1401 resulted in 837.7387829091398\n",
            "DEBUG: Finished processing item item_001. Processed value: 837.7387829091398\n",
            "INFO: Processing item item_002 with value 1110\n",
            "DEBUG: expensive_calculation for 1110 resulted in 1062.8863468904392\n",
            "DEBUG: Finished processing item item_002. Processed value: 1062.8863468904392\n",
            "INFO: Processing item item_003 with value 975\n",
            "DEBUG: expensive_calculation for 975 resulted in 1202.5574167633115\n",
            "DEBUG: Finished processing item item_003. Processed value: 1202.5574167633115\n",
            "INFO: Processing item item_004 with value 1186\n",
            "DEBUG: expensive_calculation for 1186 resulted in 963.1455514408018\n",
            "DEBUG: Finished processing item item_004. Processed value: 963.1455514408018\n",
            "INFO: Processing item item_005 with value -288\n",
            "DEBUG: expensive_calculation for -288 resulted in -184.63106243271164\n",
            "DEBUG: Finished processing item item_005. Processed value: -184.63106243271164\n",
            "INFO: Processing item item_006 with value -126\n",
            "DEBUG: expensive_calculation for -126 resulted in -98.76407432170384\n",
            "DEBUG: Finished processing item item_006. Processed value: -98.76407432170384\n",
            "INFO: Processing item item_007 with value -401\n",
            "DEBUG: expensive_calculation for -401 resulted in -509.4558944799499\n",
            "DEBUG: Finished processing item item_007. Processed value: -509.4558944799499\n",
            "INFO: Processing item item_008 with value 751\n",
            "DEBUG: expensive_calculation for 751 resulted in 813.8902124895646\n",
            "DEBUG: Finished processing item item_008. Processed value: 813.8902124895646\n",
            "INFO: Zpracovává se položka 10/75: hodnota 43\n",
            "INFO: Processing item item_009 with value 43\n",
            "DEBUG: expensive_calculation for 43 resulted in 52.16139704934404\n",
            "DEBUG: Finished processing item item_009. Processed value: 52.16139704934404\n",
            "INFO: Processing item item_010 with value -312\n",
            "DEBUG: expensive_calculation for -312 resulted in -194.29967559112205\n",
            "DEBUG: Finished processing item item_010. Processed value: -194.29967559112205\n",
            "INFO: Processing item item_011 with value 1007\n",
            "DEBUG: expensive_calculation for 1007 resulted in 1356.8706693778147\n",
            "DEBUG: Finished processing item item_011. Processed value: 1356.8706693778147\n",
            "INFO: Processing item item_012 with value 1121\n",
            "DEBUG: expensive_calculation for 1121 resulted in 871.3507536506245\n"
          ]
        },
        {
          "output_type": "stream",
          "name": "stderr",
          "text": [
            "Zpracování datasetu:  28%|██▊       | 21/75 [00:00<00:00, 66.32položka/s]"
          ]
        },
        {
          "output_type": "stream",
          "name": "stdout",
          "text": [
            "DEBUG: Finished processing item item_012. Processed value: 871.3507536506245\n",
            "INFO: Processing item item_013 with value 891\n",
            "DEBUG: expensive_calculation for 891 resulted in 631.2846226218267\n",
            "DEBUG: Finished processing item item_013. Processed value: 631.2846226218267\n",
            "INFO: Processing item item_014 with value 817\n",
            "DEBUG: expensive_calculation for 817 resulted in 799.9738787454172\n",
            "DEBUG: Finished processing item item_014. Processed value: 799.9738787454172\n",
            "INFO: Processing item item_015 with value 871\n",
            "DEBUG: expensive_calculation for 871 resulted in 681.7352677462857\n",
            "DEBUG: Finished processing item item_015. Processed value: 681.7352677462857\n",
            "INFO: Processing item item_016 with value 1417\n",
            "DEBUG: expensive_calculation for 1417 resulted in 909.3241916612538\n",
            "DEBUG: Finished processing item item_016. Processed value: 909.3241916612538\n",
            "INFO: Processing item item_017 with value 36\n",
            "DEBUG: expensive_calculation for 36 resulted in 50.60845560102259\n",
            "DEBUG: Finished processing item item_017. Processed value: 50.60845560102259\n",
            "INFO: Processing item item_018 with value 1055\n",
            "DEBUG: expensive_calculation for 1055 resulted in 1060.1133679887664\n",
            "DEBUG: Finished processing item item_018. Processed value: 1060.1133679887664\n",
            "INFO: Zpracovává se položka 20/75: hodnota 784\n",
            "INFO: Processing item item_019 with value 784\n",
            "DEBUG: expensive_calculation for 784 resulted in 996.582214138822\n",
            "DEBUG: Finished processing item item_019. Processed value: 996.582214138822\n",
            "INFO: Processing item item_020 with value 413\n",
            "DEBUG: expensive_calculation for 413 resulted in 214.13689898956952\n",
            "DEBUG: Finished processing item item_020. Processed value: 214.13689898956952\n",
            "INFO: Processing item item_021 with value 237\n",
            "DEBUG: expensive_calculation for 237 resulted in 345.4533670441406\n",
            "DEBUG: Finished processing item item_021. Processed value: 345.4533670441406\n",
            "INFO: Processing item item_022 with value 1138\n",
            "DEBUG: expensive_calculation for 1138 resulted in 966.5970533918232\n",
            "DEBUG: Finished processing item item_022. Processed value: 966.5970533918232\n",
            "INFO: Processing item item_023 with value 1416\n",
            "DEBUG: expensive_calculation for 1416 resulted in 1459.6652992922366\n",
            "DEBUG: Finished processing item item_023. Processed value: 1459.6652992922366\n",
            "INFO: Processing item item_024 with value -278\n",
            "DEBUG: expensive_calculation for -278 resulted in -221.53086236208856\n",
            "DEBUG: Finished processing item item_024. Processed value: -221.53086236208856\n",
            "INFO: Processing item item_025 with value 543\n",
            "DEBUG: expensive_calculation for 543 resulted in 544.3227352661726\n",
            "DEBUG: Finished processing item item_025. Processed value: 544.3227352661726\n",
            "INFO: Processing item item_026 with value 34\n",
            "DEBUG: expensive_calculation for 34 resulted in 26.67826610080143\n"
          ]
        },
        {
          "output_type": "stream",
          "name": "stderr",
          "text": [
            "Zpracování datasetu:  47%|████▋     | 35/75 [00:00<00:00, 64.93položka/s]"
          ]
        },
        {
          "output_type": "stream",
          "name": "stdout",
          "text": [
            "DEBUG: Finished processing item item_026. Processed value: 26.67826610080143\n",
            "INFO: Processing item item_027 with value 1082\n",
            "DEBUG: expensive_calculation for 1082 resulted in 1162.7607537220206\n",
            "DEBUG: Finished processing item item_027. Processed value: 1162.7607537220206\n",
            "INFO: Processing item item_028 with value 859\n",
            "DEBUG: expensive_calculation for 859 resulted in 747.8045167964524\n",
            "DEBUG: Finished processing item item_028. Processed value: 747.8045167964524\n",
            "INFO: Zpracovává se položka 30/75: hodnota -374\n",
            "INFO: Processing item item_029 with value -374\n",
            "DEBUG: expensive_calculation for -374 resulted in -524.8712023416579\n",
            "DEBUG: Finished processing item item_029. Processed value: -524.8712023416579\n",
            "INFO: Processing item item_030 with value -242\n",
            "DEBUG: expensive_calculation for -242 resulted in -352.89341020433693\n",
            "DEBUG: Finished processing item item_030. Processed value: -352.89341020433693\n",
            "INFO: Processing item item_031 with value 650\n",
            "DEBUG: expensive_calculation for 650 resulted in 893.09880638914\n",
            "DEBUG: Finished processing item item_031. Processed value: 893.09880638914\n",
            "INFO: Processing item item_032 with value 617\n",
            "DEBUG: expensive_calculation for 617 resulted in 569.7538677720906\n",
            "DEBUG: Finished processing item item_032. Processed value: 569.7538677720906\n",
            "INFO: Processing item item_033 with value 1303\n",
            "DEBUG: expensive_calculation for 1303 resulted in 1488.5999286728982\n",
            "DEBUG: Finished processing item item_033. Processed value: 1488.5999286728982\n",
            "INFO: Processing item item_034 with value -340\n",
            "DEBUG: expensive_calculation for -340 resulted in -401.5548733835959\n",
            "DEBUG: Finished processing item item_034. Processed value: -401.5548733835959\n",
            "INFO: Processing item item_035 with value 1198\n",
            "DEBUG: expensive_calculation for 1198 resulted in 1431.2690656564698\n",
            "DEBUG: Finished processing item item_035. Processed value: 1431.2690656564698\n",
            "INFO: Processing item item_036 with value 499\n",
            "DEBUG: expensive_calculation for 499 resulted in 426.92487931140727\n",
            "DEBUG: Finished processing item item_036. Processed value: 426.92487931140727\n",
            "INFO: Processing item item_037 with value 1289\n",
            "DEBUG: expensive_calculation for 1289 resulted in 1314.8713945331795\n",
            "DEBUG: Finished processing item item_037. Processed value: 1314.8713945331795\n",
            "INFO: Processing item item_038 with value 1206\n",
            "DEBUG: expensive_calculation for 1206 resulted in 1155.0176049643903\n",
            "DEBUG: Finished processing item item_038. Processed value: 1155.0176049643903\n",
            "INFO: Zpracovává se položka 40/75: hodnota -454\n",
            "INFO: Processing item item_039 with value -454\n",
            "DEBUG: expensive_calculation for -454 resulted in -292.93727455669887\n"
          ]
        },
        {
          "output_type": "stream",
          "name": "stderr",
          "text": [
            "Zpracování datasetu:  65%|██████▌   | 49/75 [00:00<00:00, 62.03položka/s]"
          ]
        },
        {
          "output_type": "stream",
          "name": "stdout",
          "text": [
            "DEBUG: Finished processing item item_039. Processed value: -292.93727455669887\n",
            "INFO: Processing item item_040 with value 738\n",
            "DEBUG: expensive_calculation for 738 resulted in 573.0229179236786\n",
            "DEBUG: Finished processing item item_040. Processed value: 573.0229179236786\n",
            "INFO: Processing item item_041 with value 399\n",
            "DEBUG: expensive_calculation for 399 resulted in 397.79334894793067\n",
            "DEBUG: Finished processing item item_041. Processed value: 397.79334894793067\n",
            "INFO: Processing item item_042 with value -374\n",
            "DEBUG: expensive_calculation for -374 resulted in -196.00695158880745\n",
            "DEBUG: Finished processing item item_042. Processed value: -196.00695158880745\n",
            "INFO: Processing item item_043 with value -165\n",
            "DEBUG: expensive_calculation for -165 resulted in -188.45249632439587\n",
            "DEBUG: Finished processing item item_043. Processed value: -188.45249632439587\n",
            "INFO: Processing item item_044 with value 1116\n",
            "DEBUG: expensive_calculation for 1116 resulted in 1063.4083201659844\n",
            "DEBUG: Finished processing item item_044. Processed value: 1063.4083201659844\n",
            "INFO: Processing item item_045 with value -475\n",
            "DEBUG: expensive_calculation for -475 resulted in -268.00606184825716\n",
            "DEBUG: Finished processing item item_045. Processed value: -268.00606184825716\n",
            "INFO: Processing item item_046 with value 308\n",
            "DEBUG: expensive_calculation for 308 resulted in 353.749651673418\n",
            "DEBUG: Finished processing item item_046. Processed value: 353.749651673418\n",
            "INFO: Processing item item_047 with value 198\n",
            "DEBUG: expensive_calculation for 198 resulted in 158.97221302505804\n",
            "DEBUG: Finished processing item item_047. Processed value: 158.97221302505804\n",
            "INFO: Processing item item_048 with value 1385\n",
            "DEBUG: expensive_calculation for 1385 resulted in 820.5573137783971\n",
            "DEBUG: Finished processing item item_048. Processed value: 820.5573137783971\n",
            "INFO: Zpracovává se položka 50/75: hodnota 316\n",
            "INFO: Processing item item_049 with value 316\n",
            "DEBUG: expensive_calculation for 316 resulted in 464.37492900951764\n",
            "DEBUG: Finished processing item item_049. Processed value: 464.37492900951764\n",
            "INFO: Processing item item_050 with value 482\n",
            "DEBUG: expensive_calculation for 482 resulted in 628.8952487907194\n",
            "DEBUG: Finished processing item item_050. Processed value: 628.8952487907194\n",
            "INFO: Processing item item_051 with value 1497\n",
            "DEBUG: expensive_calculation for 1497 resulted in 1431.8881066643482\n",
            "DEBUG: Finished processing item item_051. Processed value: 1431.8881066643482\n",
            "INFO: Processing item item_052 with value 1276\n"
          ]
        },
        {
          "output_type": "stream",
          "name": "stderr",
          "text": [
            "Zpracování datasetu:  85%|████████▌ | 64/75 [00:00<00:00, 63.38položka/s]"
          ]
        },
        {
          "output_type": "stream",
          "name": "stdout",
          "text": [
            "DEBUG: expensive_calculation for 1276 resulted in 891.8866753714544\n",
            "DEBUG: Finished processing item item_052. Processed value: 891.8866753714544\n",
            "INFO: Processing item item_053 with value 1107\n",
            "DEBUG: expensive_calculation for 1107 resulted in 1245.7280430452736\n",
            "DEBUG: Finished processing item item_053. Processed value: 1245.7280430452736\n",
            "INFO: Processing item item_054 with value 820\n",
            "DEBUG: expensive_calculation for 820 resulted in 915.6421204399635\n",
            "DEBUG: Finished processing item item_054. Processed value: 915.6421204399635\n",
            "INFO: Processing item item_055 with value 546\n",
            "DEBUG: expensive_calculation for 546 resulted in 641.6590210940851\n",
            "DEBUG: Finished processing item item_055. Processed value: 641.6590210940851\n",
            "INFO: Processing item item_056 with value 419\n",
            "DEBUG: expensive_calculation for 419 resulted in 467.9100082805631\n",
            "DEBUG: Finished processing item item_056. Processed value: 467.9100082805631\n",
            "INFO: Processing item item_057 with value 953\n",
            "DEBUG: expensive_calculation for 953 resulted in 793.1177508207081\n",
            "DEBUG: Finished processing item item_057. Processed value: 793.1177508207081\n",
            "INFO: Processing item item_058 with value 1223\n",
            "DEBUG: expensive_calculation for 1223 resulted in 1079.1461168404023\n",
            "DEBUG: Finished processing item item_058. Processed value: 1079.1461168404023\n",
            "INFO: Zpracovává se položka 60/75: hodnota 84\n",
            "INFO: Processing item item_059 with value 84\n",
            "DEBUG: expensive_calculation for 84 resulted in 95.97424743433466\n",
            "DEBUG: Finished processing item item_059. Processed value: 95.97424743433466\n",
            "INFO: Processing item item_060 with value 966\n",
            "DEBUG: expensive_calculation for 966 resulted in 1137.815624313003\n",
            "DEBUG: Finished processing item item_060. Processed value: 1137.815624313003\n",
            "INFO: Processing item item_061 with value -229\n",
            "DEBUG: expensive_calculation for -229 resulted in -302.2150542644137\n",
            "DEBUG: Finished processing item item_061. Processed value: -302.2150542644137\n",
            "INFO: Processing item item_062 with value 151\n",
            "DEBUG: expensive_calculation for 151 resulted in 170.92350265564153\n",
            "DEBUG: Finished processing item item_062. Processed value: 170.92350265564153\n",
            "INFO: Processing item item_063 with value 375\n",
            "DEBUG: expensive_calculation for 375 resulted in 270.16984377933613\n",
            "DEBUG: Finished processing item item_063. Processed value: 270.16984377933613\n",
            "INFO: Processing item item_064 with value 651\n",
            "DEBUG: expensive_calculation for 651 resulted in 399.24617367103417\n",
            "DEBUG: Finished processing item item_064. Processed value: 399.24617367103417\n",
            "INFO: Processing item item_065 with value -3\n",
            "DEBUG: expensive_calculation for -3 resulted in -1.8471754810109757\n"
          ]
        },
        {
          "output_type": "stream",
          "name": "stderr",
          "text": [
            "Zpracování datasetu: 100%|██████████| 75/75 [00:01<00:00, 64.73položka/s]\n"
          ]
        },
        {
          "output_type": "stream",
          "name": "stdout",
          "text": [
            "DEBUG: Finished processing item item_065. Processed value: -1.8471754810109757\n",
            "INFO: Processing item item_066 with value 597\n",
            "DEBUG: expensive_calculation for 597 resulted in 503.0613196583706\n",
            "DEBUG: Finished processing item item_066. Processed value: 503.0613196583706\n",
            "INFO: Processing item item_067 with value 1005\n",
            "DEBUG: expensive_calculation for 1005 resulted in 1199.3100181408563\n",
            "DEBUG: Finished processing item item_067. Processed value: 1199.3100181408563\n",
            "INFO: Processing item item_068 with value 568\n",
            "DEBUG: expensive_calculation for 568 resulted in 357.2073922283247\n",
            "DEBUG: Finished processing item item_068. Processed value: 357.2073922283247\n",
            "INFO: Zpracovává se položka 70/75: hodnota 874\n",
            "INFO: Processing item item_069 with value 874\n",
            "DEBUG: expensive_calculation for 874 resulted in 542.6950311313085\n",
            "DEBUG: Finished processing item item_069. Processed value: 542.6950311313085\n",
            "INFO: Processing item item_070 with value -258\n",
            "DEBUG: expensive_calculation for -258 resulted in -351.0191818258197\n",
            "DEBUG: Finished processing item item_070. Processed value: -351.0191818258197\n",
            "INFO: Processing item item_071 with value 132\n",
            "DEBUG: expensive_calculation for 132 resulted in 156.66896077309357\n",
            "DEBUG: Finished processing item item_071. Processed value: 156.66896077309357\n",
            "INFO: Processing item item_072 with value 1182\n",
            "DEBUG: expensive_calculation for 1182 resulted in 1413.3484113936522\n",
            "DEBUG: Finished processing item item_072. Processed value: 1413.3484113936522\n",
            "INFO: Processing item item_073 with value 179\n",
            "DEBUG: expensive_calculation for 179 resulted in 165.44042425387116\n",
            "DEBUG: Finished processing item item_073. Processed value: 165.44042425387116\n",
            "INFO: Processing item item_074 with value 279\n",
            "DEBUG: expensive_calculation for 279 resulted in 413.21980876011327\n",
            "DEBUG: Finished processing item item_074. Processed value: 413.21980876011327\n",
            "\n",
            "--- Měření pomocí time.perf_counter() ---\n",
            "Doba trvání main_work_function: 1.1623 sekund.\n",
            "\n",
            "--- Měření pomocí timeit.timeit (number=1) ---\n"
          ]
        },
        {
          "output_type": "stream",
          "name": "stderr",
          "text": [
            "\rZpracování datasetu:   0%|          | 0/75 [00:00<?, ?položka/s]"
          ]
        },
        {
          "output_type": "stream",
          "name": "stdout",
          "text": [
            "INFO: Processing item item_000 with value 958\n",
            "DEBUG: expensive_calculation for 958 resulted in 1014.4625343154439\n",
            "DEBUG: Finished processing item item_000. Processed value: 1014.4625343154439\n",
            "INFO: Processing item item_001 with value 1093\n",
            "DEBUG: expensive_calculation for 1093 resulted in 583.1681117401275\n",
            "DEBUG: Finished processing item item_001. Processed value: 583.1681117401275\n",
            "INFO: Processing item item_002 with value 1096\n",
            "DEBUG: expensive_calculation for 1096 resulted in 1295.616533858162\n",
            "DEBUG: Finished processing item item_002. Processed value: 1295.616533858162\n",
            "INFO: Processing item item_003 with value -293\n",
            "DEBUG: expensive_calculation for -293 resulted in -264.7961671948587\n",
            "DEBUG: Finished processing item item_003. Processed value: -264.7961671948587\n",
            "INFO: Processing item item_004 with value 868\n",
            "DEBUG: expensive_calculation for 868 resulted in 545.5120074738877\n",
            "DEBUG: Finished processing item item_004. Processed value: 545.5120074738877\n",
            "INFO: Processing item item_005 with value 1104\n"
          ]
        },
        {
          "output_type": "stream",
          "name": "stderr",
          "text": [
            "\rZpracování datasetu:  11%|█         | 8/75 [00:00<00:00, 73.45položka/s]"
          ]
        },
        {
          "output_type": "stream",
          "name": "stdout",
          "text": [
            "DEBUG: expensive_calculation for 1104 resulted in 736.7533766646545\n",
            "DEBUG: Finished processing item item_005. Processed value: 736.7533766646545\n",
            "INFO: Processing item item_006 with value 138\n",
            "DEBUG: expensive_calculation for 138 resulted in 113.24119955010065\n",
            "DEBUG: Finished processing item item_006. Processed value: 113.24119955010065\n",
            "INFO: Processing item item_007 with value 338\n",
            "DEBUG: expensive_calculation for 338 resulted in 453.88876897589734\n",
            "DEBUG: Finished processing item item_007. Processed value: 453.88876897589734\n",
            "INFO: Processing item item_008 with value 1347\n",
            "DEBUG: expensive_calculation for 1347 resulted in 1581.7317094540379\n",
            "DEBUG: Finished processing item item_008. Processed value: 1581.7317094540379\n",
            "INFO: Zpracovává se položka 10/75: hodnota 66\n",
            "INFO: Processing item item_009 with value 66\n",
            "DEBUG: expensive_calculation for 66 resulted in 57.003255214083495\n",
            "DEBUG: Finished processing item item_009. Processed value: 57.003255214083495\n",
            "INFO: Processing item item_010 with value 276\n",
            "DEBUG: expensive_calculation for 276 resulted in 206.06403087223197\n",
            "DEBUG: Finished processing item item_010. Processed value: 206.06403087223197\n",
            "INFO: Processing item item_011 with value 577\n",
            "DEBUG: expensive_calculation for 577 resulted in 540.1577244278104\n",
            "DEBUG: Finished processing item item_011. Processed value: 540.1577244278104\n",
            "INFO: Processing item item_012 with value -378\n",
            "DEBUG: expensive_calculation for -378 resulted in -324.2906504454679\n",
            "DEBUG: Finished processing item item_012. Processed value: -324.2906504454679\n",
            "INFO: Processing item item_013 with value -151\n",
            "DEBUG: expensive_calculation for -151 resulted in -76.6510958633526\n",
            "DEBUG: Finished processing item item_013. Processed value: -76.6510958633526\n",
            "INFO: Processing item item_014 with value -121\n"
          ]
        },
        {
          "output_type": "stream",
          "name": "stderr",
          "text": [
            "\rZpracování datasetu:  21%|██▏       | 16/75 [00:00<00:00, 69.10položka/s]"
          ]
        },
        {
          "output_type": "stream",
          "name": "stdout",
          "text": [
            "DEBUG: expensive_calculation for -121 resulted in -139.5710970575453\n",
            "DEBUG: Finished processing item item_014. Processed value: -139.5710970575453\n",
            "INFO: Processing item item_015 with value 1272\n",
            "DEBUG: expensive_calculation for 1272 resulted in 1894.9375705250443\n",
            "DEBUG: Finished processing item item_015. Processed value: 1894.9375705250443\n",
            "INFO: Processing item item_016 with value 1093\n",
            "DEBUG: expensive_calculation for 1093 resulted in 1253.1064131677063\n",
            "DEBUG: Finished processing item item_016. Processed value: 1253.1064131677063\n",
            "INFO: Processing item item_017 with value 666\n",
            "DEBUG: expensive_calculation for 666 resulted in 900.7970835749519\n",
            "DEBUG: Finished processing item item_017. Processed value: 900.7970835749519\n",
            "INFO: Processing item item_018 with value 1384\n",
            "DEBUG: expensive_calculation for 1384 resulted in 847.4526083922748\n",
            "DEBUG: Finished processing item item_018. Processed value: 847.4526083922748\n",
            "INFO: Zpracovává se položka 20/75: hodnota 424\n",
            "INFO: Processing item item_019 with value 424\n",
            "DEBUG: expensive_calculation for 424 resulted in 549.8771004518281\n"
          ]
        },
        {
          "output_type": "stream",
          "name": "stderr",
          "text": [
            "\rZpracování datasetu:  32%|███▏      | 24/75 [00:00<00:00, 70.62položka/s]"
          ]
        },
        {
          "output_type": "stream",
          "name": "stdout",
          "text": [
            "DEBUG: Finished processing item item_019. Processed value: 549.8771004518281\n",
            "INFO: Processing item item_020 with value 639\n",
            "DEBUG: expensive_calculation for 639 resulted in 675.4754458772777\n",
            "DEBUG: Finished processing item item_020. Processed value: 675.4754458772777\n",
            "INFO: Processing item item_021 with value 660\n",
            "DEBUG: expensive_calculation for 660 resulted in 832.6520875912736\n",
            "DEBUG: Finished processing item item_021. Processed value: 832.6520875912736\n",
            "INFO: Processing item item_022 with value 54\n",
            "DEBUG: expensive_calculation for 54 resulted in 70.41369173805735\n",
            "DEBUG: Finished processing item item_022. Processed value: 70.41369173805735\n",
            "INFO: Processing item item_023 with value 982\n",
            "DEBUG: expensive_calculation for 982 resulted in 664.3601441991848\n",
            "DEBUG: Finished processing item item_023. Processed value: 664.3601441991848\n",
            "INFO: Processing item item_024 with value 530\n",
            "DEBUG: expensive_calculation for 530 resulted in 416.9185096554869\n",
            "DEBUG: Finished processing item item_024. Processed value: 416.9185096554869\n",
            "INFO: Processing item item_025 with value -462\n",
            "DEBUG: expensive_calculation for -462 resulted in -454.2306857882349\n",
            "DEBUG: Finished processing item item_025. Processed value: -454.2306857882349\n",
            "INFO: Processing item item_026 with value 337\n",
            "DEBUG: expensive_calculation for 337 resulted in 332.5575557665181\n",
            "DEBUG: Finished processing item item_026. Processed value: 332.5575557665181\n",
            "INFO: Processing item item_027 with value 787\n",
            "DEBUG: expensive_calculation for 787 resulted in 733.0136569638978\n",
            "DEBUG: Finished processing item item_027. Processed value: 733.0136569638978\n",
            "INFO: Processing item item_028 with value 1133\n",
            "DEBUG: expensive_calculation for 1133 resulted in 631.9005156395509\n",
            "DEBUG: Finished processing item item_028. Processed value: 631.9005156395509\n",
            "INFO: Zpracovává se položka 30/75: hodnota 1493\n",
            "INFO: Processing item item_029 with value 1493\n"
          ]
        },
        {
          "output_type": "stream",
          "name": "stderr",
          "text": [
            "\rZpracování datasetu:  43%|████▎     | 32/75 [00:00<00:00, 70.83položka/s]"
          ]
        },
        {
          "output_type": "stream",
          "name": "stdout",
          "text": [
            "DEBUG: expensive_calculation for 1493 resulted in 1485.990763366165\n",
            "DEBUG: Finished processing item item_029. Processed value: 1485.990763366165\n",
            "INFO: Processing item item_030 with value -466\n",
            "DEBUG: expensive_calculation for -466 resulted in -576.1941612592253\n",
            "DEBUG: Finished processing item item_030. Processed value: -576.1941612592253\n",
            "INFO: Processing item item_031 with value 14\n",
            "DEBUG: expensive_calculation for 14 resulted in 12.920197260734883\n",
            "DEBUG: Finished processing item item_031. Processed value: 12.920197260734883\n",
            "INFO: Processing item item_032 with value 1142\n",
            "DEBUG: expensive_calculation for 1142 resulted in 1503.7432881610466\n",
            "DEBUG: Finished processing item item_032. Processed value: 1503.7432881610466\n",
            "INFO: Processing item item_033 with value 561\n",
            "DEBUG: expensive_calculation for 561 resulted in 512.8627026181812\n",
            "DEBUG: Finished processing item item_033. Processed value: 512.8627026181812\n",
            "INFO: Processing item item_034 with value -34\n"
          ]
        },
        {
          "output_type": "stream",
          "name": "stderr",
          "text": [
            "\rZpracování datasetu:  53%|█████▎    | 40/75 [00:00<00:00, 70.89položka/s]"
          ]
        },
        {
          "output_type": "stream",
          "name": "stdout",
          "text": [
            "DEBUG: expensive_calculation for -34 resulted in -34.80342644167627\n",
            "DEBUG: Finished processing item item_034. Processed value: -34.80342644167627\n",
            "INFO: Processing item item_035 with value 1354\n",
            "DEBUG: expensive_calculation for 1354 resulted in 1496.3230712167162\n",
            "DEBUG: Finished processing item item_035. Processed value: 1496.3230712167162\n",
            "INFO: Processing item item_036 with value 197\n",
            "DEBUG: expensive_calculation for 197 resulted in 248.8479762051071\n",
            "DEBUG: Finished processing item item_036. Processed value: 248.8479762051071\n",
            "INFO: Processing item item_037 with value 359\n",
            "DEBUG: expensive_calculation for 359 resulted in 525.0121282303162\n",
            "DEBUG: Finished processing item item_037. Processed value: 525.0121282303162\n",
            "INFO: Processing item item_038 with value 891\n",
            "DEBUG: expensive_calculation for 891 resulted in 1269.638107878304\n",
            "DEBUG: Finished processing item item_038. Processed value: 1269.638107878304\n",
            "INFO: Zpracovává se položka 40/75: hodnota 1187\n",
            "INFO: Processing item item_039 with value 1187\n",
            "DEBUG: expensive_calculation for 1187 resulted in 972.0446892864037\n",
            "DEBUG: Finished processing item item_039. Processed value: 972.0446892864037\n",
            "INFO: Processing item item_040 with value 1133\n",
            "DEBUG: expensive_calculation for 1133 resulted in 1435.4345143425078\n",
            "DEBUG: Finished processing item item_040. Processed value: 1435.4345143425078\n",
            "INFO: Processing item item_041 with value 748\n",
            "DEBUG: expensive_calculation for 748 resulted in 602.5487659447354\n",
            "DEBUG: Finished processing item item_041. Processed value: 602.5487659447354\n",
            "INFO: Processing item item_042 with value 406\n",
            "DEBUG: expensive_calculation for 406 resulted in 357.8150687392176\n",
            "DEBUG: Finished processing item item_042. Processed value: 357.8150687392176\n",
            "INFO: Processing item item_043 with value 1352\n",
            "DEBUG: expensive_calculation for 1352 resulted in 1666.6408224542856\n"
          ]
        },
        {
          "output_type": "stream",
          "name": "stderr",
          "text": [
            "\rZpracování datasetu:  64%|██████▍   | 48/75 [00:00<00:00, 69.95položka/s]"
          ]
        },
        {
          "output_type": "stream",
          "name": "stdout",
          "text": [
            "DEBUG: Finished processing item item_043. Processed value: 1666.6408224542856\n",
            "INFO: Processing item item_044 with value -160\n",
            "DEBUG: expensive_calculation for -160 resulted in -230.7365312412183\n",
            "DEBUG: Finished processing item item_044. Processed value: -230.7365312412183\n",
            "INFO: Processing item item_045 with value 1440\n",
            "DEBUG: expensive_calculation for 1440 resulted in 1628.6856912895682\n",
            "DEBUG: Finished processing item item_045. Processed value: 1628.6856912895682\n",
            "INFO: Processing item item_046 with value 4\n",
            "DEBUG: expensive_calculation for 4 resulted in 7.184360258640976\n",
            "DEBUG: Finished processing item item_046. Processed value: 7.184360258640976\n",
            "INFO: Processing item item_047 with value 1074\n",
            "DEBUG: expensive_calculation for 1074 resulted in 1492.878537609446\n",
            "DEBUG: Finished processing item item_047. Processed value: 1492.878537609446\n",
            "INFO: Processing item item_048 with value -326\n",
            "DEBUG: expensive_calculation for -326 resulted in -307.6728132702491\n"
          ]
        },
        {
          "output_type": "stream",
          "name": "stderr",
          "text": [
            "\rZpracování datasetu:  75%|███████▍  | 56/75 [00:00<00:00, 72.31položka/s]"
          ]
        },
        {
          "output_type": "stream",
          "name": "stdout",
          "text": [
            "DEBUG: Finished processing item item_048. Processed value: -307.6728132702491\n",
            "INFO: Zpracovává se položka 50/75: hodnota 1429\n",
            "INFO: Processing item item_049 with value 1429\n",
            "DEBUG: expensive_calculation for 1429 resulted in 1130.1736663858965\n",
            "DEBUG: Finished processing item item_049. Processed value: 1130.1736663858965\n",
            "INFO: Processing item item_050 with value 604\n",
            "DEBUG: expensive_calculation for 604 resulted in 520.6033081925702\n",
            "DEBUG: Finished processing item item_050. Processed value: 520.6033081925702\n",
            "INFO: Processing item item_051 with value -421\n",
            "DEBUG: expensive_calculation for -421 resulted in -624.2326984472121\n",
            "DEBUG: Finished processing item item_051. Processed value: -624.2326984472121\n",
            "INFO: Processing item item_052 with value 783\n",
            "DEBUG: expensive_calculation for 783 resulted in 739.7901005600166\n",
            "DEBUG: Finished processing item item_052. Processed value: 739.7901005600166\n",
            "INFO: Processing item item_053 with value 539\n",
            "DEBUG: expensive_calculation for 539 resulted in 810.4469286506834\n",
            "DEBUG: Finished processing item item_053. Processed value: 810.4469286506834\n",
            "INFO: Processing item item_054 with value 249\n",
            "DEBUG: expensive_calculation for 249 resulted in 182.79119242898037\n",
            "DEBUG: Finished processing item item_054. Processed value: 182.79119242898037\n",
            "INFO: Processing item item_055 with value 793\n",
            "DEBUG: expensive_calculation for 793 resulted in 634.6864041234454\n",
            "DEBUG: Finished processing item item_055. Processed value: 634.6864041234454\n",
            "INFO: Processing item item_056 with value 408\n",
            "DEBUG: expensive_calculation for 408 resulted in 499.3346511567249\n",
            "DEBUG: Finished processing item item_056. Processed value: 499.3346511567249\n",
            "INFO: Processing item item_057 with value 426\n",
            "DEBUG: expensive_calculation for 426 resulted in 227.49111975022456\n",
            "DEBUG: Finished processing item item_057. Processed value: 227.49111975022456\n",
            "INFO: Processing item item_058 with value 438\n",
            "DEBUG: expensive_calculation for 438 resulted in 289.91559748129856\n",
            "DEBUG: Finished processing item item_058. Processed value: 289.91559748129856\n",
            "INFO: Zpracovává se položka 60/75: hodnota 1303\n",
            "INFO: Processing item item_059 with value 1303\n",
            "DEBUG: expensive_calculation for 1303 resulted in 1611.579589683993\n",
            "DEBUG: Finished processing item item_059. Processed value: 1611.579589683993\n",
            "INFO: Processing item item_060 with value 297\n",
            "DEBUG: expensive_calculation for 297 resulted in 335.6857039612272\n",
            "DEBUG: Finished processing item item_060. Processed value: 335.6857039612272\n",
            "INFO: Processing item item_061 with value 1388\n",
            "DEBUG: expensive_calculation for 1388 resulted in 1745.2975715704508\n",
            "DEBUG: Finished processing item item_061. Processed value: 1745.2975715704508\n",
            "INFO: Processing item item_062 with value 538\n",
            "DEBUG: expensive_calculation for 538 resulted in 280.4899072759866\n",
            "DEBUG: Finished processing item item_062. Processed value: 280.4899072759866\n",
            "INFO: Processing item item_063 with value 566\n",
            "DEBUG: expensive_calculation for 566 resulted in 615.9536746271959\n"
          ]
        },
        {
          "output_type": "stream",
          "name": "stderr",
          "text": [
            "\rZpracování datasetu:  85%|████████▌ | 64/75 [00:00<00:00, 71.38položka/s]"
          ]
        },
        {
          "output_type": "stream",
          "name": "stdout",
          "text": [
            "DEBUG: Finished processing item item_063. Processed value: 615.9536746271959\n",
            "INFO: Processing item item_064 with value 1184\n",
            "DEBUG: expensive_calculation for 1184 resulted in 1239.9870897469948\n",
            "DEBUG: Finished processing item item_064. Processed value: 1239.9870897469948\n",
            "INFO: Processing item item_065 with value 1462\n",
            "DEBUG: expensive_calculation for 1462 resulted in 1299.9916685387825\n",
            "DEBUG: Finished processing item item_065. Processed value: 1299.9916685387825\n",
            "INFO: Processing item item_066 with value 1225\n",
            "DEBUG: expensive_calculation for 1225 resulted in 692.9561545297471\n",
            "DEBUG: Finished processing item item_066. Processed value: 692.9561545297471\n",
            "INFO: Processing item item_067 with value -85\n",
            "DEBUG: expensive_calculation for -85 resulted in -70.19330156996466\n",
            "DEBUG: Finished processing item item_067. Processed value: -70.19330156996466\n",
            "INFO: Processing item item_068 with value 937\n",
            "DEBUG: expensive_calculation for 937 resulted in 684.2738489399003\n",
            "DEBUG: Finished processing item item_068. Processed value: 684.2738489399003\n",
            "INFO: Zpracovává se položka 70/75: hodnota 1164\n",
            "INFO: Processing item item_069 with value 1164\n",
            "DEBUG: expensive_calculation for 1164 resulted in 747.5464016396539\n",
            "DEBUG: Finished processing item item_069. Processed value: 747.5464016396539\n",
            "INFO: Processing item item_070 with value 833\n",
            "DEBUG: expensive_calculation for 833 resulted in 732.7922285729013\n",
            "DEBUG: Finished processing item item_070. Processed value: 732.7922285729013\n",
            "INFO: Processing item item_071 with value 1200\n",
            "DEBUG: expensive_calculation for 1200 resulted in 887.9651655456275\n"
          ]
        },
        {
          "output_type": "stream",
          "name": "stderr",
          "text": [
            "Zpracování datasetu: 100%|██████████| 75/75 [00:01<00:00, 69.83položka/s]"
          ]
        },
        {
          "output_type": "stream",
          "name": "stdout",
          "text": [
            "DEBUG: Finished processing item item_071. Processed value: 887.9651655456275\n",
            "INFO: Processing item item_072 with value 474\n",
            "DEBUG: expensive_calculation for 474 resulted in 444.4185359727454\n",
            "DEBUG: Finished processing item item_072. Processed value: 444.4185359727454\n",
            "INFO: Processing item item_073 with value 1391\n",
            "DEBUG: expensive_calculation for 1391 resulted in 783.847751408346\n",
            "DEBUG: Finished processing item item_073. Processed value: 783.847751408346\n",
            "INFO: Processing item item_074 with value 518\n",
            "DEBUG: expensive_calculation for 518 resulted in 780.4128036488044\n",
            "DEBUG: Finished processing item item_074. Processed value: 780.4128036488044\n",
            "Doba trvání main_work_function (měřeno timeit, 1 spuštění): 1.0771 sekund.\n",
            "\n",
            "INFO: Zpracování (měřeno perf_counter) dokončeno za 1.16 sekund.\n",
            "INFO: Počet zpracovaných výsledků: 75\n",
            "Ukázka prvního výsledku: {'id': 'item_000', 'original': 724, 'processed': 597.47}\n",
            "INFO: Skript dokončen.\n"
          ]
        },
        {
          "output_type": "stream",
          "name": "stderr",
          "text": [
            "\n"
          ]
        }
      ]
    },
    {
      "cell_type": "markdown",
      "source": [
        "## 3 Paralelizace"
      ],
      "metadata": {
        "id": "XnhlTU5Pltvt"
      }
    },
    {
      "cell_type": "markdown",
      "source": [
        "### 3.1 Threading"
      ],
      "metadata": {
        "id": "i3QgmI7jrtqW"
      }
    },
    {
      "cell_type": "code",
      "source": [
        "import threading\n",
        "\n",
        "\n",
        "def iterate_print(iter):\n",
        "    # A function prints the elements of a list\n",
        "    for item in iter:\n",
        "        print(item)"
      ],
      "metadata": {
        "id": "pS3OGmi3lwq2"
      },
      "execution_count": null,
      "outputs": []
    },
    {
      "cell_type": "code",
      "source": [
        "my_list = [\"jablko\", \"mrkev\", \"lilek\"]\n",
        "iterate_print(my_list)"
      ],
      "metadata": {
        "colab": {
          "base_uri": "https://localhost:8080/"
        },
        "id": "ZqySHNSvl06G",
        "outputId": "775180c1-f5f5-4937-8499-ede127f11a1c"
      },
      "execution_count": null,
      "outputs": [
        {
          "output_type": "stream",
          "name": "stdout",
          "text": [
            "jablko\n",
            "mrkev\n",
            "lilek\n"
          ]
        }
      ]
    },
    {
      "cell_type": "code",
      "source": [
        "%timeit\n",
        "# creating threads\n",
        "t1 = threading.Thread(target=iterate_print, args=(range(5),))  # writing out successive natural numbers\n",
        "t2 = threading.Thread(target=iterate_print, args=(my_list,))  # writing the characters of the string\n",
        "\n",
        "# starting threads\n",
        "t1.start()\n",
        "t2.start()\n",
        "\n",
        "# waiting until both threads have finished executing before executing further code\n",
        "t1.join()\n",
        "t2.join()\n",
        "\n"
      ],
      "metadata": {
        "colab": {
          "base_uri": "https://localhost:8080/"
        },
        "id": "FfKFQCdpl9Vt",
        "outputId": "5735bac2-05b1-4ad4-8575-b861d9f3877d"
      },
      "execution_count": null,
      "outputs": [
        {
          "output_type": "stream",
          "name": "stdout",
          "text": [
            "0\n",
            "1\n",
            "2\n",
            "3\n",
            "4\n",
            "jablko\n",
            "mrkev\n",
            "lilek\n"
          ]
        }
      ]
    },
    {
      "cell_type": "code",
      "source": [
        "t1 = threading.Thread(target=iterate_print, args=(range(5),))  # writing out successive natural numbers\n",
        "t2 = threading.Thread(target=iterate_print, args=(my_list,))"
      ],
      "metadata": {
        "id": "c64x7Q7mnJCg"
      },
      "execution_count": null,
      "outputs": []
    },
    {
      "cell_type": "code",
      "source": [
        "for element in [range(5), my_list]:\n",
        "  for item in element:\n",
        "    print(item)\n",
        "print(\"Done!\")\n"
      ],
      "metadata": {
        "colab": {
          "base_uri": "https://localhost:8080/"
        },
        "id": "68ru-ecymKLa",
        "outputId": "81a1a724-7114-4b56-aea8-640b33b1d98c"
      },
      "execution_count": null,
      "outputs": [
        {
          "output_type": "stream",
          "name": "stdout",
          "text": [
            "0\n",
            "1\n",
            "2\n",
            "3\n",
            "4\n",
            "jablko\n",
            "mrkev\n",
            "lilek\n",
            "Done!\n"
          ]
        }
      ]
    },
    {
      "cell_type": "code",
      "source": [
        "import threading\n",
        "import time\n",
        "\n",
        "\n",
        "class ThreadWithReturnValue(threading.Thread):\n",
        "  \"\"\"\n",
        "\n",
        "  \"\"\"\n",
        "  def __init__(self, target, args=(), kwargs=None):\n",
        "      if kwargs is None:\n",
        "          kwargs = {}\n",
        "      self.target = target\n",
        "      self.args = args\n",
        "      self.kwargs = kwargs\n",
        "      super().__init__()\n",
        "\n",
        "  def run(self):\n",
        "      self.result = self.target(*self.args, **self.kwargs)\n",
        "\n",
        "  def join(self, timeout=None):\n",
        "      super().join(timeout)\n",
        "      return self.result\n"
      ],
      "metadata": {
        "id": "5Y0dgoT4mzox"
      },
      "execution_count": null,
      "outputs": []
    },
    {
      "cell_type": "code",
      "source": [
        "\n",
        "def print_cube(num):\n",
        "    # A function that returns the third power of a number given as a parameter\n",
        "    time.sleep(5)\n",
        "    print(f\"Cube: {num * num * num}\")\n",
        "\n",
        "\n",
        "def print_square(num):\n",
        "    # A function that returns the square of the number given as a parameter\n",
        "    time.sleep(5)\n",
        "    return num * num"
      ],
      "metadata": {
        "id": "B8290i1Vn8gJ"
      },
      "execution_count": null,
      "outputs": []
    },
    {
      "cell_type": "code",
      "source": [
        "# creating threads\n",
        "t1 = ThreadWithReturnValue(target=print_square, args=(10,))\n",
        "t2 = threading.Thread(target=print_cube, args=(10,))\n",
        "\n",
        "# starting threads\n",
        "t1.start()\n",
        "t2.start()\n",
        "\n",
        "# waiting until both threads have finished executing before executing further code\n",
        "print(t1.join())\n",
        "t2.join()\n",
        "\n",
        "print(\"Done!\")"
      ],
      "metadata": {
        "colab": {
          "base_uri": "https://localhost:8080/"
        },
        "id": "3Xw8hn9ynu9t",
        "outputId": "010eedd6-51db-4643-d72b-f7820d4f0841"
      },
      "execution_count": null,
      "outputs": [
        {
          "output_type": "stream",
          "name": "stdout",
          "text": [
            "100\n",
            "Cube: 1000\n",
            "Done!\n"
          ]
        }
      ]
    },
    {
      "cell_type": "markdown",
      "source": [
        "Zjednoduseni:\n",
        "- pokud program neprovadi zadne vypocty lokalne, spise ocekava odpoved z webove stranky, vyplati se multithreading\n",
        "- pokud se jedna o vypocetne narocnou operaci, hodi se multiprocessing"
      ],
      "metadata": {
        "id": "1vNhNxrMrX7b"
      }
    },
    {
      "cell_type": "code",
      "source": [
        "import timeit\n",
        "import requests\n",
        "\n",
        "\n",
        "def crawl(url, dest):\n",
        "  #Funkce posila requests na webovou stranku (argument url), dostava odpoved kterou uklads do souboru, ktery se jmenuje podle argumentu dest\"\"\"\n",
        "    try:\n",
        "        result = requests.get(url).text\n",
        "        with open(dest, \"a\") as f:\n",
        "            f.write(result)\n",
        "\n",
        "    except requests.exceptions.RequestException:\n",
        "        print(\"Error with URL check!\")\n",
        "\n",
        "\n",
        "def wo_threading_func(urls):\n",
        "    # jednoducha funkce bez paralelizace\n",
        "    for url in urls:\n",
        "        crawl(url, \"without_threads.txt\")\n",
        "\n",
        "\n",
        "def with_threading_func(urls):\n",
        "  # paralelizovana podoba stejne funkce\n",
        "    import threading\n",
        "\n",
        "    threads = []\n",
        "    for url in urls:\n",
        "        th = threading.Thread(target=crawl, args=(url, \"with_threads.txt\"))\n",
        "        th.start()\n",
        "        threads.append(th)\n",
        "\n",
        "    for th in threads:\n",
        "        th.join()\n"
      ],
      "metadata": {
        "id": "YKL5Qxjrn-kW"
      },
      "execution_count": null,
      "outputs": []
    },
    {
      "cell_type": "code",
      "source": [
        "wo_threading = \"wo_threading_func(urls)\"\n",
        "with_threading = \"with_threading_func(urls)\"\n",
        "\n",
        "setup = '''\n",
        "from __main__ import wo_threading_func, with_threading_func\n",
        "\n",
        "urls = [\n",
        "    \"https://jsonplaceholder.typicode.com/comments/1\",\n",
        "    \"https://jsonplaceholder.typicode.com/comments/2\",\n",
        "    \"https://jsonplaceholder.typicode.com/comments/3\"\n",
        "]\n",
        "    '''\n",
        "\n",
        "print(\"Without threads:\", timeit.timeit(stmt=wo_threading,\n",
        "                                        setup=setup,\n",
        "                                        number=100))\n",
        "print(\"With threads:\", timeit.timeit(stmt=with_threading,\n",
        "                                      setup=setup,\n",
        "                                      number=100))"
      ],
      "metadata": {
        "colab": {
          "base_uri": "https://localhost:8080/"
        },
        "id": "2uSWacp4oqwJ",
        "outputId": "a9c311a6-1a83-4973-9c5f-46beb70a2b6d"
      },
      "execution_count": null,
      "outputs": [
        {
          "output_type": "stream",
          "name": "stdout",
          "text": [
            "Without threads: 10.738111239999853\n",
            "With threads: 4.904650167998625\n"
          ]
        }
      ]
    },
    {
      "cell_type": "markdown",
      "source": [
        "Upozorneni: V pripade paralelizace (multithreadingu i multiprocessingu) muze dojit k tomu, ze nektere ukony (=task) se vykonaji drive, nez jine, a proto ve vyslednem objektu (zde napriklad txt soubor) budou ruzne razeny"
      ],
      "metadata": {
        "id": "vrs8qc15sTLL"
      }
    },
    {
      "cell_type": "code",
      "source": [
        "import timeit\n",
        "\n",
        "\n",
        "def count(_from, _to):\n",
        "  # odecita -1 v ramci daneho rozmezi\n",
        "    while _from >= _to:\n",
        "        _from -= 1\n",
        "\n",
        "\n",
        "def wo_threading_func():\n",
        "  # aplikuje funkci bez paralelizace (multithreading)\n",
        "    count(400000, 0)\n",
        "\n",
        "\n",
        "def with_threading_func():\n",
        "  # paralelizuje funkci pomoci multithreadingu\n",
        "    import threading\n",
        "\n",
        "    t1 = threading.Thread(target=count, args=(400000, 200000))\n",
        "    t2 = threading.Thread(target=count, args=(200000, 0))\n",
        "\n",
        "    t1.start()\n",
        "    t2.start()\n",
        "\n",
        "    t1.join()\n",
        "    t2.join()"
      ],
      "metadata": {
        "id": "0ZUh17HHsn8i"
      },
      "execution_count": null,
      "outputs": []
    },
    {
      "cell_type": "code",
      "source": [
        "%%timeit\n",
        "wo_threading_func()"
      ],
      "metadata": {
        "colab": {
          "base_uri": "https://localhost:8080/"
        },
        "id": "C5TzkfIRwDUy",
        "outputId": "f4e661dd-f296-4fb4-f7a5-850c99c9fd1f"
      },
      "execution_count": null,
      "outputs": [
        {
          "output_type": "stream",
          "name": "stdout",
          "text": [
            "15.1 ms ± 3.63 ms per loop (mean ± std. dev. of 7 runs, 100 loops each)\n"
          ]
        }
      ]
    },
    {
      "cell_type": "code",
      "source": [
        "%%timeit\n",
        "for i in range(5):\n",
        "  time.sleep(.001)"
      ],
      "metadata": {
        "colab": {
          "base_uri": "https://localhost:8080/"
        },
        "id": "7iYhQFlD1Ha6",
        "outputId": "f53ab0de-91d9-4cef-a238-9d8024cecfc4"
      },
      "execution_count": null,
      "outputs": [
        {
          "output_type": "stream",
          "name": "stdout",
          "text": [
            "5.47 ms ± 95 µs per loop (mean ± std. dev. of 7 runs, 100 loops each)\n"
          ]
        }
      ]
    },
    {
      "cell_type": "code",
      "source": [
        "%%timeit\n",
        "with_threading_func()"
      ],
      "metadata": {
        "colab": {
          "base_uri": "https://localhost:8080/"
        },
        "id": "Db-aHR_lwOVg",
        "outputId": "52f1e555-8d50-404a-bc8e-25ed99dc4faa"
      },
      "execution_count": null,
      "outputs": [
        {
          "output_type": "stream",
          "name": "stdout",
          "text": [
            "17.7 ms ± 5.16 ms per loop (mean ± std. dev. of 7 runs, 100 loops each)\n"
          ]
        }
      ]
    },
    {
      "cell_type": "code",
      "source": [],
      "metadata": {
        "id": "4zxNMElGwYj4"
      },
      "execution_count": null,
      "outputs": []
    },
    {
      "cell_type": "markdown",
      "source": [
        "### 3.2 Multiprocessing"
      ],
      "metadata": {
        "id": "JTNGJ_S7yRdT"
      }
    },
    {
      "cell_type": "code",
      "source": [
        "# jak zjistim, kolik ma muj procesor jader\n",
        "import os\n",
        "os.cpu_count()"
      ],
      "metadata": {
        "colab": {
          "base_uri": "https://localhost:8080/"
        },
        "id": "GAo5CJyGytB2",
        "outputId": "e851c174-4bce-4c25-ce1f-430a9cef10f4"
      },
      "execution_count": null,
      "outputs": [
        {
          "output_type": "execute_result",
          "data": {
            "text/plain": [
              "2"
            ]
          },
          "metadata": {},
          "execution_count": 34
        }
      ]
    },
    {
      "cell_type": "code",
      "source": [
        "def with_multiprocessing_func():\n",
        "  # funkce ktera provede paralelizaci pomoci multiprocessingu\n",
        "    import multiprocessing\n",
        "    pool = multiprocessing.Pool(processes=multiprocessing.cpu_count())\n",
        "    for _ in range(100):\n",
        "        pool.apply_async(count, args=(0, 200000))\n",
        "        pool.apply_async(count, args=(400000, 200000))\n",
        "\n",
        "    pool.close()\n",
        "    pool.join()"
      ],
      "metadata": {
        "id": "eujZeuy9wd-R"
      },
      "execution_count": null,
      "outputs": []
    },
    {
      "cell_type": "code",
      "source": [
        "wo_threading = \"wo_threading_func()\"\n",
        "with_threading = \"with_threading_func()\"\n",
        "with_multiprocessing = \"with_multiprocessing_func()\"\n",
        "\n",
        "setup = \"from __main__ import wo_threading_func, with_threading_func, with_multiprocessing_func\"\n",
        "\n",
        "print(\"Without threads:\", timeit.timeit(stmt=wo_threading,\n",
        "                                        setup=setup,\n",
        "                                        number=10))\n",
        "print(\"With threads:\", timeit.timeit(stmt=with_threading,\n",
        "                                      setup=setup,\n",
        "                                      number=10))\n",
        "print(\"With multiprocessing:\", timeit.timeit(stmt=with_multiprocessing,\n",
        "                                             setup=setup,\n",
        "                                             number=10))"
      ],
      "metadata": {
        "colab": {
          "base_uri": "https://localhost:8080/"
        },
        "id": "c8NlUpjKtIhJ",
        "outputId": "b3877081-f785-405e-98ee-165314f5ff7d"
      },
      "execution_count": null,
      "outputs": [
        {
          "output_type": "stream",
          "name": "stdout",
          "text": [
            "Without threads: 0.14067864100070437\n",
            "With threads: 0.14151013200171292\n",
            "With multiprocessing: 9.819219693003106\n"
          ]
        }
      ]
    },
    {
      "cell_type": "markdown",
      "source": [
        "Zde je jasne videt, ze multithreading nemusi vzdy byt idealni volbou - doba provedeni je v tomto pripade **vyssi** nez u funkce bez paralelizace.  \n",
        "\n",
        "I kdyz se vypocet provadel na 2 vlaknech, byl propad vykonu tak velky kvuli Gobal Interpreter Lock, ze prevazil vyhody paralelizace"
      ],
      "metadata": {
        "id": "qHyabBfJuDNg"
      }
    },
    {
      "cell_type": "code",
      "source": [],
      "metadata": {
        "id": "ojpo8tKPuRvY"
      },
      "execution_count": null,
      "outputs": []
    },
    {
      "cell_type": "markdown",
      "source": [
        "## 4 Opakovani"
      ],
      "metadata": {
        "id": "1awmuE1nJQY3"
      }
    },
    {
      "cell_type": "markdown",
      "source": [],
      "metadata": {
        "id": "HbsmvSEGue9f"
      }
    },
    {
      "cell_type": "markdown",
      "source": [
        "### 4.1 TQDM a profiling"
      ],
      "metadata": {
        "id": "uSDo20mIufBx"
      }
    },
    {
      "cell_type": "code",
      "source": [
        "# ukol: pridejte do teto funkce tqdm progress bar. Tomu pridelte\n",
        "\n",
        "def print_item_list(item_list):\n",
        "  for item in item_list:\n",
        "    print(item)"
      ],
      "metadata": {
        "id": "HrxYMiV6FkJT"
      },
      "execution_count": null,
      "outputs": []
    },
    {
      "cell_type": "code",
      "source": [
        "example_list = [\"mrkev\", \"jablko\", \"citron\"]"
      ],
      "metadata": {
        "id": "uztKfMZwKW2L"
      },
      "execution_count": null,
      "outputs": []
    },
    {
      "cell_type": "code",
      "source": [
        "print_item_list(example_list)"
      ],
      "metadata": {
        "id": "kYDYAHtxKcpo",
        "outputId": "e7c5e95a-4977-438e-f44d-e6d75430395a",
        "colab": {
          "base_uri": "https://localhost:8080/"
        }
      },
      "execution_count": null,
      "outputs": [
        {
          "output_type": "stream",
          "name": "stdout",
          "text": [
            "mrkev\n",
            "jablko\n",
            "citron\n"
          ]
        }
      ]
    },
    {
      "cell_type": "code",
      "source": [
        "from tqdm import tqdm\n",
        "def print_item_list_with_tqdm_basic(item_list):\n",
        "  \"\"\"\n",
        "  Vypisuje obsah listu, ovsem s pridanym tqdm progress barem\n",
        "  \"\"\"\n",
        "  for item in tqdm(item_list):\n",
        "    print(f\"\\n{item}\")\n",
        "    # time.sleep(.3)\n",
        "  print(\"\\nfinished\")"
      ],
      "metadata": {
        "id": "aJwjhHEXIpVF"
      },
      "execution_count": null,
      "outputs": []
    },
    {
      "cell_type": "code",
      "source": [
        "print_item_list_with_tqdm_basic(example_list)"
      ],
      "metadata": {
        "id": "apdBr_UXLL7r",
        "outputId": "d608bf6d-4048-40f1-b499-ddff7c60afec",
        "colab": {
          "base_uri": "https://localhost:8080/"
        }
      },
      "execution_count": null,
      "outputs": [
        {
          "output_type": "stream",
          "name": "stderr",
          "text": [
            "100%|██████████| 3/3 [00:00<00:00, 3910.17it/s]"
          ]
        },
        {
          "output_type": "stream",
          "name": "stdout",
          "text": [
            "\n",
            "mrkev\n",
            "\n",
            "jablko\n",
            "\n",
            "citron\n",
            "\n",
            "finished\n"
          ]
        },
        {
          "output_type": "stream",
          "name": "stderr",
          "text": [
            "\n"
          ]
        }
      ]
    },
    {
      "cell_type": "code",
      "source": [
        "?tqdm"
      ],
      "metadata": {
        "id": "pAH0iW8vMkq_"
      },
      "execution_count": null,
      "outputs": []
    },
    {
      "cell_type": "code",
      "source": [
        "import time\n",
        "from tqdm import tqdm\n",
        "\n",
        "def print_item_list_with_tqdm_advanced(item_list):\n",
        "    \"\"\"\n",
        "    Sofistikovanější funkce, která iteruje přes seznam a dynamicky\n",
        "    aktualizuje postfix TQDM s informacemi o aktuální položce.\n",
        "    \"\"\"\n",
        "    print(\"Spouštím funkci s TQDM...\")\n",
        "\n",
        "    # Wrap the iterable with tqdm for a progress bar\n",
        "    # desc: custom prefix for the progress bar\n",
        "    # Přidáme 'pbar =' abychom získali odkaz na objekt progress baru\n",
        "    pbar = tqdm(item_list, desc=\"Zpracování položek\", unit=\" položka\")\n",
        "\n",
        "    for item in pbar:\n",
        "        # Dynamicky aktualizujeme postfix s informacemi o aktuální položce\n",
        "        # Nyní voláme set_postfix() na objektu pbar\n",
        "        pbar.set_postfix({\"Aktuální položka\": item})\n",
        "\n",
        "        # Simulace nějaké práce s položkou\n",
        "        time.sleep(1)\n",
        "    print(\"\\nHotovo\")"
      ],
      "metadata": {
        "id": "miBhD-CqGQFv"
      },
      "execution_count": null,
      "outputs": []
    },
    {
      "cell_type": "code",
      "source": [
        "data_list = [\"jablko\", \"hruška\", \"banán\", \"pomeranč\", \"kiwi\", \"mango\"]\n",
        "print_item_list_with_tqdm_advanced(data_list)"
      ],
      "metadata": {
        "colab": {
          "base_uri": "https://localhost:8080/"
        },
        "id": "3lJcfjEzGQb-",
        "outputId": "749ea482-bf8a-428e-d3ab-b3eb537c231a"
      },
      "execution_count": null,
      "outputs": [
        {
          "output_type": "stream",
          "name": "stdout",
          "text": [
            "Spouštím funkci s TQDM...\n"
          ]
        },
        {
          "output_type": "stream",
          "name": "stderr",
          "text": [
            "Zpracování položek: 100%|██████████| 6/6 [00:06<00:00,  1.00s/ položka, Aktuální položka=mango]"
          ]
        },
        {
          "output_type": "stream",
          "name": "stdout",
          "text": [
            "\n",
            "Hotovo\n"
          ]
        },
        {
          "output_type": "stream",
          "name": "stderr",
          "text": [
            "\n"
          ]
        }
      ]
    },
    {
      "cell_type": "markdown",
      "source": [
        "### 4.2 : Paralelní API požadavky\n",
        "\n",
        "Cílem tohoto úkolu je stáhnout data z několika API endpointů co nejrychleji. Použijeme veřejné API https://jsonplaceholder.typicode.com/todos/.\n",
        "\n",
        "Kroky:\n",
        "\n",
        "\n",
        "```\n",
        "# This is formatted as code\n",
        "```\n",
        "\n",
        "\n",
        "    Napište funkci fetch_todo(todo_id):\n",
        "        Tato funkce přijme jako argument todo_id (číslo).\n",
        "        Odešle GET požadavek na https://jsonplaceholder.typicode.com/todos/{todo_id}.\n",
        "        Vrátí JSON odpověď (nebo alespoň title z odpovědi).\n",
        "        Volitelně: Změřte čas potřebný ke stažení jednoho TODO itemu.\n",
        "\n",
        "    Sekvenční zpracování:\n",
        "        Vytvořte seznam todo_ids (např. čísla od 1 do 20).\n",
        "        Pomocí vaší funkce fetch_todo stáhněte všechny TODO itemy sekvenčně (jeden po druhém v cyklu).\n",
        "        Změřte celkový čas potřebný ke stažení všech itemů.\n",
        "        Vypište (nebo uložte) názvy (titles) stažených TODO itemů.\n",
        "\n",
        "    Paralelní zpracování:\n",
        "        Rozhodněte se: Použijete pro tuto úlohu threading nebo multiprocessing? Své rozhodnutí zdůvodněte.\n",
        "        Implementujte paralelní stahování všech TODO itemů z todo_ids pomocí vámi zvolené techniky.\n",
        "        Změřte celkový čas a porovnejte ho s časem sekvenčního zpracování.\n",
        "        Vypište (nebo uložte) názvy (titles) stažených TODO itemů a ujistěte se, že jste získali stejná data jako při sekvenčním zpracování."
      ],
      "metadata": {
        "id": "IH3RTHaBIz77"
      }
    },
    {
      "cell_type": "code",
      "source": [
        "import requests\n",
        "from tqdm import tqdm\n",
        "\n",
        "URL = \"https://jsonplaceholder.typicode.com/todos/\"\n",
        "\n",
        "def fetch_todo(todo_id):\n",
        "  response = requests.get(URL + str(todo_id))\n",
        "  return response.text"
      ],
      "metadata": {
        "id": "qAlFG2X6OOTh"
      },
      "execution_count": null,
      "outputs": []
    },
    {
      "cell_type": "code",
      "source": [
        "text_1 = fetch_todo(1)"
      ],
      "metadata": {
        "id": "bEeCZzeWOljg"
      },
      "execution_count": null,
      "outputs": []
    },
    {
      "cell_type": "code",
      "source": [
        "def get_n_responses(n_responses):\n",
        "  \"\"\"\n",
        "  Ziska nam celkem n odpovedi z API\n",
        "  \"\"\"\n",
        "\n",
        "  res_list = []\n",
        "  for i in tqdm(range(n_responses)):\n",
        "    res_list.append(fetch_todo(i))\n",
        "  return res_list"
      ],
      "metadata": {
        "id": "k5xBHS63OqYr"
      },
      "execution_count": null,
      "outputs": []
    },
    {
      "cell_type": "code",
      "source": [
        "response_list = get_n_responses(100)"
      ],
      "metadata": {
        "id": "lkV0k6UGPGA4",
        "outputId": "f6b04809-9af3-4a76-e21a-b7979b11de6a",
        "colab": {
          "base_uri": "https://localhost:8080/"
        }
      },
      "execution_count": null,
      "outputs": [
        {
          "output_type": "stream",
          "name": "stderr",
          "text": [
            "100%|██████████| 100/100 [00:03<00:00, 26.83it/s]\n"
          ]
        }
      ]
    },
    {
      "cell_type": "code",
      "source": [
        "from concurrent.futures import ThreadPoolExecutor"
      ],
      "metadata": {
        "id": "_kFx14f0PfPF"
      },
      "execution_count": null,
      "outputs": []
    },
    {
      "cell_type": "code",
      "source": [
        "def get_n_responses_threading(n_responses):\n",
        "  \"\"\"\n",
        "  Ziska nam celkem n odpovedi z API pomoci threadingu\n",
        "  \"\"\"\n",
        "\n",
        "  res_list = []\n",
        "\n",
        "  with ThreadPoolExecutor() as executor:\n",
        "    future_results = executor.map(fetch_todo, range(n_responses))\n",
        "    for future_result in tqdm(future_results):\n",
        "        res_list.append(future_result)\n",
        "  return res_list\n"
      ],
      "metadata": {
        "id": "Pxuc0yTFQCjz"
      },
      "execution_count": null,
      "outputs": []
    },
    {
      "cell_type": "code",
      "source": [
        "response_list_parallel = get_n_responses_threading(100)"
      ],
      "metadata": {
        "id": "2j-bUuviRFPI",
        "outputId": "2c9f0743-fdc3-4117-a2ef-343a37e72956",
        "colab": {
          "base_uri": "https://localhost:8080/"
        }
      },
      "execution_count": null,
      "outputs": [
        {
          "output_type": "stream",
          "name": "stderr",
          "text": [
            "100it [00:01, 99.31it/s]\n"
          ]
        }
      ]
    },
    {
      "cell_type": "code",
      "source": [
        "print(response_list_parallel[5])"
      ],
      "metadata": {
        "id": "czENfaJpSMkm",
        "outputId": "c55a3509-2fa8-4e0e-9915-bfbfd36995b0",
        "colab": {
          "base_uri": "https://localhost:8080/"
        }
      },
      "execution_count": null,
      "outputs": [
        {
          "output_type": "stream",
          "name": "stdout",
          "text": [
            "{\n",
            "  \"userId\": 1,\n",
            "  \"id\": 5,\n",
            "  \"title\": \"laboriosam mollitia et enim quasi adipisci quia provident illum\",\n",
            "  \"completed\": false\n",
            "}\n"
          ]
        }
      ]
    },
    {
      "cell_type": "code",
      "source": [
        "print(response_list[5])"
      ],
      "metadata": {
        "id": "CrrCNdZFSSN0",
        "outputId": "2e7c301e-c72a-43d6-af16-4eeec2f1249b",
        "colab": {
          "base_uri": "https://localhost:8080/"
        }
      },
      "execution_count": null,
      "outputs": [
        {
          "output_type": "stream",
          "name": "stdout",
          "text": [
            "{\n",
            "  \"userId\": 1,\n",
            "  \"id\": 5,\n",
            "  \"title\": \"laboriosam mollitia et enim quasi adipisci quia provident illum\",\n",
            "  \"completed\": false\n",
            "}\n"
          ]
        }
      ]
    },
    {
      "cell_type": "markdown",
      "source": [
        "### 4.3 Paralelní výpočty\n",
        "\n",
        "Cílem tohoto úkolu je provést výpočetně náročnou operaci na více datech paralelně. Budeme počítat sumu druhých mocnin čísel v daném rozsahu.\n",
        "\n",
        "Kroky:\n",
        "\n",
        "    Napište funkci calculate_sum_squares(start, end):\n",
        "        Tato funkce přijme dva celočíselné argumenty: start a end.\n",
        "        Vypočítá sumu druhých mocnin všech celých čísel od start (včetně) do end (exkluzivně). Tedy ∑i=startend−1​i2.\n",
        "        Vrátí vypočítanou sumu.\n",
        "        Volitelně: Změřte čas potřebný pro výpočet s jedním velkým rozsahem (např. od 1 do 5 000 000).\n",
        "\n",
        "    Sekvenční zpracování:\n",
        "        Definujte velký rozsah (např. N = 5 000 000).\n",
        "        Rozdělte tento výpočet (od 1 do N) na několik menších, stejně velkých podproblémů (např. 4 části). Příklad: pokud N = 5 000 000 a dělíme na 4 části, první část bude počítat sumu pro 1…1250000, druhá pro 1250001…2500000, atd.\n",
        "        Vypočítejte sumu druhých mocnin pro každý podproblém sekvenčně pomocí vaší funkce calculate_sum_squares.\n",
        "        Sečtěte dílčí výsledky a změřte celkový čas.\n",
        "\n",
        "    Paralelní zpracování:\n",
        "        Rozhodněte se: Použijete pro tuto úlohu threading nebo multiprocessing? Své rozhodnutí zdůvodněte.\n",
        "        Implementujte paralelní výpočet pro všechny podproblémy pomocí vámi zvolené techniky.\n",
        "        Sečtěte dílčí výsledky, změřte celkový čas a porovnejte ho s časem sekvenčního zpracování.\n",
        "        Ověřte, že výsledek paralelního výpočtu je stejný jako výsledek sekvenčního výpočtu."
      ],
      "metadata": {
        "id": "Gz5QVw22JUFE"
      }
    },
    {
      "cell_type": "code",
      "source": [
        "def calculate_sum_squares(start, end):\n",
        "  sum = 0\n",
        "  for i in tqdm(range(start, end + 1)):\n",
        "    sum += i**2\n",
        "  return sum"
      ],
      "metadata": {
        "id": "t-ewEzyeI7sH"
      },
      "execution_count": null,
      "outputs": []
    },
    {
      "cell_type": "code",
      "source": [
        "calculate_sum_squares(1, int(1e7))"
      ],
      "metadata": {
        "id": "ViG0h2wLS5Ku",
        "outputId": "bd3dd1c7-40f0-49ce-9a4d-a12ba9f3e1f2",
        "colab": {
          "base_uri": "https://localhost:8080/"
        }
      },
      "execution_count": null,
      "outputs": [
        {
          "output_type": "stream",
          "name": "stderr",
          "text": [
            "100%|██████████| 10000000/10000000 [00:02<00:00, 4041662.53it/s]\n"
          ]
        },
        {
          "output_type": "execute_result",
          "data": {
            "text/plain": [
              "333333383333335000000"
            ]
          },
          "metadata": {},
          "execution_count": 20
        }
      ]
    },
    {
      "cell_type": "code",
      "source": [
        "import os\n",
        "cpu_count = os.cpu_count()\n",
        "cpu_count"
      ],
      "metadata": {
        "id": "FPkMezVmUQzg",
        "outputId": "4c5a8042-02c4-4143-c54d-b2785e026b74",
        "colab": {
          "base_uri": "https://localhost:8080/"
        }
      },
      "execution_count": null,
      "outputs": [
        {
          "output_type": "execute_result",
          "data": {
            "text/plain": [
              "2"
            ]
          },
          "metadata": {},
          "execution_count": 23
        }
      ]
    },
    {
      "cell_type": "code",
      "source": [
        "# Celkový rozsah pro výpočet\n",
        "N = int(1e8)\n",
        "num_parts = cpu_count\n",
        "\n",
        "chunk_size = N // num_parts\n",
        "ranges = []\n",
        "current_start = 1"
      ],
      "metadata": {
        "id": "Z0b24sHJUp4W"
      },
      "execution_count": null,
      "outputs": []
    },
    {
      "cell_type": "code",
      "source": [
        "ranges"
      ],
      "metadata": {
        "id": "69kxQ0GCWTmy",
        "outputId": "547b114b-1ffd-40f0-f55f-288d2a67ab64",
        "colab": {
          "base_uri": "https://localhost:8080/"
        }
      },
      "execution_count": null,
      "outputs": [
        {
          "output_type": "execute_result",
          "data": {
            "text/plain": [
              "[(1, 50000001), (50000001, 100000001)]"
            ]
          },
          "metadata": {},
          "execution_count": 39
        }
      ]
    },
    {
      "cell_type": "code",
      "source": [
        "print(f\"Velikost chunku: {chunk_size}\")"
      ],
      "metadata": {
        "id": "nm1sRdhgVSc8",
        "outputId": "6a3b5b76-e651-423a-a717-aaea052f5898",
        "colab": {
          "base_uri": "https://localhost:8080/"
        }
      },
      "execution_count": null,
      "outputs": [
        {
          "output_type": "stream",
          "name": "stdout",
          "text": [
            "Velikost chunku: 50000000\n"
          ]
        }
      ]
    },
    {
      "cell_type": "code",
      "source": [
        "for i in range(num_parts):\n",
        "    current_end = current_start + chunk_size\n",
        "    if i == num_parts - 1: # Poslední část vezme zbytek, aby pokryla celé N\n",
        "        current_end = N + 1\n",
        "    ranges.append((current_start, current_end))\n",
        "    current_start = current_end\n"
      ],
      "metadata": {
        "id": "o9-JALKeVGoh"
      },
      "execution_count": null,
      "outputs": []
    },
    {
      "cell_type": "code",
      "source": [
        "from concurrent.futures import ProcessPoolExecutor"
      ],
      "metadata": {
        "id": "su9vOahnVfgM"
      },
      "execution_count": null,
      "outputs": []
    },
    {
      "cell_type": "code",
      "source": [
        "# 2. Sekvenční zpracování\n",
        "print(\"--- Sekvenční zpracování výpočtů ---\")\n",
        "start_time_sequential_calc = time.time()\n",
        "sequential_sum_calc = 0\n",
        "for r_start, r_end in ranges:\n",
        "    sequential_sum_calc += calculate_sum_squares(r_start, r_end)\n",
        "end_time_sequential_calc = time.time()\n",
        "sequential_calc_duration = end_time_sequential_calc - start_time_sequential_calc\n",
        "print(f\"Sekvenční výpočet sumy čtverců (1 až {N} rozdělený na {num_parts} částí) trval: {sequential_calc_duration:.4f} sekund.\")\n",
        "print(f\"Výsledek (sekvenčně): {sequential_sum_calc}\")\n",
        "\n",
        "\n",
        "# 3. Paralelní zpracování (Multiprocessing)\n",
        "print(\"\\n--- Paralelní zpracování výpočtů (Multiprocessing) ---\")\n",
        "start_time_multiprocessing_calc = time.time()\n",
        "\n",
        "# Použijeme ProcessPoolExecutor.\n",
        "# max_workers se typicky nastavuje na počet jader CPU (os.cpu_count()).\n",
        "# Pro toto cvičení nastavíme pevně na num_parts pro srovnání.\n",
        "with ProcessPoolExecutor(max_workers=num_parts) as executor:\n",
        "    # executor.map volá funkci pro každý prvek v iterovatelném.\n",
        "    # Protože calculate_sum_squares očekává dva argumenty,\n",
        "    # použijeme lambda funkci nebo přizpůsobíme volání.\n",
        "    # Zde použijeme lambda pro rozbalení tuple (start, end) z 'ranges'.\n",
        "    # Alternativně: executor.map(calculate_sum_squares, [r[0] for r in ranges], [r[1] for r in ranges])\n",
        "\n",
        "    # map očekává, že funkce (první argument) přijme jeden argument.\n",
        "    # Pokud funkce přijímá více argumentů, musíme je \"zabalit\".\n",
        "    # Zde ranges je seznam dvojic (start, end).\n",
        "    # map(func, iter1, iter2, ...) - func(val_from_iter1, val_from_iter2, ...)\n",
        "    # Takže potřebujeme dva iterovatelné: seznam startů a seznam konců\n",
        "    starts = [r[0] for r in ranges]\n",
        "    ends = [r[1] for r in ranges]\n",
        "\n",
        "    # Dílčí výsledky z každého procesu\n",
        "    partial_sums = list(executor.map(calculate_sum_squares, starts, ends))\n",
        "\n",
        "parallel_sum_calc = sum(partial_sums)\n",
        "end_time_multiprocessing_calc = time.time()\n",
        "multiprocessing_calc_duration = end_time_multiprocessing_calc - start_time_multiprocessing_calc\n",
        "\n",
        "print(f\"Paralelní výpočet sumy čtverců pomocí Multiprocessing ({num_parts} procesů) trval: {multiprocessing_calc_duration:.4f} sekund.\")\n",
        "print(f\"Výsledek (paralelně - multiprocessing): {parallel_sum_calc}\")"
      ],
      "metadata": {
        "id": "A-H9hAyzVc4N",
        "outputId": "593c3853-65c0-4899-9b19-1c23d44bbe3c",
        "colab": {
          "base_uri": "https://localhost:8080/"
        }
      },
      "execution_count": null,
      "outputs": [
        {
          "output_type": "stream",
          "name": "stdout",
          "text": [
            "--- Sekvenční zpracování výpočtů ---\n"
          ]
        },
        {
          "output_type": "stream",
          "name": "stderr",
          "text": [
            "100%|██████████| 50000001/50000001 [00:12<00:00, 3974678.46it/s]\n",
            "100%|██████████| 50000001/50000001 [00:12<00:00, 3913072.21it/s]"
          ]
        },
        {
          "output_type": "stream",
          "name": "stdout",
          "text": [
            "Sekvenční výpočet sumy čtverců (1 až 100000000 rozdělený na 2 částí) trval: 25.3656 sekund.\n",
            "Výsledek (sekvenčně): 333333350833333650000002\n",
            "\n",
            "--- Paralelní zpracování výpočtů (Multiprocessing) ---\n"
          ]
        },
        {
          "output_type": "stream",
          "name": "stderr",
          "text": [
            "\n",
            "100%|██████████| 50000001/50000001 [00:28<00:00, 1737153.37it/s]\n",
            "100%|██████████| 50000001/50000001 [00:28<00:00, 1734296.95it/s]\n"
          ]
        },
        {
          "output_type": "stream",
          "name": "stdout",
          "text": [
            "Paralelní výpočet sumy čtverců pomocí Multiprocessing (2 procesů) trval: 28.8768 sekund.\n",
            "Výsledek (paralelně - multiprocessing): 333333350833333650000002\n"
          ]
        }
      ]
    },
    {
      "cell_type": "code",
      "source": [
        "starts"
      ],
      "metadata": {
        "id": "BhhHRWK6Wdi3",
        "outputId": "f9cf09d9-ac8c-4f58-a031-b75454cf9914",
        "colab": {
          "base_uri": "https://localhost:8080/"
        }
      },
      "execution_count": null,
      "outputs": [
        {
          "output_type": "execute_result",
          "data": {
            "text/plain": [
              "[1, 50000001]"
            ]
          },
          "metadata": {},
          "execution_count": 40
        }
      ]
    },
    {
      "cell_type": "code",
      "source": [
        "ends"
      ],
      "metadata": {
        "id": "WUh-rsOdTaxZ",
        "outputId": "2cfeb8cf-4481-449f-baec-57ce4238c368",
        "colab": {
          "base_uri": "https://localhost:8080/"
        }
      },
      "execution_count": null,
      "outputs": [
        {
          "output_type": "execute_result",
          "data": {
            "text/plain": [
              "[50000001, 100000001]"
            ]
          },
          "metadata": {},
          "execution_count": 41
        }
      ]
    },
    {
      "cell_type": "code",
      "source": [
        "  res_list = []\n",
        "\n",
        "  with ThreadPoolExecutor() as executor:\n",
        "    future_results = executor.map(fetch_todo, range(n_responses))\n",
        "    for future_result in tqdm(future_results):\n",
        "        res_list.append(future_result)\n",
        "  return res_list"
      ],
      "metadata": {
        "id": "sp60ANKPUgpG"
      },
      "execution_count": null,
      "outputs": []
    }
  ]
}