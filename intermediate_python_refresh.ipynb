{
  "nbformat": 4,
  "nbformat_minor": 0,
  "metadata": {
    "colab": {
      "provenance": [],
      "include_colab_link": true
    },
    "kernelspec": {
      "name": "python3",
      "display_name": "Python 3"
    },
    "language_info": {
      "name": "python"
    }
  },
  "cells": [
    {
      "cell_type": "markdown",
      "metadata": {
        "id": "view-in-github",
        "colab_type": "text"
      },
      "source": [
        "<a href=\"https://colab.research.google.com/github/svondracek0/Data-Science-Practicum/blob/main/intermediate_python_refresh.ipynb\" target=\"_parent\"><img src=\"https://colab.research.google.com/assets/colab-badge.svg\" alt=\"Open In Colab\"/></a>"
      ]
    },
    {
      "cell_type": "markdown",
      "source": [
        "# Intermediate Python - regularni vyrazy"
      ],
      "metadata": {
        "id": "rI5ifTTeAPnI"
      }
    },
    {
      "cell_type": "markdown",
      "source": [
        "# Úkol 1\n",
        "Napište takový regulární výraz, který ve slovníku (slovnik.txt) vyhledá následující vzory. Využijte předpřipravenou funkci find_regexp"
      ],
      "metadata": {
        "id": "4qY8QUHGGFss"
      }
    },
    {
      "cell_type": "code",
      "source": [
        "def find_regexp(regexp, file_name=\"slovnik.txt\"):\n",
        "    with open(file_name, \"r\", encoding=\"utf-8\") as my_file:\n",
        "        for line in my_file:\n",
        "            if re.search(regexp, line):\n",
        "                strip_line = line.rstrip()\n",
        "                print(strip_line, end=\", \")\n",
        "    print(\"\\n\")"
      ],
      "metadata": {
        "id": "5wYiYAaNDeTj"
      },
      "execution_count": 13,
      "outputs": []
    },
    {
      "cell_type": "code",
      "source": [
        "!ls"
      ],
      "metadata": {
        "colab": {
          "base_uri": "https://localhost:8080/"
        },
        "id": "xYsxqi9REMLY",
        "outputId": "4e3bc1bf-911e-4a33-c415-681809489eca"
      },
      "execution_count": 14,
      "outputs": [
        {
          "output_type": "stream",
          "name": "stdout",
          "text": [
            "sample_data  without_threads.txt  with_threads.txt\n"
          ]
        }
      ]
    },
    {
      "cell_type": "code",
      "source": [
        "import re"
      ],
      "metadata": {
        "id": "7gy4wgLvEU2l"
      },
      "execution_count": 15,
      "outputs": []
    },
    {
      "cell_type": "code",
      "source": [
        "# Vypsat vsechny retezce, ktere obsahuji podretezec \"oo\"\n",
        "find_regexp(r\"oo\")"
      ],
      "metadata": {
        "colab": {
          "base_uri": "https://localhost:8080/",
          "height": 280
        },
        "id": "0JsAGQrSEM4Y",
        "outputId": "10a45115-fff0-424d-bc45-22b42ef7a393"
      },
      "execution_count": 16,
      "outputs": [
        {
          "output_type": "error",
          "ename": "FileNotFoundError",
          "evalue": "[Errno 2] No such file or directory: 'slovnik.txt'",
          "traceback": [
            "\u001b[0;31m---------------------------------------------------------------------------\u001b[0m",
            "\u001b[0;31mFileNotFoundError\u001b[0m                         Traceback (most recent call last)",
            "\u001b[0;32m<ipython-input-16-7bf2b1700e05>\u001b[0m in \u001b[0;36m<cell line: 0>\u001b[0;34m()\u001b[0m\n\u001b[1;32m      1\u001b[0m \u001b[0;31m# Vypsat vsechny retezce, ktere obsahuji podretezec \"oo\"\u001b[0m\u001b[0;34m\u001b[0m\u001b[0;34m\u001b[0m\u001b[0m\n\u001b[0;32m----> 2\u001b[0;31m \u001b[0mfind_regexp\u001b[0m\u001b[0;34m(\u001b[0m\u001b[0;34mr\"oo\"\u001b[0m\u001b[0;34m)\u001b[0m\u001b[0;34m\u001b[0m\u001b[0;34m\u001b[0m\u001b[0m\n\u001b[0m",
            "\u001b[0;32m<ipython-input-13-83ddcebca0a7>\u001b[0m in \u001b[0;36mfind_regexp\u001b[0;34m(regexp, file_name)\u001b[0m\n\u001b[1;32m      1\u001b[0m \u001b[0;32mdef\u001b[0m \u001b[0mfind_regexp\u001b[0m\u001b[0;34m(\u001b[0m\u001b[0mregexp\u001b[0m\u001b[0;34m,\u001b[0m \u001b[0mfile_name\u001b[0m\u001b[0;34m=\u001b[0m\u001b[0;34m\"slovnik.txt\"\u001b[0m\u001b[0;34m)\u001b[0m\u001b[0;34m:\u001b[0m\u001b[0;34m\u001b[0m\u001b[0;34m\u001b[0m\u001b[0m\n\u001b[0;32m----> 2\u001b[0;31m     \u001b[0;32mwith\u001b[0m \u001b[0mopen\u001b[0m\u001b[0;34m(\u001b[0m\u001b[0mfile_name\u001b[0m\u001b[0;34m,\u001b[0m \u001b[0;34m\"r\"\u001b[0m\u001b[0;34m,\u001b[0m \u001b[0mencoding\u001b[0m\u001b[0;34m=\u001b[0m\u001b[0;34m\"utf-8\"\u001b[0m\u001b[0;34m)\u001b[0m \u001b[0;32mas\u001b[0m \u001b[0mmy_file\u001b[0m\u001b[0;34m:\u001b[0m\u001b[0;34m\u001b[0m\u001b[0;34m\u001b[0m\u001b[0m\n\u001b[0m\u001b[1;32m      3\u001b[0m         \u001b[0;32mfor\u001b[0m \u001b[0mline\u001b[0m \u001b[0;32min\u001b[0m \u001b[0mmy_file\u001b[0m\u001b[0;34m:\u001b[0m\u001b[0;34m\u001b[0m\u001b[0;34m\u001b[0m\u001b[0m\n\u001b[1;32m      4\u001b[0m             \u001b[0;32mif\u001b[0m \u001b[0mre\u001b[0m\u001b[0;34m.\u001b[0m\u001b[0msearch\u001b[0m\u001b[0;34m(\u001b[0m\u001b[0mregexp\u001b[0m\u001b[0;34m,\u001b[0m \u001b[0mline\u001b[0m\u001b[0;34m)\u001b[0m\u001b[0;34m:\u001b[0m\u001b[0;34m\u001b[0m\u001b[0;34m\u001b[0m\u001b[0m\n\u001b[1;32m      5\u001b[0m                 \u001b[0mstrip_line\u001b[0m \u001b[0;34m=\u001b[0m \u001b[0mline\u001b[0m\u001b[0;34m.\u001b[0m\u001b[0mrstrip\u001b[0m\u001b[0;34m(\u001b[0m\u001b[0;34m)\u001b[0m\u001b[0;34m\u001b[0m\u001b[0;34m\u001b[0m\u001b[0m\n",
            "\u001b[0;31mFileNotFoundError\u001b[0m: [Errno 2] No such file or directory: 'slovnik.txt'"
          ]
        }
      ]
    },
    {
      "cell_type": "code",
      "source": [
        "# Vypsat vsechny retezce, ktere zacinaji na \"e\" a konci na \"le\"\n",
        "# Vypise pouze erteple, elle, emile,\n",
        "find_regexp(r\"^e.*le$\")"
      ],
      "metadata": {
        "id": "DSldNNZ-EY4s"
      },
      "execution_count": null,
      "outputs": []
    },
    {
      "cell_type": "code",
      "source": [
        "# Vypsat vsechny retezce, ktere obsahuji \"a\", \"e\", \"i\", \"o\", \"u\" v tomto\n",
        "# poradi (ale ne nutne za sebou, napr. akademickou)\n",
        "find_regexp(r\"a\")"
      ],
      "metadata": {
        "id": "pYLxGpdSEZYE"
      },
      "execution_count": null,
      "outputs": []
    },
    {
      "cell_type": "code",
      "source": [
        "# Vypsat vsechny retezce, ktere obsahuji podretezec delky 4\n",
        "# tvoreny z pismen \"rst\" (napr. bratrstvi)\n",
        "find_regexp(r\"[rst]{4}$\")"
      ],
      "metadata": {
        "id": "6cYPjAtnEifh"
      },
      "execution_count": null,
      "outputs": []
    },
    {
      "cell_type": "code",
      "source": [
        "# Vypsat vsechny retezce, dve \"u\" vzdalena od sebe 8 pozic (napr. \"uhlovodiku\")\n",
        "find_regexp(r\"u.{8}u\")"
      ],
      "metadata": {
        "id": "jMhPoSV7EmQV"
      },
      "execution_count": null,
      "outputs": []
    },
    {
      "cell_type": "code",
      "source": [
        "# Obsahuji pismeno \"u\" na druhe i predposledni pozici (napr. \"luxus\")\n",
        "find_regexp(r\"^[^u]{1}u.*u.$\")"
      ],
      "metadata": {
        "id": "u9LXjR4JEo4T"
      },
      "execution_count": null,
      "outputs": []
    },
    {
      "cell_type": "code",
      "source": [
        "# Krome prvniho a posledniho pismene, kde muze byt libovolne pismeno, obsahuji\n",
        "# pouze samohlasky a maji presne 5 pismen (napr. \"foyer\")\n",
        "find_regexp(r\"^[a-z][aeiou]{3}[a-z]$\")"
      ],
      "metadata": {
        "id": "BUNbc5mfEq9O"
      },
      "execution_count": null,
      "outputs": []
    },
    {
      "cell_type": "code",
      "source": [
        "# rozdil str split a re split\n",
        "my_string = \"jablko,hruška,hrozny,mrkev.zelí,zelenina.ovoce,dvůr\"\n",
        "[elem.split(\".\") for elem in my_string.split(\",\")]"
      ],
      "metadata": {
        "id": "TZNuCxVdFgsX"
      },
      "execution_count": null,
      "outputs": []
    },
    {
      "cell_type": "code",
      "source": [
        "re.split(\",|\\.\", my_string) # pozor na zpetne lomitko"
      ],
      "metadata": {
        "id": "mog7QfoZeA5f"
      },
      "execution_count": null,
      "outputs": []
    },
    {
      "cell_type": "code",
      "source": [
        "len(my_string)"
      ],
      "metadata": {
        "id": "i_vdG2GKeYwk"
      },
      "execution_count": null,
      "outputs": []
    },
    {
      "cell_type": "code",
      "source": [
        "print(re.subn(r\"[a-z]{5}\", \"pes\", \"Alice má slona\"))\n"
      ],
      "metadata": {
        "id": "Ethdxx9GfPhb"
      },
      "execution_count": null,
      "outputs": []
    },
    {
      "cell_type": "markdown",
      "source": [
        "## Úkol 2\n",
        "Najděte všechna čísla ze zadaného textu pomocí regulárního výrazu.\n",
        "\n",
        "Tj. pro řetězec \"test43543lfdsfdsfl534543fdgl432fr\" to bude:  \n",
        "- 43543  \n",
        "- 534543  \n",
        "- 432  \n",
        "\n",
        "*Nápověda*  \n",
        "\n",
        "Použijte speciální symbol \\d, který označuje libovolnou číslici, a znak +, který znamená \"jeden nebo více znaků\"."
      ],
      "metadata": {
        "id": "-UGMVRnSFhcl"
      }
    },
    {
      "cell_type": "code",
      "source": [
        "test_str = \"test43543lfdsfdsfl534543fdgl432fr\"\n",
        "re.search(r\"\\d+\", test_str)"
      ],
      "metadata": {
        "id": "O0uG96rzFi__",
        "outputId": "29008614-f593-4136-b53b-8c5d619a18dc",
        "colab": {
          "base_uri": "https://localhost:8080/"
        }
      },
      "execution_count": 27,
      "outputs": [
        {
          "output_type": "execute_result",
          "data": {
            "text/plain": [
              "<re.Match object; span=(4, 9), match='43543'>"
            ]
          },
          "metadata": {},
          "execution_count": 27
        }
      ]
    },
    {
      "cell_type": "code",
      "source": [
        "re.search(r\"\\d+\", test_str).group()"
      ],
      "metadata": {
        "id": "Fbfk2_nWhnTm",
        "outputId": "8dbd6804-9730-415d-d82c-61ed6f3de11f",
        "colab": {
          "base_uri": "https://localhost:8080/",
          "height": 35
        }
      },
      "execution_count": 28,
      "outputs": [
        {
          "output_type": "execute_result",
          "data": {
            "text/plain": [
              "'43543'"
            ],
            "application/vnd.google.colaboratory.intrinsic+json": {
              "type": "string"
            }
          },
          "metadata": {},
          "execution_count": 28
        }
      ]
    },
    {
      "cell_type": "code",
      "source": [
        "re.findall(r\"\\d+\", test_str)"
      ],
      "metadata": {
        "id": "ro4ZdU81hrLm",
        "outputId": "c9009a48-5504-4a26-b442-521b714525f8",
        "colab": {
          "base_uri": "https://localhost:8080/"
        }
      },
      "execution_count": 29,
      "outputs": [
        {
          "output_type": "execute_result",
          "data": {
            "text/plain": [
              "['43543', '534543', '432']"
            ]
          },
          "metadata": {},
          "execution_count": 29
        }
      ]
    },
    {
      "cell_type": "markdown",
      "source": [
        "## Úkol 3\n",
        "Napište program, který pomocí regulárního výrazu zkontroluje, zda je zadané telefonní číslo validní.Validní čísla mají tyto formáty:\n",
        "\n",
        "- 48123456789\n",
        "- +48123456789\n",
        "- 0048123456789  \n",
        "\n",
        "Na začátku použijte '48', '+48' nebo '0048' a poté 9 číslic."
      ],
      "metadata": {
        "id": "ahn1HwqSF2iX"
      }
    },
    {
      "cell_type": "code",
      "source": [
        "# pattern = r\"(?[\\+|00])\\d{9}\"\n",
        "pattern = \"^(\\+|00)?48\\d{9}\"\n",
        "\n",
        "re.match(pattern, \"+48123456789\")"
      ],
      "metadata": {
        "id": "P_3h16exGA6r",
        "outputId": "e4435d2c-c877-41be-a10c-fb3f4f86af6f",
        "colab": {
          "base_uri": "https://localhost:8080/"
        }
      },
      "execution_count": 30,
      "outputs": [
        {
          "output_type": "execute_result",
          "data": {
            "text/plain": [
              "<re.Match object; span=(0, 12), match='+48123456789'>"
            ]
          },
          "metadata": {},
          "execution_count": 30
        }
      ]
    },
    {
      "cell_type": "code",
      "source": [
        "test_list = [\"48123456789\",\n",
        "\"+48123456789\",\n",
        "\"0048123456789\", \"+42123456789\"]\n",
        "\n",
        "for number in test_list:\n",
        "    if re.match(pattern, number):\n",
        "        print(number, \"is valid\")\n",
        "    else:\n",
        "        print(number, \"is not valid\")"
      ],
      "metadata": {
        "id": "vByJMAfZiM9Q",
        "outputId": "070db55f-4598-462c-caef-2ba6cfc2720b",
        "colab": {
          "base_uri": "https://localhost:8080/"
        }
      },
      "execution_count": 31,
      "outputs": [
        {
          "output_type": "stream",
          "name": "stdout",
          "text": [
            "48123456789 is valid\n",
            "+48123456789 is valid\n",
            "0048123456789 is valid\n",
            "+42123456789 is not valid\n"
          ]
        }
      ]
    },
    {
      "cell_type": "markdown",
      "source": [
        "# Ukol 4\n",
        "\n",
        "The main objective for each exercise is to choose the most appropriate re module function for the given task.\n",
        "\n",
        "## Exercise 1: Validating an API Key Format\n",
        "\n",
        "    Scenario: You need to validate if a given API key string strictly adheres to a format where it must begin with \"KEY-\" followed by exactly 10 alphanumeric characters.\n",
        "\n",
        "    Your Task: Choose the re function that is best suited to check if the input_string starts exactly with the given pattern.\n",
        "\n",
        "    Which re function should you use?\n",
        "        A) re.match()\n",
        "        B) re.search()\n",
        "        C) re.findall()\n",
        "        D) re.split()"
      ],
      "metadata": {
        "id": "BuicfY32JwrK"
      }
    },
    {
      "cell_type": "code",
      "source": [
        "import re\n",
        "\n",
        "input_string = \"KEY-ABC123XYZ7\"\n",
        "another_string = \"Invalid KEY-ABC123XYZ7\"\n",
        "pattern = r\"KEY-[a-zA-Z0-9]{10}\"\n",
        "\n",
        "# Using re.match()\n",
        "match_object1 = re.match(pattern, input_string)\n",
        "if match_object1:\n",
        "  print(f\"'{input_string}' matches: {match_object1.group(0)}\")\n",
        "else:\n",
        "  print(f\"'{input_string}' does not match at the beginning.\")\n",
        "\n",
        "match_object2 = re.match(pattern, another_string)\n",
        "if match_object2:\n",
        "  print(f\"'{another_string}' matches: {match_object2.group(0)}\")\n",
        "else:\n",
        "  print(f\"'{another_string}' does not match at the beginning.\")\n",
        "# Expected Output:\n",
        "# 'KEY-ABC123XYZ7' matches: KEY-ABC123XYZ7\n",
        "# 'another_string' does not match at the beginning."
      ],
      "metadata": {
        "colab": {
          "base_uri": "https://localhost:8080/"
        },
        "id": "njTZHrPKKACL",
        "outputId": "45a502e5-400a-4ff0-f918-d21a0d49a3fb"
      },
      "execution_count": 44,
      "outputs": [
        {
          "output_type": "stream",
          "name": "stdout",
          "text": [
            "'KEY-ABC123XYZ7' matches: KEY-ABC123XYZ7\n",
            "'Invalid KEY-ABC123XYZ7' does not match at the beginning.\n"
          ]
        }
      ]
    },
    {
      "cell_type": "markdown",
      "source": [
        "## Exercise 2: Finding a Specific Error Code\n",
        "\n",
        "    Scenario: You are parsing a long log message and need to determine if a specific error code, say \"ERR_TIMEOUT_504\", is present anywhere within the message. You only need to know if it's there and perhaps its first occurrence.\n",
        "\n",
        "    Your Task: Choose the re function that is best suited to find the first occurrence of the pattern anywhere in the input_string.\n",
        "\n",
        "    Which re function should you use?\n",
        "        A) re.match()\n",
        "        B) re.search()\n",
        "        C) re.findall()\n",
        "        D) re.split()\n"
      ],
      "metadata": {
        "id": "VWrGxvUsLael"
      }
    },
    {
      "cell_type": "code",
      "source": [
        "import re\n",
        "\n",
        "input_string = \"System normal. Operation X completed. ERR_TIMEOUT_504: Critical task failed. Retrying.\"\n",
        "pattern = r\"ERR_TIMEOUT_504\"\n",
        "\n",
        "# Using re.search()\n",
        "search_result = re.search(pattern, input_string)\n",
        "if search_result:\n",
        "  print(f\"Pattern '{pattern}' found at index {search_result.start()}: {search_result.group(0)}\")\n",
        "else:\n",
        "  print(f\"Pattern '{pattern}' not found in the string.\")\n",
        "# Expected Output:\n",
        "# Pattern 'ERR_TIMEOUT_504' found at index 36: ERR_TIMEOUT_504"
      ],
      "metadata": {
        "colab": {
          "base_uri": "https://localhost:8080/"
        },
        "id": "kYZF5s6wKBH-",
        "outputId": "47f5b607-8179-4d71-ba98-f851212b06eb"
      },
      "execution_count": 45,
      "outputs": [
        {
          "output_type": "stream",
          "name": "stdout",
          "text": [
            "Pattern 'ERR_TIMEOUT_504' found at index 38: ERR_TIMEOUT_504\n"
          ]
        }
      ]
    },
    {
      "cell_type": "code",
      "source": [
        "\"ERR_TIMEOUT_504\" in input_string"
      ],
      "metadata": {
        "id": "ePSAY_v_Vz0g",
        "outputId": "8024e188-46fc-448c-dddc-7189a44e1e5a",
        "colab": {
          "base_uri": "https://localhost:8080/"
        }
      },
      "execution_count": 47,
      "outputs": [
        {
          "output_type": "execute_result",
          "data": {
            "text/plain": [
              "True"
            ]
          },
          "metadata": {},
          "execution_count": 47
        }
      ]
    },
    {
      "cell_type": "markdown",
      "source": [
        "\n",
        "\n",
        "## Exercise 3: Extracting All Usernames Mentioned\n",
        "\n",
        "    Scenario: You have a social media post, and you want to extract all usernames mentioned. Usernames are identified by an \"@\" symbol followed by one or more alphanumeric characters.\n",
        "\n",
        "    Your Task: Choose the re function that will find all occurrences of the pattern and return them.\n",
        "\n",
        "    Which re function should you use?\n",
        "        A) re.match()\n",
        "        B) re.search()\n",
        "        C) re.findall()\n",
        "        D) re.split()\n"
      ],
      "metadata": {
        "id": "vV-HIuPJLayK"
      }
    },
    {
      "cell_type": "code",
      "source": [
        "import re\n",
        "\n",
        "input_string = \"Hello @alice, please check with @bob_01. Thanks, @charlie!\"\n",
        "pattern = r\"@[a-zA-z0-9]+\" # Captures the username part\n",
        "\n",
        "# Using re.findall()\n",
        "usernames = re.findall(pattern, input_string)\n",
        "print(f\"Usernames found: {usernames}\")\n",
        "# Expected Output:\n",
        "# Usernames found: ['alice', 'bob_01', 'charlie']"
      ],
      "metadata": {
        "colab": {
          "base_uri": "https://localhost:8080/"
        },
        "id": "7LmgjgyrKgJg",
        "outputId": "d2533b09-54c9-4f12-990e-6065c7e16e65"
      },
      "execution_count": 52,
      "outputs": [
        {
          "output_type": "stream",
          "name": "stdout",
          "text": [
            "Usernames found: ['@alice', '@bob_01', '@charlie']\n"
          ]
        }
      ]
    },
    {
      "cell_type": "markdown",
      "source": [
        "\n",
        "## Exercise 4: Tokenizing a Sentence by Punctuation\n",
        "\n",
        "    Scenario: You need to break down a sentence into smaller parts (tokens) based on common punctuation marks like commas, periods, and exclamation marks, which act as delimiters.\n",
        "\n",
        "    Which re function should you use?\n",
        "        A) re.match()\n",
        "        B) re.search()\n",
        "        C) re.findall()\n",
        "        D) re.split()"
      ],
      "metadata": {
        "id": "qRekRmI7La70"
      }
    },
    {
      "cell_type": "code",
      "source": [
        "import re\n",
        "\n",
        "input_string = \"First part,second part.Third part!And the last one.\"\n",
        "pattern = r\"[,.!]\" # Delimiters are comma, period, or exclamation mark\n",
        "\n",
        "# Using re.split()\n",
        "tokens = re.split(pattern, input_string)\n",
        "print(f\"Tokens: {tokens}\")\n",
        "# Expected Output:\n",
        "# Tokens: ['First part', 'second part', 'Third part', 'And the last one', '']\n",
        "# To remove empty strings, a list comprehension can be used:\n",
        "# filtered_tokens = [token for token in tokens if token]\n",
        "# print(f\"Filtered Tokens: {filtered_tokens}\")\n",
        "# Filtered Tokens: ['First part', 'second part', 'Third part', 'And the last one']"
      ],
      "metadata": {
        "colab": {
          "base_uri": "https://localhost:8080/"
        },
        "id": "GZQ7Ew9kKQGB",
        "outputId": "7ca492a4-c655-4e09-e11d-4f61716a5b6d"
      },
      "execution_count": 53,
      "outputs": [
        {
          "output_type": "stream",
          "name": "stdout",
          "text": [
            "Tokens: ['First part', 'second part', 'Third part', 'And the last one', '']\n"
          ]
        }
      ]
    },
    {
      "cell_type": "code",
      "source": [],
      "metadata": {
        "id": "zM-LxoM0R8My"
      },
      "execution_count": 35,
      "outputs": []
    },
    {
      "cell_type": "markdown",
      "source": [
        "# 5 Profiling\n",
        "\n"
      ],
      "metadata": {
        "id": "vlelE2NoZqkZ"
      }
    },
    {
      "cell_type": "code",
      "source": [
        "import timeit\n",
        "\n",
        "setup = \"from math import sqrt\"\n",
        "\n",
        "code = '''\n",
        "def func():\n",
        "  return [sqrt(x) for x in range(100)]\n",
        "    '''\n",
        "\n",
        "print(timeit.timeit(stmt=code, setup=setup, number=int(1e4)))"
      ],
      "metadata": {
        "id": "jYjsLJMvZu0_",
        "outputId": "a5f2e9cc-b257-4b2a-8ed8-93ff0c4699cc",
        "colab": {
          "base_uri": "https://localhost:8080/"
        }
      },
      "execution_count": 63,
      "outputs": [
        {
          "output_type": "stream",
          "name": "stdout",
          "text": [
            "0.0019977440006186953\n"
          ]
        }
      ]
    },
    {
      "cell_type": "code",
      "source": [
        "# show information on progress using TQDM\n",
        "from tqdm import tqdm\n",
        "import time\n",
        "\n",
        "for i in tqdm(range(100)):\n",
        "    time.sleep(0.01)\n"
      ],
      "metadata": {
        "id": "MYCJC_kIaZ-T",
        "outputId": "92e81dd1-0d1f-45fb-98b5-e50af979044c",
        "colab": {
          "base_uri": "https://localhost:8080/"
        }
      },
      "execution_count": 67,
      "outputs": [
        {
          "output_type": "stream",
          "name": "stderr",
          "text": [
            "100%|██████████| 100/100 [00:01<00:00, 97.70it/s]\n"
          ]
        }
      ]
    },
    {
      "cell_type": "code",
      "source": [
        "# use tqdm with some custom message, use postfix and progress bar\n",
        "my_list = [\"jablko\", \"hruska\", \"banan\"]\n",
        "\n",
        "for item in tqdm(my_list, desc=f\"Processing item: {item}\"):\n",
        "    time.sleep(0.1)\n",
        "\n"
      ],
      "metadata": {
        "id": "p-Rj3WCibFQh",
        "outputId": "fa3f3acb-ae70-48cd-aebe-34966744389e",
        "colab": {
          "base_uri": "https://localhost:8080/"
        }
      },
      "execution_count": 73,
      "outputs": [
        {
          "output_type": "stream",
          "name": "stderr",
          "text": [
            "Processing item: banan: 100%|██████████| 3/3 [00:00<00:00,  9.87it/s]\n"
          ]
        }
      ]
    },
    {
      "cell_type": "code",
      "source": [
        "import threading\n",
        "\n",
        "\n",
        "def iterate_print(iter):\n",
        "    # A function prints the elements of a list\n",
        "    for item in iter:\n",
        "        print(item)"
      ],
      "metadata": {
        "id": "QTgZbVIKR8vd"
      },
      "execution_count": 36,
      "outputs": []
    },
    {
      "cell_type": "code",
      "source": [
        "t1 = threading.Thread(target=iterate_print, args=(range(5),))  # writing out successive natural numbers\n",
        "t2 = threading.Thread(target=iterate_print, args=(\"Python\",))  # writing the characters of the string"
      ],
      "metadata": {
        "id": "zaAdP5-QR9Xw"
      },
      "execution_count": 37,
      "outputs": []
    },
    {
      "cell_type": "code",
      "source": [
        "#\n",
        "# Cíl:\n",
        "# 1. Použít modul `timeit` k měření doby provádění funkce `main_work_function`.\n",
        "# 2. Používat jednoduché `print()` příkazy pro záznam informací o průběhu skriptu.\n",
        "# 3. Použít modul `tqdm` k zobrazení progress baru pro hlavní smyčku ve funkci `main_work_function`.\n",
        "#\n",
        "# Instrukce jsou uvedeny v komentářích níže.\n",
        "\n",
        "import time\n",
        "import math\n",
        "import random\n",
        "import timeit # Pro Úkol 1\n",
        "from tqdm import tqdm # Pro Úkol 3\n",
        "\n",
        "# --- Poskytnutý kód (základní funkce) ---\n",
        "# TENTO KÓD BY STUDENTI NEMĚLI MĚNIT, POUZE HO DOPLNIT O PROFILOVÁNÍ, LOGOVÁNÍ A TQDM\n",
        "\n",
        "def expensive_calculation(item_value):\n",
        "    \"\"\"Simuluje výpočetně náročnou operaci na jedné položce.\"\"\"\n",
        "    # Záměrně neefektivní část.\n",
        "    for _ in range(10000 + random.randint(0, 5000)):\n",
        "        _ = math.sqrt(abs(random.gauss(100, 50))) * math.tan(random.random())\n",
        "    result = item_value * random.uniform(0.5, 1.5) + math.log(abs(item_value) + 1)\n",
        "    # print(f\"DEBUG: expensive_calculation for {item_value} resulted in {result}\") # Příklad, kam přidat print pro logování\n",
        "    return result\n",
        "\n",
        "def process_data_item(item_id, data_value):\n",
        "    \"\"\"Zpracuje jednu datovou položku.\"\"\"\n",
        "    # print(f\"INFO: Processing item {item_id} with value {data_value}\") # Příklad, kam přidat print pro logování\n",
        "    time.sleep(random.uniform(0.001, 0.005))\n",
        "    processed_value = expensive_calculation(data_value)\n",
        "    time.sleep(random.uniform(0.001, 0.003))\n",
        "    # print(f\"DEBUG: Finished processing item {item_id}. Processed value: {processed_value}\") # Příklad\n",
        "    return {\"id\": item_id, \"original\": data_value, \"processed\": round(processed_value, 2)}\n",
        "\n",
        "def main_work_function(dataset):\n",
        "    \"\"\"\n",
        "    Hlavní funkce pro zpracování datasetu.\n",
        "    Studenti by měli přidat `tqdm` kolem smyčky a print() pro logování dovnitř.\n",
        "    \"\"\"\n",
        "    # print(\"INFO: Starting main_work_function...\") # Příklad\n",
        "    results = []\n",
        "\n",
        "    # ÚKOL 3: Přidejte `tqdm` progress bar pro následující smyčku.\n",
        "    # Zde začíná kód studenta pro Úkol 3\n",
        "    data_iterator = tqdm(dataset, desc=\"Zpracování datasetu\", unit=\"položka\", leave=True)\n",
        "    for i, item in enumerate(data_iterator):\n",
        "    # Zde končí kód studenta pro Úkol 3\n",
        "\n",
        "        # ÚKOL 2: Přidejte logování pomocí print().\n",
        "        # Zde začíná kód studenta pro Úkol 2 (logování uvnitř smyčky)\n",
        "        if (i + 1) % 10 == 0: # Logovat každou 10. položku pro přehlednost\n",
        "            print(f\"INFO: Zpracovává se položka {i+1}/{len(dataset)}: hodnota {item}\")\n",
        "        # print(f\"DEBUG: Detail: Zpracování položky index {i}, hodnota {item}\") # Příklad detailnějšího logu\n",
        "        # Zde končí kód studenta pro Úkol 2\n",
        "\n",
        "        result = process_data_item(item_id=f\"item_{i:03d}\", data_value=item)\n",
        "        results.append(result)\n",
        "\n",
        "    # print(f\"INFO: Finished main_work_function. Processed {len(results)} items.\") # Příklad\n",
        "    return results\n",
        "\n",
        "def generate_sample_dataset(size=50):\n",
        "    \"\"\"Generuje náhodný dataset.\"\"\"\n",
        "    return [random.randint(-500, 1500) for _ in range(size)]\n",
        "\n",
        "# --- Hlavní část skriptu ---\n",
        "if __name__ == \"__main__\":\n",
        "    # ÚKOL 2: Použijte print() pro logování.\n",
        "    # Není potřeba žádné speciální nastavení, stačí používat print() na relevantních místech.\n",
        "    print(\"INFO: Skript spuštěn.\")\n",
        "\n",
        "    # Generování datasetu\n",
        "    dataset_size = 75\n",
        "    print(f\"INFO: Generuji dataset o velikosti {dataset_size}...\")\n",
        "    dataset = generate_sample_dataset(size=dataset_size)\n",
        "    # print(f\"DEBUG: Vygenerovaný dataset (prvních 5 položek): {dataset[:5]}\")\n",
        "\n",
        "    # ÚKOL 1: Měření času pomocí timeit.\n",
        "    # Změřte dobu provádění `main_work_function`.\n",
        "    # `timeit` je vhodnější pro měření krátkých kousků kódu, které se opakují mnohokrát.\n",
        "    # Pro měření celé funkce, která se volá jednou, můžeme použít `time.perf_counter()`\n",
        "    # nebo `timeit.timeit` s `number=1`.\n",
        "    # Pro účely tohoto cvičení použijeme `timeit.timeit` s `number=1` pro demonstraci.\n",
        "\n",
        "    print(\"INFO: Spouštím hlavní funkci pro zpracování dat...\")\n",
        "\n",
        "    # Zde začíná kód studenta pro Úkol 1 (měření času)\n",
        "\n",
        "    # Příprava pro timeit: definujeme setup kód a kód k měření.\n",
        "    # Setup kód se provede jednou před měřením.\n",
        "    # Kód k měření je ten, jehož čas chceme zjistit.\n",
        "\n",
        "    # Abychom mohli `main_work_function` a `dataset` použít v `timeit`,\n",
        "    # musíme je importovat do jeho scope nebo je předat přes `globals`.\n",
        "\n",
        "    # Varianta 1: Použití time.perf_counter() pro jednorázové měření (jednodušší pro tento případ)\n",
        "    start_time_pc = time.perf_counter()\n",
        "    processed_results = main_work_function(dataset) # Volání hlavní funkce\n",
        "    end_time_pc = time.perf_counter()\n",
        "    duration_pc = end_time_pc - start_time_pc\n",
        "    print(f\"\\n--- Měření pomocí time.perf_counter() ---\")\n",
        "    print(f\"Doba trvání main_work_function: {duration_pc:.4f} sekund.\")\n",
        "\n",
        "    # Varianta 2: Použití timeit.timeit (pro demonstraci, i když pro jednorázové volání je perf_counter() přirozenější)\n",
        "    # `timeit` typicky spouští kód vícekrát, aby získal přesnější měření.\n",
        "    # Pro jednorázové spuštění nastavíme `number=1`.\n",
        "    # Musíme zajistit, aby `main_work_function` a `dataset` byly dostupné v `timeit`.\n",
        "\n",
        "    # Příprava pro timeit - setup string\n",
        "    # Předáváme potřebné funkce a proměnné do `globals` parametru `timeit.timeit`\n",
        "    # nebo je importujeme v setup stringu.\n",
        "    setup_code = \"\"\"\n",
        "import random\n",
        "import math\n",
        "import time # process_data_item a expensive_calculation ho používají\n",
        "from __main__ import main_work_function, generate_sample_dataset, process_data_item, expensive_calculation\n",
        "# Musíme znovu vygenerovat dataset uvnitř setupu, pokud ho chceme mít stejný pro každé opakování (pokud by number > 1)\n",
        "# Pro number=1 to není tak kritické, ale je to dobrá praxe.\n",
        "# Nebo můžeme dataset předat přes globals.\n",
        "# dataset_for_timeit = generate_sample_dataset(size={{}}) # Nahradit {{}} velikostí\n",
        "# Poznámka: Zde bylo potřeba escapovat složené závorky pro .format() níže, pokud by se tato řádka odkomentovala a formátovala.\n",
        "# Jelikož .format(dataset_size) níže nemá žádný aktivní placeholder, mohlo by být i odstraněno, pokud tato řádka zůstane komentářem.\n",
        "\"\"\".format(dataset_size) # Vložíme dataset_size do setup_code, i když aktuálně nemá aktivní placeholder\n",
        "\n",
        "\n",
        "    # Kód, který se bude měřit\n",
        "    stmt_code = f\"main_work_function(dataset_for_timeit)\" # Tento řádek by potřeboval dataset_for_timeit, pokud by se setup_code aktivně používal k jeho vytvoření\n",
        "\n",
        "    # Vytvoření datasetu, který bude dostupný pro timeit přes globals\n",
        "    # Toto je jednodušší než ho vytvářet v setup stringu pro tento případ.\n",
        "    dataset_for_timeit_measurement = generate_sample_dataset(size=dataset_size)\n",
        "\n",
        "    print(f\"\\n--- Měření pomocí timeit.timeit (number=1) ---\")\n",
        "    # Měření času. `globals` argument zpřístupní proměnné z aktuálního scope.\n",
        "    # Je důležité, aby `main_work_function` a `dataset_for_timeit_measurement` byly v `globals()`.\n",
        "    # Také všechny funkce, které `main_work_function` volá, a moduly, které používají.\n",
        "    # Pro jednoduchost můžeme předat celé `globals()`.\n",
        "\n",
        "    # Abychom zajistili, že `tqdm` nevypisuje do konzole během `timeit`, můžeme ho dočasně vypnout\n",
        "    # nebo použít `disable=True` v `tqdm` konstruktoru, pokud by to bylo součástí měřeného kódu.\n",
        "    # V našem případě je `tqdm` uvnitř `main_work_function`, takže to ovlivní výstup.\n",
        "    # Pro čisté měření `timeit` by bylo lepší `tqdm` odstranit nebo vypnout.\n",
        "    # Pro toto cvičení to ponecháme pro demonstraci.\n",
        "\n",
        "    # Definujeme wrapper funkci, kterou bude timeit volat, abychom mohli předat argumenty\n",
        "    def wrapper_for_timeit(data):\n",
        "        main_work_function(data)\n",
        "\n",
        "    # Použijeme `functools.partial` pro vytvoření funkce bez argumentů, kterou timeit může volat.\n",
        "    import functools\n",
        "    timeit_callable = functools.partial(wrapper_for_timeit, dataset_for_timeit_measurement)\n",
        "\n",
        "    # Počet opakování pro `timeit`. Pro dlouho běžící funkci stačí 1.\n",
        "    number_of_runs = 1\n",
        "    duration_timeit = timeit.timeit(timeit_callable, number=number_of_runs)\n",
        "\n",
        "    print(f\"Doba trvání main_work_function (měřeno timeit, {number_of_runs} spuštění): {duration_timeit:.4f} sekund.\")\n",
        "    if number_of_runs > 1:\n",
        "        print(f\"Průměrná doba na jedno spuštění: {duration_timeit/number_of_runs:.4f} sekund.\")\n",
        "\n",
        "    # Poznámka pro studenty:\n",
        "    # `timeit` je nejlepší pro mikro-benchmarky (velmi krátké kousky kódu).\n",
        "    # Pro měření delších funkcí, jako je tato, je `time.perf_counter()` často jednodušší a dostatečné.\n",
        "    # Výstup `tqdm` se během `timeit` normálně zobrazí, pokud není explicitně vypnut.\n",
        "    # Pro přesné benchmarkování by se vedlejší efekty jako print a tqdm měly minimalizovat nebo odstranit z měřené části.\n",
        "\n",
        "    # Zde končí kód studenta pro Úkol 1\n",
        "\n",
        "    # Výsledky z prvního (perf_counter) běhu\n",
        "    print(f\"\\nINFO: Zpracování (měřeno perf_counter) dokončeno za {duration_pc:.2f} sekund.\")\n",
        "    print(f\"INFO: Počet zpracovaných výsledků: {len(processed_results)}\")\n",
        "    if processed_results:\n",
        "        # print(f\"DEBUG: Příklad zpracovaného výsledku: {processed_results[0]}\")\n",
        "        print(f\"Ukázka prvního výsledku: {processed_results[0]}\")\n",
        "\n",
        "\n",
        "    print(\"INFO: Skript dokončen.\")\n",
        "\n",
        "# --- Očekávaný postup studenta ---\n",
        "# 1. Spustí skript v původní podobě, aby viděl, jak funguje.\n",
        "# 2. Implementuje Úkol 2 (Logování pomocí print()):\n",
        "#    - Vloží `print()` s prefixy jako \"INFO:\", \"DEBUG:\" na relevantní místa.\n",
        "#    - Ověří, že se zprávy zobrazují v konzoli.\n",
        "# 3. Implementuje Úkol 3 (TQDM):\n",
        "#    - Importuje `tqdm`.\n",
        "#    - Obklopí iterátor `dataset` ve funkci `main_work_function` pomocí `tqdm()`.\n",
        "#    - Přidá popis (`desc`) pro progress bar.\n",
        "#    - Spustí skript a ověří, že se progress bar zobrazuje a aktualizuje.\n",
        "# 4. Implementuje Úkol 1 (Měření času):\n",
        "#    - Použije `time.perf_counter()` před a po volání `main_work_function` pro jednoduché měření.\n",
        "#    - Alternativně (pro demonstraci `timeit`) nastaví a zavolá `timeit.timeit` pro `main_work_function`.\n",
        "#      Uvědomí si komplexitu předávání argumentů a scope do `timeit`.\n",
        "#    - Vypíše změřený čas.\n",
        "# 5. Otestuje všechny části dohromady.\n"
      ],
      "metadata": {
        "colab": {
          "base_uri": "https://localhost:8080/"
        },
        "id": "MOUgfd8wSbK_",
        "outputId": "9f99484c-ceb7-48dc-dd8a-429881fcd46c"
      },
      "execution_count": 76,
      "outputs": [
        {
          "output_type": "stream",
          "name": "stdout",
          "text": [
            "INFO: Skript spuštěn.\n",
            "INFO: Generuji dataset o velikosti 75...\n",
            "INFO: Spouštím hlavní funkci pro zpracování dat...\n"
          ]
        },
        {
          "output_type": "stream",
          "name": "stderr",
          "text": [
            "Zpracování datasetu:   9%|▉         | 7/75 [00:00<00:01, 64.04položka/s]"
          ]
        },
        {
          "output_type": "stream",
          "name": "stdout",
          "text": [
            "INFO: Zpracovává se položka 10/75: hodnota 511\n"
          ]
        },
        {
          "output_type": "stream",
          "name": "stderr",
          "text": [
            "Zpracování datasetu:  35%|███▍      | 26/75 [00:00<00:01, 48.21položka/s]"
          ]
        },
        {
          "output_type": "stream",
          "name": "stdout",
          "text": [
            "INFO: Zpracovává se položka 20/75: hodnota 525\n"
          ]
        },
        {
          "output_type": "stream",
          "name": "stderr",
          "text": [
            "Zpracování datasetu:  48%|████▊     | 36/75 [00:00<00:00, 46.03položka/s]"
          ]
        },
        {
          "output_type": "stream",
          "name": "stdout",
          "text": [
            "INFO: Zpracovává se položka 30/75: hodnota -496\n"
          ]
        },
        {
          "output_type": "stream",
          "name": "stderr",
          "text": [
            "Zpracování datasetu:  61%|██████▏   | 46/75 [00:00<00:00, 44.11položka/s]"
          ]
        },
        {
          "output_type": "stream",
          "name": "stdout",
          "text": [
            "INFO: Zpracovává se položka 40/75: hodnota 1243\n"
          ]
        },
        {
          "output_type": "stream",
          "name": "stderr",
          "text": [
            "Zpracování datasetu:  75%|███████▍  | 56/75 [00:01<00:00, 44.75položka/s]"
          ]
        },
        {
          "output_type": "stream",
          "name": "stdout",
          "text": [
            "INFO: Zpracovává se položka 50/75: hodnota -80\n"
          ]
        },
        {
          "output_type": "stream",
          "name": "stderr",
          "text": [
            "Zpracování datasetu:  88%|████████▊ | 66/75 [00:01<00:00, 44.58položka/s]"
          ]
        },
        {
          "output_type": "stream",
          "name": "stdout",
          "text": [
            "INFO: Zpracovává se položka 60/75: hodnota 263\n"
          ]
        },
        {
          "output_type": "stream",
          "name": "stderr",
          "text": [
            "Zpracování datasetu: 100%|██████████| 75/75 [00:01<00:00, 46.05položka/s]\n"
          ]
        },
        {
          "output_type": "stream",
          "name": "stdout",
          "text": [
            "INFO: Zpracovává se položka 70/75: hodnota 1475\n",
            "\n",
            "--- Měření pomocí time.perf_counter() ---\n",
            "Doba trvání main_work_function: 1.6361 sekund.\n",
            "\n",
            "--- Měření pomocí timeit.timeit (number=1) ---\n"
          ]
        },
        {
          "output_type": "stream",
          "name": "stderr",
          "text": [
            "Zpracování datasetu:  20%|██        | 15/75 [00:00<00:01, 43.42položka/s]"
          ]
        },
        {
          "output_type": "stream",
          "name": "stdout",
          "text": [
            "INFO: Zpracovává se položka 10/75: hodnota 1150\n"
          ]
        },
        {
          "output_type": "stream",
          "name": "stderr",
          "text": [
            "Zpracování datasetu:  33%|███▎      | 25/75 [00:00<00:01, 43.53položka/s]"
          ]
        },
        {
          "output_type": "stream",
          "name": "stdout",
          "text": [
            "INFO: Zpracovává se položka 20/75: hodnota 1395\n"
          ]
        },
        {
          "output_type": "stream",
          "name": "stderr",
          "text": [
            "Zpracování datasetu:  47%|████▋     | 35/75 [00:00<00:00, 44.43položka/s]"
          ]
        },
        {
          "output_type": "stream",
          "name": "stdout",
          "text": [
            "INFO: Zpracovává se položka 30/75: hodnota -292\n"
          ]
        },
        {
          "output_type": "stream",
          "name": "stderr",
          "text": [
            "Zpracování datasetu:  64%|██████▍   | 48/75 [00:01<00:00, 53.85položka/s]"
          ]
        },
        {
          "output_type": "stream",
          "name": "stdout",
          "text": [
            "INFO: Zpracovává se položka 40/75: hodnota -477\n",
            "INFO: Zpracovává se položka 50/75: hodnota 451\n"
          ]
        },
        {
          "output_type": "stream",
          "name": "stderr",
          "text": [
            "Zpracování datasetu:  95%|█████████▍| 71/75 [00:01<00:00, 63.71položka/s]"
          ]
        },
        {
          "output_type": "stream",
          "name": "stdout",
          "text": [
            "INFO: Zpracovává se položka 60/75: hodnota 181\n",
            "INFO: Zpracovává se položka 70/75: hodnota 324\n"
          ]
        },
        {
          "output_type": "stream",
          "name": "stderr",
          "text": [
            "\rZpracování datasetu: 100%|██████████| 75/75 [00:01<00:00, 54.00položka/s]"
          ]
        },
        {
          "output_type": "stream",
          "name": "stdout",
          "text": [
            "Doba trvání main_work_function (měřeno timeit, 1 spuštění): 1.3941 sekund.\n",
            "\n",
            "INFO: Zpracování (měřeno perf_counter) dokončeno za 1.64 sekund.\n",
            "INFO: Počet zpracovaných výsledků: 75\n",
            "Ukázka prvního výsledku: {'id': 'item_000', 'original': 237, 'processed': 189.09}\n",
            "INFO: Skript dokončen.\n"
          ]
        },
        {
          "output_type": "stream",
          "name": "stderr",
          "text": [
            "\n"
          ]
        }
      ]
    },
    {
      "cell_type": "code",
      "source": [],
      "metadata": {
        "id": "ZhkRkGqkd1QN"
      },
      "execution_count": null,
      "outputs": []
    }
  ]
}