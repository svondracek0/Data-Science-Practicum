{
  "nbformat": 4,
  "nbformat_minor": 0,
  "metadata": {
    "colab": {
      "name": "Vondracek_W10_DSP2021.ipynb",
      "provenance": [],
      "authorship_tag": "ABX9TyMvE/J5XSrjgvVGk+tEXuRZ",
      "include_colab_link": true
    },
    "kernelspec": {
      "name": "python3",
      "display_name": "Python 3"
    },
    "language_info": {
      "name": "python"
    }
  },
  "cells": [
    {
      "cell_type": "markdown",
      "metadata": {
        "id": "view-in-github",
        "colab_type": "text"
      },
      "source": [
        "<a href=\"https://colab.research.google.com/github/svondracek0/Data-Science-Practicum/blob/main/Vondracek_W10_DSP2021.ipynb\" target=\"_parent\"><img src=\"https://colab.research.google.com/assets/colab-badge.svg\" alt=\"Open In Colab\"/></a>"
      ]
    },
    {
      "cell_type": "code",
      "metadata": {
        "colab": {
          "base_uri": "https://localhost:8080/"
        },
        "id": "lmEXleYs6vNV",
        "outputId": "19d913d0-aa66-422e-cb19-ae7c40d2f3b9"
      },
      "source": [
        "!pip install genomic-benchmarks\n"
      ],
      "execution_count": 1,
      "outputs": [
        {
          "output_type": "stream",
          "name": "stdout",
          "text": [
            "Collecting genomic-benchmarks\n",
            "  Downloading genomic_benchmarks-0.0.6.tar.gz (17 kB)\n",
            "Collecting biopython>=1.79\n",
            "  Downloading biopython-1.79-cp37-cp37m-manylinux_2_5_x86_64.manylinux1_x86_64.whl (2.3 MB)\n",
            "\u001b[K     |████████████████████████████████| 2.3 MB 5.2 MB/s \n",
            "\u001b[?25hRequirement already satisfied: requests>=2.23.0 in /usr/local/lib/python3.7/dist-packages (from genomic-benchmarks) (2.23.0)\n",
            "Requirement already satisfied: pip>=20.0.1 in /usr/local/lib/python3.7/dist-packages (from genomic-benchmarks) (21.1.3)\n",
            "Requirement already satisfied: numpy>=1.17.0 in /usr/local/lib/python3.7/dist-packages (from genomic-benchmarks) (1.19.5)\n",
            "Requirement already satisfied: pandas>=1.1.4 in /usr/local/lib/python3.7/dist-packages (from genomic-benchmarks) (1.1.5)\n",
            "Requirement already satisfied: tqdm>=4.41.1 in /usr/local/lib/python3.7/dist-packages (from genomic-benchmarks) (4.62.3)\n",
            "Collecting pyyaml>=5.3.1\n",
            "  Downloading PyYAML-6.0-cp37-cp37m-manylinux_2_5_x86_64.manylinux1_x86_64.manylinux_2_12_x86_64.manylinux2010_x86_64.whl (596 kB)\n",
            "\u001b[K     |████████████████████████████████| 596 kB 35.7 MB/s \n",
            "\u001b[?25hRequirement already satisfied: googledrivedownloader>=0.4 in /usr/local/lib/python3.7/dist-packages (from genomic-benchmarks) (0.4)\n",
            "Collecting yarl\n",
            "  Downloading yarl-1.7.2-cp37-cp37m-manylinux_2_5_x86_64.manylinux1_x86_64.manylinux_2_12_x86_64.manylinux2010_x86_64.whl (271 kB)\n",
            "\u001b[K     |████████████████████████████████| 271 kB 69.9 MB/s \n",
            "\u001b[?25hRequirement already satisfied: pytz>=2017.2 in /usr/local/lib/python3.7/dist-packages (from pandas>=1.1.4->genomic-benchmarks) (2018.9)\n",
            "Requirement already satisfied: python-dateutil>=2.7.3 in /usr/local/lib/python3.7/dist-packages (from pandas>=1.1.4->genomic-benchmarks) (2.8.2)\n",
            "Requirement already satisfied: six>=1.5 in /usr/local/lib/python3.7/dist-packages (from python-dateutil>=2.7.3->pandas>=1.1.4->genomic-benchmarks) (1.15.0)\n",
            "Requirement already satisfied: idna<3,>=2.5 in /usr/local/lib/python3.7/dist-packages (from requests>=2.23.0->genomic-benchmarks) (2.10)\n",
            "Requirement already satisfied: urllib3!=1.25.0,!=1.25.1,<1.26,>=1.21.1 in /usr/local/lib/python3.7/dist-packages (from requests>=2.23.0->genomic-benchmarks) (1.24.3)\n",
            "Requirement already satisfied: chardet<4,>=3.0.2 in /usr/local/lib/python3.7/dist-packages (from requests>=2.23.0->genomic-benchmarks) (3.0.4)\n",
            "Requirement already satisfied: certifi>=2017.4.17 in /usr/local/lib/python3.7/dist-packages (from requests>=2.23.0->genomic-benchmarks) (2021.10.8)\n",
            "Requirement already satisfied: typing-extensions>=3.7.4 in /usr/local/lib/python3.7/dist-packages (from yarl->genomic-benchmarks) (3.10.0.2)\n",
            "Collecting multidict>=4.0\n",
            "  Downloading multidict-5.2.0-cp37-cp37m-manylinux_2_5_x86_64.manylinux1_x86_64.manylinux_2_12_x86_64.manylinux2010_x86_64.whl (160 kB)\n",
            "\u001b[K     |████████████████████████████████| 160 kB 57.1 MB/s \n",
            "\u001b[?25hBuilding wheels for collected packages: genomic-benchmarks\n",
            "  Building wheel for genomic-benchmarks (setup.py) ... \u001b[?25l\u001b[?25hdone\n",
            "  Created wheel for genomic-benchmarks: filename=genomic_benchmarks-0.0.6-py3-none-any.whl size=17525 sha256=20112eba247269aba2bd0b6914b321e23bb72d48126f4e312c315af67cc4c93a\n",
            "  Stored in directory: /root/.cache/pip/wheels/a7/0f/e4/f723fa5070923dc495b63e02600faf64bf76dbdf422ebdeb66\n",
            "Successfully built genomic-benchmarks\n",
            "Installing collected packages: multidict, yarl, pyyaml, biopython, genomic-benchmarks\n",
            "  Attempting uninstall: pyyaml\n",
            "    Found existing installation: PyYAML 3.13\n",
            "    Uninstalling PyYAML-3.13:\n",
            "      Successfully uninstalled PyYAML-3.13\n",
            "Successfully installed biopython-1.79 genomic-benchmarks-0.0.6 multidict-5.2.0 pyyaml-6.0 yarl-1.7.2\n"
          ]
        }
      ]
    },
    {
      "cell_type": "code",
      "metadata": {
        "colab": {
          "base_uri": "https://localhost:8080/"
        },
        "id": "SDbExBDQ7D6b",
        "outputId": "69bc30df-76b7-46b5-9629-04c7cb92e2f6"
      },
      "source": [
        "!pip install tensorflow>=2.6.0\n",
        "!pip install tensorflow-addons\n",
        "!pip install typing-extensions --upgrade "
      ],
      "execution_count": 2,
      "outputs": [
        {
          "output_type": "stream",
          "name": "stdout",
          "text": [
            "Collecting tensorflow-addons\n",
            "  Downloading tensorflow_addons-0.15.0-cp37-cp37m-manylinux_2_12_x86_64.manylinux2010_x86_64.whl (1.1 MB)\n",
            "\u001b[?25l\r\u001b[K     |▎                               | 10 kB 19.0 MB/s eta 0:00:01\r\u001b[K     |▋                               | 20 kB 21.7 MB/s eta 0:00:01\r\u001b[K     |▉                               | 30 kB 12.1 MB/s eta 0:00:01\r\u001b[K     |█▏                              | 40 kB 9.0 MB/s eta 0:00:01\r\u001b[K     |█▌                              | 51 kB 5.2 MB/s eta 0:00:01\r\u001b[K     |█▊                              | 61 kB 5.1 MB/s eta 0:00:01\r\u001b[K     |██                              | 71 kB 5.5 MB/s eta 0:00:01\r\u001b[K     |██▍                             | 81 kB 6.2 MB/s eta 0:00:01\r\u001b[K     |██▋                             | 92 kB 4.7 MB/s eta 0:00:01\r\u001b[K     |███                             | 102 kB 5.0 MB/s eta 0:00:01\r\u001b[K     |███▎                            | 112 kB 5.0 MB/s eta 0:00:01\r\u001b[K     |███▌                            | 122 kB 5.0 MB/s eta 0:00:01\r\u001b[K     |███▉                            | 133 kB 5.0 MB/s eta 0:00:01\r\u001b[K     |████▏                           | 143 kB 5.0 MB/s eta 0:00:01\r\u001b[K     |████▍                           | 153 kB 5.0 MB/s eta 0:00:01\r\u001b[K     |████▊                           | 163 kB 5.0 MB/s eta 0:00:01\r\u001b[K     |█████                           | 174 kB 5.0 MB/s eta 0:00:01\r\u001b[K     |█████▎                          | 184 kB 5.0 MB/s eta 0:00:01\r\u001b[K     |█████▋                          | 194 kB 5.0 MB/s eta 0:00:01\r\u001b[K     |█████▉                          | 204 kB 5.0 MB/s eta 0:00:01\r\u001b[K     |██████▏                         | 215 kB 5.0 MB/s eta 0:00:01\r\u001b[K     |██████▌                         | 225 kB 5.0 MB/s eta 0:00:01\r\u001b[K     |██████▊                         | 235 kB 5.0 MB/s eta 0:00:01\r\u001b[K     |███████                         | 245 kB 5.0 MB/s eta 0:00:01\r\u001b[K     |███████▍                        | 256 kB 5.0 MB/s eta 0:00:01\r\u001b[K     |███████▋                        | 266 kB 5.0 MB/s eta 0:00:01\r\u001b[K     |████████                        | 276 kB 5.0 MB/s eta 0:00:01\r\u001b[K     |████████▎                       | 286 kB 5.0 MB/s eta 0:00:01\r\u001b[K     |████████▌                       | 296 kB 5.0 MB/s eta 0:00:01\r\u001b[K     |████████▉                       | 307 kB 5.0 MB/s eta 0:00:01\r\u001b[K     |█████████                       | 317 kB 5.0 MB/s eta 0:00:01\r\u001b[K     |█████████▍                      | 327 kB 5.0 MB/s eta 0:00:01\r\u001b[K     |█████████▊                      | 337 kB 5.0 MB/s eta 0:00:01\r\u001b[K     |██████████                      | 348 kB 5.0 MB/s eta 0:00:01\r\u001b[K     |██████████▎                     | 358 kB 5.0 MB/s eta 0:00:01\r\u001b[K     |██████████▋                     | 368 kB 5.0 MB/s eta 0:00:01\r\u001b[K     |██████████▉                     | 378 kB 5.0 MB/s eta 0:00:01\r\u001b[K     |███████████▏                    | 389 kB 5.0 MB/s eta 0:00:01\r\u001b[K     |███████████▌                    | 399 kB 5.0 MB/s eta 0:00:01\r\u001b[K     |███████████▊                    | 409 kB 5.0 MB/s eta 0:00:01\r\u001b[K     |████████████                    | 419 kB 5.0 MB/s eta 0:00:01\r\u001b[K     |████████████▍                   | 430 kB 5.0 MB/s eta 0:00:01\r\u001b[K     |████████████▋                   | 440 kB 5.0 MB/s eta 0:00:01\r\u001b[K     |█████████████                   | 450 kB 5.0 MB/s eta 0:00:01\r\u001b[K     |█████████████▎                  | 460 kB 5.0 MB/s eta 0:00:01\r\u001b[K     |█████████████▌                  | 471 kB 5.0 MB/s eta 0:00:01\r\u001b[K     |█████████████▉                  | 481 kB 5.0 MB/s eta 0:00:01\r\u001b[K     |██████████████                  | 491 kB 5.0 MB/s eta 0:00:01\r\u001b[K     |██████████████▍                 | 501 kB 5.0 MB/s eta 0:00:01\r\u001b[K     |██████████████▊                 | 512 kB 5.0 MB/s eta 0:00:01\r\u001b[K     |███████████████                 | 522 kB 5.0 MB/s eta 0:00:01\r\u001b[K     |███████████████▎                | 532 kB 5.0 MB/s eta 0:00:01\r\u001b[K     |███████████████▋                | 542 kB 5.0 MB/s eta 0:00:01\r\u001b[K     |███████████████▉                | 552 kB 5.0 MB/s eta 0:00:01\r\u001b[K     |████████████████▏               | 563 kB 5.0 MB/s eta 0:00:01\r\u001b[K     |████████████████▌               | 573 kB 5.0 MB/s eta 0:00:01\r\u001b[K     |████████████████▊               | 583 kB 5.0 MB/s eta 0:00:01\r\u001b[K     |█████████████████               | 593 kB 5.0 MB/s eta 0:00:01\r\u001b[K     |█████████████████▍              | 604 kB 5.0 MB/s eta 0:00:01\r\u001b[K     |█████████████████▋              | 614 kB 5.0 MB/s eta 0:00:01\r\u001b[K     |██████████████████              | 624 kB 5.0 MB/s eta 0:00:01\r\u001b[K     |██████████████████▏             | 634 kB 5.0 MB/s eta 0:00:01\r\u001b[K     |██████████████████▌             | 645 kB 5.0 MB/s eta 0:00:01\r\u001b[K     |██████████████████▉             | 655 kB 5.0 MB/s eta 0:00:01\r\u001b[K     |███████████████████             | 665 kB 5.0 MB/s eta 0:00:01\r\u001b[K     |███████████████████▍            | 675 kB 5.0 MB/s eta 0:00:01\r\u001b[K     |███████████████████▊            | 686 kB 5.0 MB/s eta 0:00:01\r\u001b[K     |████████████████████            | 696 kB 5.0 MB/s eta 0:00:01\r\u001b[K     |████████████████████▎           | 706 kB 5.0 MB/s eta 0:00:01\r\u001b[K     |████████████████████▋           | 716 kB 5.0 MB/s eta 0:00:01\r\u001b[K     |████████████████████▉           | 727 kB 5.0 MB/s eta 0:00:01\r\u001b[K     |█████████████████████▏          | 737 kB 5.0 MB/s eta 0:00:01\r\u001b[K     |█████████████████████▌          | 747 kB 5.0 MB/s eta 0:00:01\r\u001b[K     |█████████████████████▊          | 757 kB 5.0 MB/s eta 0:00:01\r\u001b[K     |██████████████████████          | 768 kB 5.0 MB/s eta 0:00:01\r\u001b[K     |██████████████████████▎         | 778 kB 5.0 MB/s eta 0:00:01\r\u001b[K     |██████████████████████▋         | 788 kB 5.0 MB/s eta 0:00:01\r\u001b[K     |███████████████████████         | 798 kB 5.0 MB/s eta 0:00:01\r\u001b[K     |███████████████████████▏        | 808 kB 5.0 MB/s eta 0:00:01\r\u001b[K     |███████████████████████▌        | 819 kB 5.0 MB/s eta 0:00:01\r\u001b[K     |███████████████████████▉        | 829 kB 5.0 MB/s eta 0:00:01\r\u001b[K     |████████████████████████        | 839 kB 5.0 MB/s eta 0:00:01\r\u001b[K     |████████████████████████▍       | 849 kB 5.0 MB/s eta 0:00:01\r\u001b[K     |████████████████████████▊       | 860 kB 5.0 MB/s eta 0:00:01\r\u001b[K     |█████████████████████████       | 870 kB 5.0 MB/s eta 0:00:01\r\u001b[K     |█████████████████████████▎      | 880 kB 5.0 MB/s eta 0:00:01\r\u001b[K     |█████████████████████████▋      | 890 kB 5.0 MB/s eta 0:00:01\r\u001b[K     |█████████████████████████▉      | 901 kB 5.0 MB/s eta 0:00:01\r\u001b[K     |██████████████████████████▏     | 911 kB 5.0 MB/s eta 0:00:01\r\u001b[K     |██████████████████████████▌     | 921 kB 5.0 MB/s eta 0:00:01\r\u001b[K     |██████████████████████████▊     | 931 kB 5.0 MB/s eta 0:00:01\r\u001b[K     |███████████████████████████     | 942 kB 5.0 MB/s eta 0:00:01\r\u001b[K     |███████████████████████████▎    | 952 kB 5.0 MB/s eta 0:00:01\r\u001b[K     |███████████████████████████▋    | 962 kB 5.0 MB/s eta 0:00:01\r\u001b[K     |████████████████████████████    | 972 kB 5.0 MB/s eta 0:00:01\r\u001b[K     |████████████████████████████▏   | 983 kB 5.0 MB/s eta 0:00:01\r\u001b[K     |████████████████████████████▌   | 993 kB 5.0 MB/s eta 0:00:01\r\u001b[K     |████████████████████████████▉   | 1.0 MB 5.0 MB/s eta 0:00:01\r\u001b[K     |█████████████████████████████   | 1.0 MB 5.0 MB/s eta 0:00:01\r\u001b[K     |█████████████████████████████▍  | 1.0 MB 5.0 MB/s eta 0:00:01\r\u001b[K     |█████████████████████████████▊  | 1.0 MB 5.0 MB/s eta 0:00:01\r\u001b[K     |██████████████████████████████  | 1.0 MB 5.0 MB/s eta 0:00:01\r\u001b[K     |██████████████████████████████▎ | 1.1 MB 5.0 MB/s eta 0:00:01\r\u001b[K     |██████████████████████████████▋ | 1.1 MB 5.0 MB/s eta 0:00:01\r\u001b[K     |██████████████████████████████▉ | 1.1 MB 5.0 MB/s eta 0:00:01\r\u001b[K     |███████████████████████████████▏| 1.1 MB 5.0 MB/s eta 0:00:01\r\u001b[K     |███████████████████████████████▍| 1.1 MB 5.0 MB/s eta 0:00:01\r\u001b[K     |███████████████████████████████▊| 1.1 MB 5.0 MB/s eta 0:00:01\r\u001b[K     |████████████████████████████████| 1.1 MB 5.0 MB/s \n",
            "\u001b[?25hRequirement already satisfied: typeguard>=2.7 in /usr/local/lib/python3.7/dist-packages (from tensorflow-addons) (2.7.1)\n",
            "Installing collected packages: tensorflow-addons\n",
            "Successfully installed tensorflow-addons-0.15.0\n",
            "Requirement already satisfied: typing-extensions in /usr/local/lib/python3.7/dist-packages (3.10.0.2)\n",
            "Collecting typing-extensions\n",
            "  Downloading typing_extensions-4.0.1-py3-none-any.whl (22 kB)\n",
            "Installing collected packages: typing-extensions\n",
            "  Attempting uninstall: typing-extensions\n",
            "    Found existing installation: typing-extensions 3.10.0.2\n",
            "    Uninstalling typing-extensions-3.10.0.2:\n",
            "      Successfully uninstalled typing-extensions-3.10.0.2\n",
            "\u001b[31mERROR: pip's dependency resolver does not currently take into account all the packages that are installed. This behaviour is the source of the following dependency conflicts.\n",
            "arviz 0.11.4 requires typing-extensions<4,>=3.7.4.3, but you have typing-extensions 4.0.1 which is incompatible.\u001b[0m\n",
            "Successfully installed typing-extensions-4.0.1\n"
          ]
        }
      ]
    },
    {
      "cell_type": "code",
      "metadata": {
        "colab": {
          "base_uri": "https://localhost:8080/"
        },
        "id": "dbWW2UMd7PtG",
        "outputId": "c7c3ca59-d0e9-4af7-e75a-dd086c0c8132"
      },
      "source": [
        "from genomic_benchmarks.data_check import list_datasets\n",
        "from genomic_benchmarks.loc2seq import download_dataset\n",
        "from genomic_benchmarks.data_check import is_downloaded, info\n",
        "from genomic_benchmarks.models.tf import vectorize_layer, binary_f1_score\n",
        "from genomic_benchmarks.models.tf import basic_cnn_model_v0 as model\n",
        " \n",
        "list_datasets()\n"
      ],
      "execution_count": 23,
      "outputs": [
        {
          "output_type": "execute_result",
          "data": {
            "text/plain": [
              "['demo_human_or_worm',\n",
              " 'human_nontata_promoters',\n",
              " 'human_enhancers_ensembl',\n",
              " 'demo_mouse_enhancers',\n",
              " 'human_enhancers_cohn',\n",
              " 'demo_coding_vs_intergenomic_seqs']"
            ]
          },
          "metadata": {},
          "execution_count": 23
        }
      ]
    },
    {
      "cell_type": "code",
      "metadata": {
        "colab": {
          "base_uri": "https://localhost:8080/",
          "height": 199
        },
        "id": "UON8NP5aDexm",
        "outputId": "dae7d63f-4ccc-4ca0-a53a-54b43328ed27"
      },
      "source": [
        "from genomic_benchmarks.data_check import info\n",
        "info('demo_human_or_worm', version=0)\n"
      ],
      "execution_count": 37,
      "outputs": [
        {
          "output_type": "stream",
          "name": "stdout",
          "text": [
            "Dataset `demo_human_or_worm` has 2 classes: human, worm.\n",
            "\n",
            "All lenghts of genomic intervals equals 200.\n",
            "\n",
            "Totally 100000 sequences have been found, 75000 for training and 25000 for testing.\n"
          ]
        },
        {
          "output_type": "execute_result",
          "data": {
            "text/html": [
              "<div>\n",
              "<style scoped>\n",
              "    .dataframe tbody tr th:only-of-type {\n",
              "        vertical-align: middle;\n",
              "    }\n",
              "\n",
              "    .dataframe tbody tr th {\n",
              "        vertical-align: top;\n",
              "    }\n",
              "\n",
              "    .dataframe thead th {\n",
              "        text-align: right;\n",
              "    }\n",
              "</style>\n",
              "<table border=\"1\" class=\"dataframe\">\n",
              "  <thead>\n",
              "    <tr style=\"text-align: right;\">\n",
              "      <th></th>\n",
              "      <th>train</th>\n",
              "      <th>test</th>\n",
              "    </tr>\n",
              "  </thead>\n",
              "  <tbody>\n",
              "    <tr>\n",
              "      <th>human</th>\n",
              "      <td>37500</td>\n",
              "      <td>12500</td>\n",
              "    </tr>\n",
              "    <tr>\n",
              "      <th>worm</th>\n",
              "      <td>37500</td>\n",
              "      <td>12500</td>\n",
              "    </tr>\n",
              "  </tbody>\n",
              "</table>\n",
              "</div>"
            ],
            "text/plain": [
              "       train   test\n",
              "human  37500  12500\n",
              "worm   37500  12500"
            ]
          },
          "metadata": {},
          "execution_count": 37
        }
      ]
    },
    {
      "cell_type": "code",
      "metadata": {
        "colab": {
          "base_uri": "https://localhost:8080/"
        },
        "id": "eHzRVj_cDzYI",
        "outputId": "7774a722-b863-443e-9afb-605a6df44549"
      },
      "source": [
        "from genomic_benchmarks.loc2seq import download_dataset\n",
        "download_dataset(\"demo_human_or_worm\", version=0)"
      ],
      "execution_count": 38,
      "outputs": [
        {
          "output_type": "stream",
          "name": "stdout",
          "text": [
            "Downloading 1Vuc44bXRISqRDXNrxt5lGYLpLsJbrSg8 into /root/.genomic_benchmarks/demo_human_or_worm.zip... Done.\n",
            "Unzipping...Done.\n"
          ]
        },
        {
          "output_type": "execute_result",
          "data": {
            "text/plain": [
              "PosixPath('/root/.genomic_benchmarks/demo_human_or_worm')"
            ]
          },
          "metadata": {},
          "execution_count": 38
        }
      ]
    },
    {
      "cell_type": "code",
      "metadata": {
        "id": "FvuwMAx_7Zca"
      },
      "source": [
        "from pathlib import Path\n",
        "import tensorflow as tf\n",
        "\n",
        "BATCH_SIZE = 32\n",
        "SEQ_TRAIN_PATH = '/root/.genomic_benchmarks/demo_human_or_worm/train'\n",
        "CLASSES = ['human', 'worm']"
      ],
      "execution_count": 41,
      "outputs": []
    },
    {
      "cell_type": "code",
      "metadata": {
        "colab": {
          "base_uri": "https://localhost:8080/"
        },
        "id": "UR_-NNQZ8a9q",
        "outputId": "3cbc775f-a4ec-4078-9d62-0bdac8f932f7"
      },
      "source": [
        "train_set = tf.keras.preprocessing.text_dataset_from_directory(\n",
        "    directory=SEQ_TRAIN_PATH,\n",
        "    batch_size=BATCH_SIZE,\n",
        "    class_names=CLASSES\n",
        ")"
      ],
      "execution_count": 42,
      "outputs": [
        {
          "output_type": "stream",
          "name": "stdout",
          "text": [
            "Found 75000 files belonging to 2 classes.\n"
          ]
        },
        {
          "output_type": "stream",
          "name": "stderr",
          "text": [
            "/usr/local/lib/python3.7/dist-packages/tensorflow/python/data/ops/dataset_ops.py:4527: UserWarning: Even though the `tf.config.experimental_run_functions_eagerly` option is set, this option does not apply to tf.data functions. To force eager execution of tf.data functions, please use `tf.data.experimental.enable_debug_mode()`.\n",
            "  \"Even though the `tf.config.experimental_run_functions_eagerly` \"\n"
          ]
        }
      ]
    },
    {
      "cell_type": "code",
      "metadata": {
        "colab": {
          "base_uri": "https://localhost:8080/"
        },
        "id": "E0eG9OraCZNT",
        "outputId": "c8339a8f-27af-48c2-ea06-196e003a017d"
      },
      "source": [
        "list(train_set)[0][0][0]"
      ],
      "execution_count": 43,
      "outputs": [
        {
          "output_type": "execute_result",
          "data": {
            "text/plain": [
              "<tf.Tensor: shape=(), dtype=string, numpy=b'ATATACTAAAATAGTGTTGTGATTTTTTATTTTCAGTTCTACAGTGATAGTCAAAATCCAACAGATGTTGGAACTGAAAACGGTGTTGGTACCGCAAATGTTGTTATGAATTGTGTCAACGGACAATGGGTGAAAGAAGGAATTGTAATAAACGATGTCGAGTGTCAAATCATTACCTGAAGGGTATAAGGTGTGAATAT'>"
            ]
          },
          "metadata": {},
          "execution_count": 43
        }
      ]
    },
    {
      "cell_type": "code",
      "metadata": {
        "colab": {
          "base_uri": "https://localhost:8080/"
        },
        "id": "4MxPkuzMHudT",
        "outputId": "fa008016-8dca-4dc3-df2c-9e66175569df"
      },
      "source": [
        "\n",
        "\n",
        "vectorize_layer.adapt(train_set.map(lambda x, y: x))\n",
        "#vectorize_layer.set_vocabulary(vocabulary=np.asarray(['a', 'c', 't', 'g', 'n']))\n",
        "vectorize_layer.get_vocabulary()\n",
        "\n",
        "\n",
        "\n",
        "def vectorize_text(text, label):\n",
        "  text = tf.expand_dims(text, -1)\n",
        "  return vectorize_layer(text)-2, label\n",
        "\n",
        "train_ds = train_set.map(vectorize_text)"
      ],
      "execution_count": 44,
      "outputs": [
        {
          "output_type": "stream",
          "name": "stderr",
          "text": [
            "/usr/local/lib/python3.7/dist-packages/tensorflow/python/data/ops/dataset_ops.py:4527: UserWarning: Even though the `tf.config.experimental_run_functions_eagerly` option is set, this option does not apply to tf.data functions. To force eager execution of tf.data functions, please use `tf.data.experimental.enable_debug_mode()`.\n",
            "  \"Even though the `tf.config.experimental_run_functions_eagerly` \"\n"
          ]
        }
      ]
    },
    {
      "cell_type": "code",
      "metadata": {
        "id": "9OVKfuF_IlBl"
      },
      "source": [
        "\n",
        "\n",
        "model.compile(loss=tf.keras.losses.BinaryCrossentropy(from_logits=True),\n",
        "              optimizer='adam',\n",
        "              metrics=[tf.metrics.BinaryAccuracy(threshold=0.0), binary_f1_score])\n",
        "\n"
      ],
      "execution_count": 45,
      "outputs": []
    },
    {
      "cell_type": "code",
      "metadata": {
        "colab": {
          "base_uri": "https://localhost:8080/"
        },
        "id": "fMigeYNqIopx",
        "outputId": "c9f536d9-3421-45eb-9814-265cf18c0260"
      },
      "source": [
        "tf.config.run_functions_eagerly(True)\n",
        "\n",
        "\n",
        "EPOCHS = 10\n",
        "\n",
        "history = model.fit(\n",
        "    train_ds,\n",
        "    epochs=EPOCHS)\n",
        "\n"
      ],
      "execution_count": 46,
      "outputs": [
        {
          "output_type": "stream",
          "name": "stdout",
          "text": [
            "Epoch 1/10\n",
            "2344/2344 [==============================] - 204s 87ms/step - loss: 0.2934 - binary_accuracy: 0.8835 - f1_score: 0.8633\n",
            "Epoch 2/10\n",
            "2344/2344 [==============================] - 194s 83ms/step - loss: 0.1994 - binary_accuracy: 0.9212 - f1_score: 0.9148\n",
            "Epoch 3/10\n",
            "2344/2344 [==============================] - 211s 90ms/step - loss: 0.1792 - binary_accuracy: 0.9303 - f1_score: 0.9244\n",
            "Epoch 4/10\n",
            "2344/2344 [==============================] - 204s 87ms/step - loss: 0.1698 - binary_accuracy: 0.9330 - f1_score: 0.9285\n",
            "Epoch 5/10\n",
            "2344/2344 [==============================] - 201s 86ms/step - loss: 0.1623 - binary_accuracy: 0.9355 - f1_score: 0.9308\n",
            "Epoch 6/10\n",
            "2344/2344 [==============================] - 204s 87ms/step - loss: 0.1565 - binary_accuracy: 0.9385 - f1_score: 0.9342\n",
            "Epoch 7/10\n",
            "2344/2344 [==============================] - 192s 82ms/step - loss: 0.1524 - binary_accuracy: 0.9397 - f1_score: 0.9357\n",
            "Epoch 8/10\n",
            "2344/2344 [==============================] - 190s 81ms/step - loss: 0.1471 - binary_accuracy: 0.9420 - f1_score: 0.9382\n",
            "Epoch 9/10\n",
            "2344/2344 [==============================] - 194s 83ms/step - loss: 0.1445 - binary_accuracy: 0.9440 - f1_score: 0.9403\n",
            "Epoch 10/10\n",
            "2344/2344 [==============================] - 188s 80ms/step - loss: 0.1429 - binary_accuracy: 0.9439 - f1_score: 0.9389\n"
          ]
        }
      ]
    },
    {
      "cell_type": "code",
      "metadata": {
        "colab": {
          "base_uri": "https://localhost:8080/"
        },
        "id": "88GrDZIWNn_s",
        "outputId": "0b014d1a-dd7e-4ff5-d9d4-5648d7d78c90"
      },
      "source": [
        "\n",
        "\n",
        "test_dset = tf.keras.preprocessing.text_dataset_from_directory(\n",
        "    '/root/.genomic_benchmarks/demo_human_or_worm/test',\n",
        "    batch_size=BATCH_SIZE,\n",
        "    class_names=CLASSES,\n",
        "    shuffle=False)\n",
        "\n",
        "test_ds = test_dset.map(vectorize_text)\n",
        "\n"
      ],
      "execution_count": 47,
      "outputs": [
        {
          "output_type": "stream",
          "name": "stdout",
          "text": [
            "Found 25000 files belonging to 2 classes.\n"
          ]
        },
        {
          "output_type": "stream",
          "name": "stderr",
          "text": [
            "/usr/local/lib/python3.7/dist-packages/tensorflow/python/data/ops/dataset_ops.py:4527: UserWarning: Even though the `tf.config.experimental_run_functions_eagerly` option is set, this option does not apply to tf.data functions. To force eager execution of tf.data functions, please use `tf.data.experimental.enable_debug_mode()`.\n",
            "  \"Even though the `tf.config.experimental_run_functions_eagerly` \"\n"
          ]
        }
      ]
    },
    {
      "cell_type": "code",
      "metadata": {
        "colab": {
          "base_uri": "https://localhost:8080/"
        },
        "id": "YuSXeNxeN9qS",
        "outputId": "207f7476-e32d-47f8-f89c-c2293fa4f5a9"
      },
      "source": [
        "model.evaluate(test_ds)"
      ],
      "execution_count": 48,
      "outputs": [
        {
          "output_type": "stream",
          "name": "stdout",
          "text": [
            "782/782 [==============================] - 29s 37ms/step - loss: 0.1652 - binary_accuracy: 0.9348 - f1_score: 0.9188\n"
          ]
        },
        {
          "output_type": "execute_result",
          "data": {
            "text/plain": [
              "[0.16521982848644257, 0.9348400235176086, 0.9188383221626282]"
            ]
          },
          "metadata": {},
          "execution_count": 48
        }
      ]
    }
  ]
}