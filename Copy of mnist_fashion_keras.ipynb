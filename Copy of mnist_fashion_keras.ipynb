{
 "cells": [
  {
   "cell_type": "markdown",
   "metadata": {
    "id": "bmn8nhG3Swyq"
   },
   "source": [
    "## Setup"
   ]
  },
  {
   "cell_type": "code",
   "execution_count": 1,
   "metadata": {
    "colab": {
     "base_uri": "https://localhost:8080/"
    },
    "executionInfo": {
     "elapsed": 2423,
     "status": "ok",
     "timestamp": 1633536235095,
     "user": {
      "displayName": "Štěpán Vondráček",
      "photoUrl": "https://lh3.googleusercontent.com/a/default-user=s64",
      "userId": "10309502841677875173"
     },
     "user_tz": -120
    },
    "id": "_0aoL6X0OdSi",
    "outputId": "f17b3ec2-82b5-4ff2-ebc0-23b0c9444b7f"
   },
   "outputs": [
    {
     "name": "stdout",
     "output_type": "stream",
     "text": [
      "2.6.0\n"
     ]
    }
   ],
   "source": [
    "import matplotlib.pyplot as plt\n",
    "import numpy as np\n",
    "import pandas as pd\n",
    "\n",
    "import tensorflow as tf\n",
    "from tensorflow import keras\n",
    "from tensorflow.keras import layers\n",
    "\n",
    "print(tf.__version__)"
   ]
  },
  {
   "cell_type": "markdown",
   "metadata": {
    "id": "nqWh6mUpTtD-"
   },
   "source": [
    "## Data"
   ]
  },
  {
   "cell_type": "code",
   "execution_count": 2,
   "metadata": {
    "colab": {
     "base_uri": "https://localhost:8080/"
    },
    "executionInfo": {
     "elapsed": 1244,
     "status": "ok",
     "timestamp": 1633536292234,
     "user": {
      "displayName": "Štěpán Vondráček",
      "photoUrl": "https://lh3.googleusercontent.com/a/default-user=s64",
      "userId": "10309502841677875173"
     },
     "user_tz": -120
    },
    "id": "y_SD_6ieSyOA",
    "outputId": "6466f019-a145-4096-e0f3-6e82e7525288"
   },
   "outputs": [
    {
     "name": "stdout",
     "output_type": "stream",
     "text": [
      "Downloading data from https://storage.googleapis.com/tensorflow/tf-keras-datasets/train-labels-idx1-ubyte.gz\n",
      "32768/29515 [=================================] - 0s 0us/step\n",
      "40960/29515 [=========================================] - 0s 0us/step\n",
      "Downloading data from https://storage.googleapis.com/tensorflow/tf-keras-datasets/train-images-idx3-ubyte.gz\n",
      "26427392/26421880 [==============================] - 0s 0us/step\n",
      "26435584/26421880 [==============================] - 0s 0us/step\n",
      "Downloading data from https://storage.googleapis.com/tensorflow/tf-keras-datasets/t10k-labels-idx1-ubyte.gz\n",
      "16384/5148 [===============================================================================================] - 0s 0us/step\n",
      "Downloading data from https://storage.googleapis.com/tensorflow/tf-keras-datasets/t10k-images-idx3-ubyte.gz\n",
      "4423680/4422102 [==============================] - 0s 0us/step\n",
      "4431872/4422102 [==============================] - 0s 0us/step\n"
     ]
    },
    {
     "data": {
      "text/plain": [
       "((60000, 28, 28, 1), (60000,), (10000, 28, 28, 1), (10000,))"
      ]
     },
     "execution_count": 2,
     "metadata": {},
     "output_type": "execute_result"
    }
   ],
   "source": [
    "# load Fashion MNIST from Keras repo\n",
    "fashion_mnist = tf.keras.datasets.fashion_mnist\n",
    "(x_train, y_train), (x_test, y_test) = fashion_mnist.load_data() #Tohleto se pouziva jako jednoduche rozdeleni do dvou promennych, vzdy tensor s kolecky a klasifikace do tridy\n",
    "\n",
    "# add extra dimension (to have one channel)\n",
    "x_train = x_train[:,:,:,None]\n",
    "x_test = x_test[:,:,:,None]\n",
    "\n",
    "x_train.shape, y_train.shape, x_test.shape, y_test.shape"
   ]
  },
  {
   "cell_type": "code",
   "execution_count": 9,
   "metadata": {
    "executionInfo": {
     "elapsed": 202,
     "status": "ok",
     "timestamp": 1633536414542,
     "user": {
      "displayName": "Štěpán Vondráček",
      "photoUrl": "https://lh3.googleusercontent.com/a/default-user=s64",
      "userId": "10309502841677875173"
     },
     "user_tz": -120
    },
    "id": "R7gREnSlTdUV"
   },
   "outputs": [],
   "source": [
    "clothes_labels = ['T-shirt/top', 'Trouser', 'Pullover', 'Dress', 'Coat',\n",
    "                  'Sandal', 'Shirt', 'Sneaker', 'Bag', 'Ankle boot']"
   ]
  },
  {
   "cell_type": "code",
   "execution_count": 10,
   "metadata": {
    "colab": {
     "base_uri": "https://localhost:8080/"
    },
    "executionInfo": {
     "elapsed": 315,
     "status": "ok",
     "timestamp": 1633536416302,
     "user": {
      "displayName": "Štěpán Vondráček",
      "photoUrl": "https://lh3.googleusercontent.com/a/default-user=s64",
      "userId": "10309502841677875173"
     },
     "user_tz": -120
    },
    "id": "AgT46m51WgnN",
    "outputId": "d6a8255d-0a56-4396-93d4-65b88eb216bb"
   },
   "outputs": [
    {
     "data": {
      "text/plain": [
       "['T-shirt/top',\n",
       " 'Trouser',\n",
       " 'Pullover',\n",
       " 'Dress',\n",
       " 'Coat',\n",
       " 'Sandal',\n",
       " 'Shirt',\n",
       " 'Sneaker',\n",
       " 'Bag',\n",
       " 'Ankle boot']"
      ]
     },
     "execution_count": 10,
     "metadata": {},
     "output_type": "execute_result"
    }
   ],
   "source": [
    "clothes_labels"
   ]
  },
  {
   "cell_type": "markdown",
   "metadata": {
    "id": "JFsDzcrJWsK5"
   },
   "source": [
    "## Plotting"
   ]
  },
  {
   "cell_type": "code",
   "execution_count": 14,
   "metadata": {
    "colab": {
     "base_uri": "https://localhost:8080/",
     "height": 282
    },
    "executionInfo": {
     "elapsed": 687,
     "status": "ok",
     "timestamp": 1633536497442,
     "user": {
      "displayName": "Štěpán Vondráček",
      "photoUrl": "https://lh3.googleusercontent.com/a/default-user=s64",
      "userId": "10309502841677875173"
     },
     "user_tz": -120
    },
    "id": "jD9HSsUE3oTv",
    "outputId": "2ac39209-835a-4d8e-e509-50cdb5f2d5c3"
   },
   "outputs": [
    {
     "data": {
      "text/plain": [
       "(<matplotlib.image.AxesImage at 0x7f44f3a28790>, 9)"
      ]
     },
     "execution_count": 14,
     "metadata": {},
     "output_type": "execute_result"
    },
    {
     "data": {
      "image/png": "[encoded data removed]",
      "text/plain": [
       "<Figure size 432x288 with 1 Axes>"
      ]
     },
     "metadata": {
      "needs_background": "light"
     },
     "output_type": "display_data"
    }
   ],
   "source": [
    "plt.imshow(x_train[0, :, :, 0], cmap = \"gray\"), y_train[0] # Takhle vkresli konkretni jeden obrazek, cmap vykresli cernobile"
   ]
  },
  {
   "cell_type": "code",
   "execution_count": 16,
   "metadata": {
    "colab": {
     "base_uri": "https://localhost:8080/",
     "height": 480
    },
    "executionInfo": {
     "elapsed": 1337,
     "status": "ok",
     "timestamp": 1633536546089,
     "user": {
      "displayName": "Štěpán Vondráček",
      "photoUrl": "https://lh3.googleusercontent.com/a/default-user=s64",
      "userId": "10309502841677875173"
     },
     "user_tz": -120
    },
    "id": "2Q25XXmGTrqG",
    "outputId": "db014523-9b07-4bbe-b5d1-47ec09d73d9c"
   },
   "outputs": [
    {
     "data": {
      "image/png": "[encoded data removed]",
      "text/plain": [
       "<Figure size 576x576 with 16 Axes>"
      ]
     },
     "metadata": {},
     "output_type": "display_data"
    }
   ],
   "source": [
    "def plot_image(x, title = \"\"):\n",
    "  plt.xticks([])\n",
    "  plt.yticks([])\n",
    "  plt.grid(False)\n",
    "  plt.imshow(x, cmap=plt.cm.binary)\n",
    "  plt.xlabel(title)\n",
    "\n",
    "plt.figure(figsize=(8,8))\n",
    "for i in range(0, 160, 10):\n",
    "  plt.subplot(4, 4, i // 10 + 1)\n",
    "  plot_image(x_train[i].squeeze(), clothes_labels[y_train[i]])\n"
   ]
  },
  {
   "cell_type": "markdown",
   "metadata": {
    "id": "RpECKIWLZjdD"
   },
   "source": [
    "## Dense Neural Network"
   ]
  },
  {
   "cell_type": "code",
   "execution_count": 18,
   "metadata": {
    "executionInfo": {
     "elapsed": 544,
     "status": "ok",
     "timestamp": 1633536667229,
     "user": {
      "displayName": "Štěpán Vondráček",
      "photoUrl": "https://lh3.googleusercontent.com/a/default-user=s64",
      "userId": "10309502841677875173"
     },
     "user_tz": -120
    },
    "id": "ihnXpLvXXg1L"
   },
   "outputs": [],
   "source": [
    "# Normalize values from [0, 255] to [0, 1] interval\n",
    "x_train = x_train / 255\n",
    "x_test = x_test / 255"
   ]
  },
  {
   "cell_type": "code",
   "execution_count": 19,
   "metadata": {
    "colab": {
     "base_uri": "https://localhost:8080/"
    },
    "executionInfo": {
     "elapsed": 262,
     "status": "ok",
     "timestamp": 1633536676174,
     "user": {
      "displayName": "Štěpán Vondráček",
      "photoUrl": "https://lh3.googleusercontent.com/a/default-user=s64",
      "userId": "10309502841677875173"
     },
     "user_tz": -120
    },
    "id": "vufNZxMhZ8Bk",
    "outputId": "d23fa1ca-6087-44f4-a9c9-a2a444429e81"
   },
   "outputs": [
    {
     "data": {
      "text/plain": [
       "(60000, 10)"
      ]
     },
     "execution_count": 19,
     "metadata": {},
     "output_type": "execute_result"
    }
   ],
   "source": [
    "y_train = keras.utils.to_categorical(y_train, 10)\n",
    "y_test = keras.utils.to_categorical(y_test, 10)\n",
    "\n",
    "y_train.shape #60k dims, 10 elements each"
   ]
  },
  {
   "cell_type": "code",
   "execution_count": 20,
   "metadata": {
    "colab": {
     "base_uri": "https://localhost:8080/"
    },
    "executionInfo": {
     "elapsed": 249,
     "status": "ok",
     "timestamp": 1633536728852,
     "user": {
      "displayName": "Štěpán Vondráček",
      "photoUrl": "https://lh3.googleusercontent.com/a/default-user=s64",
      "userId": "10309502841677875173"
     },
     "user_tz": -120
    },
    "id": "tIkPtYOw4px2",
    "outputId": "2e9616c4-2c75-4bdc-aa21-4d2e0eaf0ac2"
   },
   "outputs": [
    {
     "data": {
      "text/plain": [
       "(array([0., 0., 0., 0., 0., 0., 0., 0., 0., 1.], dtype=float32), (60000, 10))"
      ]
     },
     "execution_count": 20,
     "metadata": {},
     "output_type": "execute_result"
    }
   ],
   "source": [
    "# T categorical featura\n",
    "y_train[0], y_train.shape"
   ]
  },
  {
   "cell_type": "code",
   "execution_count": 21,
   "metadata": {
    "colab": {
     "base_uri": "https://localhost:8080/"
    },
    "executionInfo": {
     "elapsed": 5756,
     "status": "ok",
     "timestamp": 1633536738114,
     "user": {
      "displayName": "Štěpán Vondráček",
      "photoUrl": "https://lh3.googleusercontent.com/a/default-user=s64",
      "userId": "10309502841677875173"
     },
     "user_tz": -120
    },
    "id": "wVM4GU_Gb7dx",
    "outputId": "0217d77d-b875-4ec5-b198-a15c2a50adea"
   },
   "outputs": [
    {
     "name": "stdout",
     "output_type": "stream",
     "text": [
      "Model: \"sequential\"\n",
      "_________________________________________________________________\n",
      "Layer (type)                 Output Shape              Param #   \n",
      "=================================================================\n",
      "flatten (Flatten)            (None, 784)               0         \n",
      "_________________________________________________________________\n",
      "dense (Dense)                (None, 128)               100480    \n",
      "_________________________________________________________________\n",
      "dense_1 (Dense)              (None, 64)                8256      \n",
      "_________________________________________________________________\n",
      "dense_2 (Dense)              (None, 10)                650       \n",
      "=================================================================\n",
      "Total params: 109,386\n",
      "Trainable params: 109,386\n",
      "Non-trainable params: 0\n",
      "_________________________________________________________________\n"
     ]
    }
   ],
   "source": [
    "dnn_model = keras.Sequential([\n",
    "      layers.Flatten(input_shape=(28,28)),\n",
    "      layers.Dense(128, activation='relu'),\n",
    "      layers.Dense(64, activation='relu'),\n",
    "      layers.Dense(10, activation='softmax')\n",
    "])\n",
    "\n",
    "dnn_model.compile(loss='categorical_crossentropy', \n",
    "                  optimizer=tf.keras.optimizers.Adam(),\n",
    "                  metrics=['accuracy'])\n",
    "\n",
    "dnn_model.summary()"
   ]
  },
  {
   "cell_type": "code",
   "execution_count": 22,
   "metadata": {
    "colab": {
     "base_uri": "https://localhost:8080/"
    },
    "executionInfo": {
     "elapsed": 42109,
     "status": "ok",
     "timestamp": 1633536800426,
     "user": {
      "displayName": "Štěpán Vondráček",
      "photoUrl": "https://lh3.googleusercontent.com/a/default-user=s64",
      "userId": "10309502841677875173"
     },
     "user_tz": -120
    },
    "id": "eOZEYZKDeVC-",
    "outputId": "6c8d0c3f-338c-4ba3-84d5-85dd35aa1599"
   },
   "outputs": [
    {
     "name": "stdout",
     "output_type": "stream",
     "text": [
      "Epoch 1/20\n",
      "235/235 [==============================] - 4s 5ms/step - loss: 0.6102 - accuracy: 0.7896 - val_loss: 0.4732 - val_accuracy: 0.8288\n",
      "Epoch 2/20\n",
      "235/235 [==============================] - 1s 4ms/step - loss: 0.4098 - accuracy: 0.8563 - val_loss: 0.4265 - val_accuracy: 0.8441\n",
      "Epoch 3/20\n",
      "235/235 [==============================] - 1s 4ms/step - loss: 0.3646 - accuracy: 0.8703 - val_loss: 0.3856 - val_accuracy: 0.8624\n",
      "Epoch 4/20\n",
      "235/235 [==============================] - 1s 5ms/step - loss: 0.3374 - accuracy: 0.8793 - val_loss: 0.3720 - val_accuracy: 0.8663\n",
      "Epoch 5/20\n",
      "235/235 [==============================] - 1s 4ms/step - loss: 0.3175 - accuracy: 0.8849 - val_loss: 0.3642 - val_accuracy: 0.8666\n",
      "Epoch 6/20\n",
      "235/235 [==============================] - 1s 5ms/step - loss: 0.3027 - accuracy: 0.8898 - val_loss: 0.3673 - val_accuracy: 0.8699\n",
      "Epoch 7/20\n",
      "235/235 [==============================] - 1s 5ms/step - loss: 0.2889 - accuracy: 0.8949 - val_loss: 0.3705 - val_accuracy: 0.8667\n",
      "Epoch 8/20\n",
      "235/235 [==============================] - 1s 5ms/step - loss: 0.2782 - accuracy: 0.8980 - val_loss: 0.3415 - val_accuracy: 0.8744\n",
      "Epoch 9/20\n",
      "235/235 [==============================] - 1s 5ms/step - loss: 0.2696 - accuracy: 0.9011 - val_loss: 0.3441 - val_accuracy: 0.8776\n",
      "Epoch 10/20\n",
      "235/235 [==============================] - 1s 5ms/step - loss: 0.2585 - accuracy: 0.9048 - val_loss: 0.3452 - val_accuracy: 0.8743\n",
      "Epoch 11/20\n",
      "235/235 [==============================] - 1s 4ms/step - loss: 0.2541 - accuracy: 0.9069 - val_loss: 0.3307 - val_accuracy: 0.8826\n",
      "Epoch 12/20\n",
      "235/235 [==============================] - 1s 5ms/step - loss: 0.2408 - accuracy: 0.9119 - val_loss: 0.3315 - val_accuracy: 0.8832\n",
      "Epoch 13/20\n",
      "235/235 [==============================] - 1s 4ms/step - loss: 0.2384 - accuracy: 0.9111 - val_loss: 0.3273 - val_accuracy: 0.8869\n",
      "Epoch 14/20\n",
      "235/235 [==============================] - 1s 5ms/step - loss: 0.2316 - accuracy: 0.9139 - val_loss: 0.3394 - val_accuracy: 0.8748\n",
      "Epoch 15/20\n",
      "235/235 [==============================] - 1s 5ms/step - loss: 0.2249 - accuracy: 0.9157 - val_loss: 0.3535 - val_accuracy: 0.8738\n",
      "Epoch 16/20\n",
      "235/235 [==============================] - 1s 5ms/step - loss: 0.2177 - accuracy: 0.9186 - val_loss: 0.3371 - val_accuracy: 0.8821\n",
      "Epoch 17/20\n",
      "235/235 [==============================] - 1s 5ms/step - loss: 0.2105 - accuracy: 0.9212 - val_loss: 0.3264 - val_accuracy: 0.8877\n",
      "Epoch 18/20\n",
      "235/235 [==============================] - 1s 4ms/step - loss: 0.2075 - accuracy: 0.9229 - val_loss: 0.3422 - val_accuracy: 0.8797\n",
      "Epoch 19/20\n",
      "235/235 [==============================] - 1s 5ms/step - loss: 0.2032 - accuracy: 0.9251 - val_loss: 0.3343 - val_accuracy: 0.8841\n",
      "Epoch 20/20\n",
      "235/235 [==============================] - 1s 5ms/step - loss: 0.1967 - accuracy: 0.9270 - val_loss: 0.3399 - val_accuracy: 0.8839\n"
     ]
    }
   ],
   "source": [
    "history = dnn_model.fit(\n",
    "  x_train, y_train,\n",
    "  batch_size = 256, # pocet obrazku na ktere se v danou chvili diva nase dnn\n",
    "  epochs = 20, # pocet pruchodu skrze data\n",
    "  validation_data = (x_test, y_test), # na techto datech pocitame metriky\n",
    "  verbose = 1\n",
    ")"
   ]
  },
  {
   "cell_type": "code",
   "execution_count": 28,
   "metadata": {
    "colab": {
     "base_uri": "https://localhost:8080/",
     "height": 283
    },
    "executionInfo": {
     "elapsed": 618,
     "status": "ok",
     "timestamp": 1633537037579,
     "user": {
      "displayName": "Štěpán Vondráček",
      "photoUrl": "https://lh3.googleusercontent.com/a/default-user=s64",
      "userId": "10309502841677875173"
     },
     "user_tz": -120
    },
    "id": "-PByq3FVehBt",
    "outputId": "35469586-9799-4ac8-d9c5-51cabbc222b5"
   },
   "outputs": [
    {
     "data": {
      "image/png": "[encoded data removed]",
      "text/plain": [
       "<Figure size 432x288 with 1 Axes>"
      ]
     },
     "metadata": {
      "needs_background": "light"
     },
     "output_type": "display_data"
    }
   ],
   "source": [
    "def plot_loss(history, ylim=(0,0.7), xlim = (-1, 19)):\n",
    "  plt.plot(history.history['accuracy'], label='accuracy')\n",
    "  plt.plot(history.history['val_accuracy'], label='val_accuracy')\n",
    "  plt.ylim(ylim)\n",
    "  plt.xlabel('Epoch')\n",
    "  plt.ylabel('Accuracy')\n",
    "  plt.legend()\n",
    "  plt.grid(True)\n",
    "\n",
    "plot_loss(history, ylim=(0.7, 1))"
   ]
  },
  {
   "cell_type": "markdown",
   "metadata": {
    "id": "mpFZl79kf8Ld"
   },
   "source": [
    "## Convolutional Neural Network"
   ]
  },
  {
   "cell_type": "code",
   "execution_count": 34,
   "metadata": {
    "colab": {
     "base_uri": "https://localhost:8080/"
    },
    "executionInfo": {
     "elapsed": 241,
     "status": "ok",
     "timestamp": 1633538020300,
     "user": {
      "displayName": "Štěpán Vondráček",
      "photoUrl": "https://lh3.googleusercontent.com/a/default-user=s64",
      "userId": "10309502841677875173"
     },
     "user_tz": -120
    },
    "id": "-rceUxk9ffgs",
    "outputId": "c282d2e1-bbbd-4abc-bc93-a98acceccc01"
   },
   "outputs": [
    {
     "name": "stdout",
     "output_type": "stream",
     "text": [
      "Model: \"sequential_4\"\n",
      "_________________________________________________________________\n",
      "Layer (type)                 Output Shape              Param #   \n",
      "=================================================================\n",
      "conv2d_6 (Conv2D)            (None, 26, 26, 16)        160       \n",
      "_________________________________________________________________\n",
      "dropout_6 (Dropout)          (None, 26, 26, 16)        0         \n",
      "_________________________________________________________________\n",
      "conv2d_7 (Conv2D)            (None, 24, 24, 16)        2320      \n",
      "_________________________________________________________________\n",
      "flatten_4 (Flatten)          (None, 9216)              0         \n",
      "_________________________________________________________________\n",
      "dense_9 (Dense)              (None, 128)               1179776   \n",
      "_________________________________________________________________\n",
      "dropout_7 (Dropout)          (None, 128)               0         \n",
      "_________________________________________________________________\n",
      "dense_10 (Dense)             (None, 10)                1290      \n",
      "=================================================================\n",
      "Total params: 1,183,546\n",
      "Trainable params: 1,183,546\n",
      "Non-trainable params: 0\n",
      "_________________________________________________________________\n"
     ]
    }
   ],
   "source": [
    "cnn_model = keras.Sequential([\n",
    "      layers.Conv2D(input_shape=(28,28,1), filters = 16, kernel_size = (3,3), activation = 'relu'),\n",
    "      layers.Dropout(0.5),\n",
    "      layers.Conv2D(filters = 16, kernel_size = (3,3), activation = 'relu'),\n",
    "      layers.Flatten(),\n",
    "      layers.Dense(128, activation='relu'),\n",
    "      layers.Dropout(0.3),\n",
    "      layers.Dense(10, activation='softmax')\n",
    "])\n",
    "\n",
    "cnn_model.compile(loss='categorical_crossentropy', \n",
    "                  optimizer=tf.keras.optimizers.Adam(),\n",
    "                  metrics=['accuracy'])\n",
    "\n",
    "cnn_model.summary()"
   ]
  },
  {
   "cell_type": "code",
   "execution_count": 35,
   "metadata": {
    "colab": {
     "base_uri": "https://localhost:8080/"
    },
    "executionInfo": {
     "elapsed": 82876,
     "status": "ok",
     "timestamp": 1633538111816,
     "user": {
      "displayName": "Štěpán Vondráček",
      "photoUrl": "https://lh3.googleusercontent.com/a/default-user=s64",
      "userId": "10309502841677875173"
     },
     "user_tz": -120
    },
    "id": "QWwnqR-Dg2NG",
    "outputId": "22be20b8-a293-436c-a28a-e9b6d4f705df"
   },
   "outputs": [
    {
     "name": "stdout",
     "output_type": "stream",
     "text": [
      "Epoch 1/20\n",
      "235/235 [==============================] - 5s 17ms/step - loss: 0.6136 - accuracy: 0.7815 - val_loss: 0.4352 - val_accuracy: 0.8438\n",
      "Epoch 2/20\n",
      "235/235 [==============================] - 4s 16ms/step - loss: 0.4069 - accuracy: 0.8536 - val_loss: 0.3535 - val_accuracy: 0.8704\n",
      "Epoch 3/20\n",
      "235/235 [==============================] - 4s 16ms/step - loss: 0.3493 - accuracy: 0.8739 - val_loss: 0.3202 - val_accuracy: 0.8840\n",
      "Epoch 4/20\n",
      "235/235 [==============================] - 4s 16ms/step - loss: 0.3142 - accuracy: 0.8855 - val_loss: 0.3029 - val_accuracy: 0.8867\n",
      "Epoch 5/20\n",
      "235/235 [==============================] - 4s 16ms/step - loss: 0.2860 - accuracy: 0.8944 - val_loss: 0.2854 - val_accuracy: 0.8950\n",
      "Epoch 6/20\n",
      "235/235 [==============================] - 4s 16ms/step - loss: 0.2648 - accuracy: 0.9025 - val_loss: 0.2911 - val_accuracy: 0.8952\n",
      "Epoch 7/20\n",
      "235/235 [==============================] - 4s 16ms/step - loss: 0.2491 - accuracy: 0.9080 - val_loss: 0.2720 - val_accuracy: 0.9008\n",
      "Epoch 8/20\n",
      "235/235 [==============================] - 4s 15ms/step - loss: 0.2314 - accuracy: 0.9137 - val_loss: 0.2630 - val_accuracy: 0.9009\n",
      "Epoch 9/20\n",
      "235/235 [==============================] - 4s 15ms/step - loss: 0.2190 - accuracy: 0.9188 - val_loss: 0.2591 - val_accuracy: 0.9057\n",
      "Epoch 10/20\n",
      "235/235 [==============================] - 4s 15ms/step - loss: 0.2091 - accuracy: 0.9225 - val_loss: 0.2606 - val_accuracy: 0.9080\n",
      "Epoch 11/20\n",
      "235/235 [==============================] - 4s 16ms/step - loss: 0.1946 - accuracy: 0.9268 - val_loss: 0.2605 - val_accuracy: 0.9095\n",
      "Epoch 12/20\n",
      "235/235 [==============================] - 4s 15ms/step - loss: 0.1856 - accuracy: 0.9297 - val_loss: 0.2477 - val_accuracy: 0.9124\n",
      "Epoch 13/20\n",
      "235/235 [==============================] - 4s 16ms/step - loss: 0.1764 - accuracy: 0.9332 - val_loss: 0.2594 - val_accuracy: 0.9097\n",
      "Epoch 14/20\n",
      "235/235 [==============================] - 4s 16ms/step - loss: 0.1668 - accuracy: 0.9378 - val_loss: 0.2521 - val_accuracy: 0.9123\n",
      "Epoch 15/20\n",
      "235/235 [==============================] - 4s 15ms/step - loss: 0.1585 - accuracy: 0.9402 - val_loss: 0.2525 - val_accuracy: 0.9133\n",
      "Epoch 16/20\n",
      "235/235 [==============================] - 4s 16ms/step - loss: 0.1508 - accuracy: 0.9429 - val_loss: 0.2585 - val_accuracy: 0.9140\n",
      "Epoch 17/20\n",
      "235/235 [==============================] - 4s 15ms/step - loss: 0.1445 - accuracy: 0.9454 - val_loss: 0.2676 - val_accuracy: 0.9093\n",
      "Epoch 18/20\n",
      "235/235 [==============================] - 4s 15ms/step - loss: 0.1375 - accuracy: 0.9479 - val_loss: 0.2612 - val_accuracy: 0.9136\n",
      "Epoch 19/20\n",
      "235/235 [==============================] - 4s 15ms/step - loss: 0.1325 - accuracy: 0.9498 - val_loss: 0.2637 - val_accuracy: 0.9128\n",
      "Epoch 20/20\n",
      "235/235 [==============================] - 4s 15ms/step - loss: 0.1240 - accuracy: 0.9536 - val_loss: 0.2685 - val_accuracy: 0.9156\n"
     ]
    }
   ],
   "source": [
    "history = cnn_model.fit(\n",
    "  x_train, y_train,\n",
    "  batch_size = 256,\n",
    "  epochs = 20,\n",
    "  validation_data = (x_test, y_test),\n",
    "  verbose = 1\n",
    ")"
   ]
  },
  {
   "cell_type": "code",
   "execution_count": 33,
   "metadata": {
    "colab": {
     "base_uri": "https://localhost:8080/",
     "height": 283
    },
    "executionInfo": {
     "elapsed": 651,
     "status": "ok",
     "timestamp": 1633537341170,
     "user": {
      "displayName": "Štěpán Vondráček",
      "photoUrl": "https://lh3.googleusercontent.com/a/default-user=s64",
      "userId": "10309502841677875173"
     },
     "user_tz": -120
    },
    "id": "1CJrQWTChBxi",
    "outputId": "f8bcaa9b-470c-4e09-cf59-49f726a166de"
   },
   "outputs": [
    {
     "data": {
      "image/png": "[encoded data removed]",
      "text/plain": [
       "<Figure size 432x288 with 1 Axes>"
      ]
     },
     "metadata": {
      "needs_background": "light"
     },
     "output_type": "display_data"
    }
   ],
   "source": [
    "plot_loss(history, ylim=(0, 1))"
   ]
  },
  {
   "cell_type": "code",
   "execution_count": null,
   "metadata": {
    "id": "DAk77vRLfsNP"
   },
   "outputs": [],
   "source": []
  }
 ],
 "metadata": {
  "accelerator": "GPU",
  "colab": {
   "collapsed_sections": [],
   "name": "Copy of mnist_fashion_keras.ipynb",
   "provenance": [
    {
     "file_id": "https://github.com/simecek/dspracticum2021/blob/main/lesson03/mnist_fashion_keras.ipynb",
     "timestamp": 1632992842021
    }
   ]
  },
  "kernelspec": {
   "display_name": "Python 3 (ipykernel)",
   "language": "python",
   "name": "python3"
  },
  "language_info": {
   "codemirror_mode": {
    "name": "ipython",
    "version": 3
   },
   "file_extension": ".py",
   "mimetype": "text/x-python",
   "name": "python",
   "nbconvert_exporter": "python",
   "pygments_lexer": "ipython3",
   "version": "3.9.5"
  }
 },
 "nbformat": 4,
 "nbformat_minor": 1
}
