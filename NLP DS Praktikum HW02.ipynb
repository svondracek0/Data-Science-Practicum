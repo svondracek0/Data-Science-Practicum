{
  "nbformat": 4,
  "nbformat_minor": 0,
  "metadata": {
    "colab": {
      "name": "assignment07.ipynb",
      "provenance": [],
      "collapsed_sections": [],
      "include_colab_link": true
    },
    "kernelspec": {
      "name": "python3",
      "display_name": "Python 3"
    },
    "accelerator": "GPU"
  },
  "cells": [
    {
      "cell_type": "markdown",
      "metadata": {
        "id": "view-in-github",
        "colab_type": "text"
      },
      "source": [
        "<a href=\"https://colab.research.google.com/github/svondracek0/Data-Science-Practicum/blob/main/NLP%20DS%20Praktikum%20HW02.ipynb\" target=\"_parent\"><img src=\"https://colab.research.google.com/assets/colab-badge.svg\" alt=\"Open In Colab\"/></a>"
      ]
    },
    {
      "cell_type": "markdown",
      "metadata": {
        "id": "QzivhZiGiSGa"
      },
      "source": [
        ""
      ]
    },
    {
      "cell_type": "markdown",
      "metadata": {
        "id": "-87gpi8qGjdk"
      },
      "source": [
        "# NLP - Generátor textu na základě Trumpových projevů  \n",
        "\n",
        "*Štěpán Vondráček, 466498*\n",
        "\n",
        "Na souboru https://github.com/ryanmcdermott/trump-speeches/blob/master/speeches.txt natrénuji transformer, který následně vygeneruje náhodný Trumpův projev. Můj projekt je do značné míry založen na projektu zabývajícím se projevy A. Babiše"
      ]
    },
    {
      "cell_type": "markdown",
      "metadata": {
        "id": "ERSwQxw6Hh50"
      },
      "source": [
        "## Načtení knihoven a dat"
      ]
    },
    {
      "cell_type": "code",
      "metadata": {
        "id": "Ttwn9WARGjpA"
      },
      "source": [
        "import tensorflow as tf\n",
        "import numpy as np\n",
        "from tensorflow import keras\n",
        "from tensorflow.keras.preprocessing.text import Tokenizer\n",
        "from tensorflow.keras.preprocessing.sequence import pad_sequences\n",
        "from tensorflow.keras.layers import Embedding, LSTM, Dense, Bidirectional\n",
        "from tensorflow.keras.models import Sequential\n",
        "from tensorflow.keras.optimizers import Adam\n",
        "import re\n",
        "\n",
        "from google.colab import drive"
      ],
      "execution_count": 3,
      "outputs": []
    },
    {
      "cell_type": "code",
      "metadata": {
        "colab": {
          "base_uri": "https://localhost:8080/"
        },
        "id": "ik0815ZDGnsD",
        "outputId": "3acb6bd6-a166-4314-87b4-09f4708652a3"
      },
      "source": [
        "drive.mount('/content/drive') # pripojeni vlastniho Google drive, na kterem mam ulozeny .txt soubor s Trumpovymi projevy"
      ],
      "execution_count": 4,
      "outputs": [
        {
          "output_type": "stream",
          "name": "stdout",
          "text": [
            "Drive already mounted at /content/drive; to attempt to forcibly remount, call drive.mount(\"/content/drive\", force_remount=True).\n"
          ]
        }
      ]
    },
    {
      "cell_type": "code",
      "metadata": {
        "id": "FlK8jfdCNtNE"
      },
      "source": [
        "path1 = '/content/drive/MyDrive/trump_speech.txt'\n",
        "path2 = '/content/drive/MyDrive/trump_speech.txt'\n"
      ],
      "execution_count": 6,
      "outputs": []
    },
    {
      "cell_type": "code",
      "metadata": {
        "colab": {
          "base_uri": "https://localhost:8080/"
        },
        "id": "LDc9V3M_OOOf",
        "outputId": "326cc009-ea4a-417a-9037-84e4baee38ce"
      },
      "source": [
        "# read input data\n",
        "file = open(path1, \"r\")\n",
        "data = file.read()\n",
        "file.close()\n",
        "print(data[:50])"
      ],
      "execution_count": 7,
      "outputs": [
        {
          "output_type": "stream",
          "name": "stdout",
          "text": [
            "﻿SPEECH 1\n",
            "\n",
            "\n",
            "...Thank you so much.  That's so nice.\n"
          ]
        }
      ]
    },
    {
      "cell_type": "code",
      "metadata": {
        "id": "blRZkda6gPB7"
      },
      "source": [
        "data = data_tmp"
      ],
      "execution_count": 9,
      "outputs": []
    },
    {
      "cell_type": "markdown",
      "metadata": {
        "id": "iErr4PqbJl0p"
      },
      "source": [
        "## Data preprocessing"
      ]
    },
    {
      "cell_type": "code",
      "metadata": {
        "colab": {
          "base_uri": "https://localhost:8080/"
        },
        "id": "_LXFz2bkOgb_",
        "outputId": "7567517a-d233-4a96-9e8a-18d5e0f240a3"
      },
      "source": [
        "# if input text contains empty lines -> remove, also get rid of empty space after end of sequences\n",
        "data = data.replace('\\n', \"\").replace('. ', '.')\n",
        "# split text into array based on sentences\n",
        "m = re.search('\\.[A-Z]', data)\n",
        "while m:\n",
        "  position = m.span()[0]\n",
        "  data = data[:position] + \"&\" + data[position + 1 :]\n",
        "  m = re.search('\\.[A-Z]', data)\n",
        "corpus = data.lower().split('&')\n",
        "print(corpus[:5])"
      ],
      "execution_count": 10,
      "outputs": [
        {
          "output_type": "stream",
          "name": "stdout",
          "text": [
            "['\\ufeffspeech 1..', \"thank you so much. that's so nice. isn't he a great guy. he doesn't get a fair press; he doesn't get it. it's just not fair. and i have to tell you i'm here, and very strongly here, because i have great respect for steve king and have great respect likewise for citizens united, david and everybody, and tremendous resect for the tea party. also, also the people of iowa. they have something in common. hard-working people. they want to work, they want to make the country great. i love the people of iowa. so that's the way it is. very simple\", \"with that said, our country is really headed in the wrong direction with a president who is doing an absolutely terrible job. the world is collapsing around us, and many of the problems we've caused. our president is either grossly incompetent, a word that more and more people are using, and i think i was the first to use it, or he has a completely different agenda than you want to know about, which could be possible. in any event, washington is broken, and our country is in serious trouble and total disarray. very simple. politicians are all talk, no action. they are all talk and no action. and it's constant; it never ends\", \"and i'm a conservative, actually very conservative, and i'm a republican. and i'm very disappointed by our republican politicians. because they let the president get away with absolute murder. you see always, oh we're going to do this, we're going to--. nothing ever happens; nothing ever happens\", \"you look at obamacare. a total catastrophe and by the way it really kicks in in '16 and it is going to be a disaster. people are closing up shops. doctors are quitting the business. i have a friend of mine who's a doctor, a very good doctor, a very successful guy. he said, i have more accountants than i have patients. and he needs because it is so complicated and so terrible and he's never had that before and he's going to close up his business. and he was very successful guy. but it's happening more and more\"]\n"
          ]
        }
      ]
    },
    {
      "cell_type": "markdown",
      "metadata": {
        "id": "fVUkw6lfJn6r"
      },
      "source": [
        "## Tokenization"
      ]
    },
    {
      "cell_type": "code",
      "metadata": {
        "colab": {
          "base_uri": "https://localhost:8080/"
        },
        "id": "7TOnc_ArOs-o",
        "outputId": "baf7e98e-1aae-4c3e-8445-0e03cc804a1a"
      },
      "source": [
        "# tokenize words\n",
        "tokenizer = Tokenizer()\n",
        "tokenizer.fit_on_texts(corpus)\n",
        "total_words = len(tokenizer.word_index) + 1\n",
        "print(\"Total words: \", total_words)"
      ],
      "execution_count": 11,
      "outputs": [
        {
          "output_type": "stream",
          "name": "stdout",
          "text": [
            "Total words:  6199\n"
          ]
        }
      ]
    },
    {
      "cell_type": "code",
      "metadata": {
        "id": "0Z4EraDnO2q9",
        "colab": {
          "base_uri": "https://localhost:8080/"
        },
        "outputId": "ba1f3d8f-6fb9-41fb-b09f-e6b9b8f65f80"
      },
      "source": [
        "# text to integers\n",
        "input_sequences = []\n",
        "for line in corpus:\n",
        "  token_list = tokenizer.texts_to_sequences([line])[0]\n",
        "  for i in range(1, len(token_list)):\n",
        "    n_gram_sequence = token_list[:i + 1]\n",
        "    input_sequences.append(n_gram_sequence)\n",
        "print(input_sequences[1:10])"
      ],
      "execution_count": 12,
      "outputs": [
        {
          "output_type": "stream",
          "name": "stdout",
          "text": [
            "[[128, 6], [128, 6, 15], [128, 6, 15, 90], [128, 6, 15, 90, 413], [128, 6, 15, 90, 413, 15], [128, 6, 15, 90, 413, 15, 174], [128, 6, 15, 90, 413, 15, 174, 1929], [128, 6, 15, 90, 413, 15, 174, 1929, 31], [128, 6, 15, 90, 413, 15, 174, 1929, 31, 5]]\n"
          ]
        }
      ]
    },
    {
      "cell_type": "code",
      "metadata": {
        "colab": {
          "base_uri": "https://localhost:8080/"
        },
        "id": "-Maqlvg_O8zt",
        "outputId": "ae03fdb9-65b4-41cf-c0e0-ba1aabcdd0eb"
      },
      "source": [
        "# padding\n",
        "max_sequence_len = max([len(x) for x in input_sequences])\n",
        "input_sequences = np.array(pad_sequences(input_sequences, maxlen = max_sequence_len, padding = 'pre'))\n",
        "print(input_sequences[1:5])\n",
        "print(max_sequence_len)"
      ],
      "execution_count": 13,
      "outputs": [
        {
          "output_type": "stream",
          "name": "stdout",
          "text": [
            "[[  0   0   0 ...   0 128   6]\n",
            " [  0   0   0 ... 128   6  15]\n",
            " [  0   0   0 ...   6  15  90]\n",
            " [  0   0   0 ...  15  90 413]]\n",
            "402\n"
          ]
        }
      ]
    },
    {
      "cell_type": "markdown",
      "metadata": {
        "id": "f8y2Em0tJtxp"
      },
      "source": [
        "## Model training"
      ]
    },
    {
      "cell_type": "code",
      "metadata": {
        "id": "a_zYjza7PCBP"
      },
      "source": [
        "# create predictors and label\n",
        "xs = input_sequences[:, :-1]\n",
        "labels = input_sequences[:, -1]\n",
        "ys = tf.keras.utils.to_categorical(labels, num_classes = total_words)"
      ],
      "execution_count": 14,
      "outputs": []
    },
    {
      "cell_type": "code",
      "metadata": {
        "colab": {
          "base_uri": "https://localhost:8080/"
        },
        "id": "9te0qstWPG1b",
        "outputId": "0890b1b9-0701-4ca3-bf2e-e03278342113"
      },
      "source": [
        "model = Sequential()\n",
        "model.add(Embedding(total_words, 100, input_length=max_sequence_len-1))\n",
        "#model.add(Bidirectional(LSTM(128, return_sequences=True)))\n",
        "model.add(Bidirectional(LSTM(64)))\n",
        "model.add(Dense(total_words, activation='softmax'))\n",
        "adam = Adam(lr=0.01)\n",
        "model.compile(loss='categorical_crossentropy', optimizer=adam, metrics=['accuracy'])\n",
        "#earlystop = EarlyStopping(monitor='val_loss', min_delta=0, patience=5, verbose=0, mode='auto')\n",
        "history = model.fit(xs, ys, epochs=10, verbose=1)\n",
        "#print model.summary()\n",
        "print(model)"
      ],
      "execution_count": 15,
      "outputs": [
        {
          "output_type": "stream",
          "name": "stderr",
          "text": [
            "/usr/local/lib/python3.7/dist-packages/keras/optimizer_v2/adam.py:105: UserWarning: The `lr` argument is deprecated, use `learning_rate` instead.\n",
            "  super(Adam, self).__init__(name, **kwargs)\n"
          ]
        },
        {
          "output_type": "stream",
          "name": "stdout",
          "text": [
            "Epoch 1/10\n",
            "4817/4817 [==============================] - 794s 164ms/step - loss: 5.4121 - accuracy: 0.1483\n",
            "Epoch 2/10\n",
            "4817/4817 [==============================] - 785s 163ms/step - loss: 4.8147 - accuracy: 0.1808\n",
            "Epoch 3/10\n",
            "4817/4817 [==============================] - 784s 163ms/step - loss: 4.9397 - accuracy: 0.1828\n",
            "Epoch 4/10\n",
            "4817/4817 [==============================] - 772s 160ms/step - loss: 4.6223 - accuracy: 0.1877\n",
            "Epoch 5/10\n",
            "4817/4817 [==============================] - 776s 161ms/step - loss: 4.5538 - accuracy: 0.1893\n",
            "Epoch 6/10\n",
            "4817/4817 [==============================] - 800s 166ms/step - loss: 4.5082 - accuracy: 0.1922\n",
            "Epoch 7/10\n",
            "4817/4817 [==============================] - 800s 166ms/step - loss: 4.5187 - accuracy: 0.1921\n",
            "Epoch 8/10\n",
            "4817/4817 [==============================] - 795s 165ms/step - loss: 4.5078 - accuracy: 0.1918\n",
            "Epoch 9/10\n",
            "4817/4817 [==============================] - 791s 164ms/step - loss: 4.5013 - accuracy: 0.1931\n",
            "Epoch 10/10\n",
            "4817/4817 [==============================] - 790s 164ms/step - loss: 4.5698 - accuracy: 0.1904\n",
            "<keras.engine.sequential.Sequential object at 0x7f619bbe6850>\n"
          ]
        }
      ]
    },
    {
      "cell_type": "code",
      "metadata": {
        "id": "QFu9x507QWVf"
      },
      "source": [
        "import matplotlib.pyplot as plt\n",
        "\n",
        "\n",
        "def plot_graphs(history, string):\n",
        "  plt.plot(history.history[string])\n",
        "  plt.xlabel(\"Epochs\")\n",
        "  plt.ylabel(string)\n",
        "  plt.show()"
      ],
      "execution_count": 18,
      "outputs": []
    },
    {
      "cell_type": "code",
      "metadata": {
        "colab": {
          "base_uri": "https://localhost:8080/",
          "height": 279
        },
        "id": "qhQj3-gGQWzW",
        "outputId": "f9ef389e-0bfd-4aa5-87da-cfa516000715"
      },
      "source": [
        "plot_graphs(history, 'accuracy')\n"
      ],
      "execution_count": 19,
      "outputs": [
        {
          "output_type": "display_data",
          "data": {
            "image/png": "[encoded data removed]",
            "text/plain": [
              "<Figure size 432x288 with 1 Axes>"
            ]
          },
          "metadata": {
            "needs_background": "light"
          }
        }
      ]
    },
    {
      "cell_type": "code",
      "metadata": {
        "colab": {
          "base_uri": "https://localhost:8080/",
          "height": 237
        },
        "id": "pypyVzEaQgXS",
        "outputId": "e9fa5dd9-2b42-4431-f545-e6d23e662af2"
      },
      "source": [
        "seed_text = \"We will drain the swamp in Washington D.C.\"\n",
        "next_words = 100\n",
        "  \n",
        "for _ in range(next_words):\n",
        "\ttoken_list = tokenizer.texts_to_sequences([seed_text])[0]\n",
        "\ttoken_list = pad_sequences([token_list], maxlen=max_sequence_len-1, padding='pre')\n",
        "\tpredicted = model.predict_classes(token_list, verbose=0)\n",
        "\toutput_word = \"\"\n",
        "\tfor word, index in tokenizer.word_index.items():\n",
        "\t\tif index == predicted:\n",
        "\t\t\toutput_word = word\n",
        "\t\t\tbreak\n",
        "\tseed_text += \" \" + output_word\n",
        "print(seed_text)"
      ],
      "execution_count": 17,
      "outputs": [
        {
          "output_type": "error",
          "ename": "AttributeError",
          "evalue": "ignored",
          "traceback": [
            "\u001b[0;31m---------------------------------------------------------------------------\u001b[0m",
            "\u001b[0;31mAttributeError\u001b[0m                            Traceback (most recent call last)",
            "\u001b[0;32m<ipython-input-17-c2fbb6275ff5>\u001b[0m in \u001b[0;36m<module>\u001b[0;34m()\u001b[0m\n\u001b[1;32m      5\u001b[0m         \u001b[0mtoken_list\u001b[0m \u001b[0;34m=\u001b[0m \u001b[0mtokenizer\u001b[0m\u001b[0;34m.\u001b[0m\u001b[0mtexts_to_sequences\u001b[0m\u001b[0;34m(\u001b[0m\u001b[0;34m[\u001b[0m\u001b[0mseed_text\u001b[0m\u001b[0;34m]\u001b[0m\u001b[0;34m)\u001b[0m\u001b[0;34m[\u001b[0m\u001b[0;36m0\u001b[0m\u001b[0;34m]\u001b[0m\u001b[0;34m\u001b[0m\u001b[0;34m\u001b[0m\u001b[0m\n\u001b[1;32m      6\u001b[0m         \u001b[0mtoken_list\u001b[0m \u001b[0;34m=\u001b[0m \u001b[0mpad_sequences\u001b[0m\u001b[0;34m(\u001b[0m\u001b[0;34m[\u001b[0m\u001b[0mtoken_list\u001b[0m\u001b[0;34m]\u001b[0m\u001b[0;34m,\u001b[0m \u001b[0mmaxlen\u001b[0m\u001b[0;34m=\u001b[0m\u001b[0mmax_sequence_len\u001b[0m\u001b[0;34m-\u001b[0m\u001b[0;36m1\u001b[0m\u001b[0;34m,\u001b[0m \u001b[0mpadding\u001b[0m\u001b[0;34m=\u001b[0m\u001b[0;34m'pre'\u001b[0m\u001b[0;34m)\u001b[0m\u001b[0;34m\u001b[0m\u001b[0;34m\u001b[0m\u001b[0m\n\u001b[0;32m----> 7\u001b[0;31m         \u001b[0mpredicted\u001b[0m \u001b[0;34m=\u001b[0m \u001b[0mmodel\u001b[0m\u001b[0;34m.\u001b[0m\u001b[0mpredict_classes\u001b[0m\u001b[0;34m(\u001b[0m\u001b[0mtoken_list\u001b[0m\u001b[0;34m,\u001b[0m \u001b[0mverbose\u001b[0m\u001b[0;34m=\u001b[0m\u001b[0;36m0\u001b[0m\u001b[0;34m)\u001b[0m\u001b[0;34m\u001b[0m\u001b[0;34m\u001b[0m\u001b[0m\n\u001b[0m\u001b[1;32m      8\u001b[0m         \u001b[0moutput_word\u001b[0m \u001b[0;34m=\u001b[0m \u001b[0;34m\"\"\u001b[0m\u001b[0;34m\u001b[0m\u001b[0;34m\u001b[0m\u001b[0m\n\u001b[1;32m      9\u001b[0m         \u001b[0;32mfor\u001b[0m \u001b[0mword\u001b[0m\u001b[0;34m,\u001b[0m \u001b[0mindex\u001b[0m \u001b[0;32min\u001b[0m \u001b[0mtokenizer\u001b[0m\u001b[0;34m.\u001b[0m\u001b[0mword_index\u001b[0m\u001b[0;34m.\u001b[0m\u001b[0mitems\u001b[0m\u001b[0;34m(\u001b[0m\u001b[0;34m)\u001b[0m\u001b[0;34m:\u001b[0m\u001b[0;34m\u001b[0m\u001b[0;34m\u001b[0m\u001b[0m\n",
            "\u001b[0;31mAttributeError\u001b[0m: 'Sequential' object has no attribute 'predict_classes'"
          ]
        }
      ]
    }
  ]
}