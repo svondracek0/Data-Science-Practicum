{
 "cells": [
  {
   "cell_type": "markdown",
   "metadata": {
    "id": "YX4r3hbsJSzc"
   },
   "source": [
    "Google Colab dokument pro DS Praktikum"
   ]
  },
  {
   "cell_type": "code",
   "execution_count": null,
   "metadata": {
    "id": "PywbFBhRJC8J"
   },
   "outputs": [],
   "source": [
    "print(\"Hello DS\")\n",
    "print(3+3)"
   ]
  },
  {
   "cell_type": "code",
   "execution_count": null,
   "metadata": {
    "id": "1fr4zpp522dk"
   },
   "outputs": [],
   "source": [
    "import numpy as np\n",
    "x = np.a"
   ]
  }
 ],
 "metadata": {
  "colab": {
   "collapsed_sections": [],
   "name": "DS_Praktikum.ipynb",
   "provenance": []
  },
  "kernelspec": {
   "display_name": "Python 3 (ipykernel)",
   "language": "python",
   "name": "python3"
  },
  "language_info": {
   "codemirror_mode": {
    "name": "ipython",
    "version": 3
   },
   "file_extension": ".py",
   "mimetype": "text/x-python",
   "name": "python",
   "nbconvert_exporter": "python",
   "pygments_lexer": "ipython3",
   "version": "3.9.5"
  }
 },
 "nbformat": 4,
 "nbformat_minor": 1
}
