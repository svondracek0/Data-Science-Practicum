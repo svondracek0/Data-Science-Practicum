{
  "nbformat": 4,
  "nbformat_minor": 0,
  "metadata": {
    "colab": {
      "provenance": [],
      "toc_visible": true,
      "authorship_tag": "ABX9TyOHOi0iiN8yluYtXcuO6L3f",
      "include_colab_link": true
    },
    "kernelspec": {
      "name": "python3",
      "display_name": "Python 3"
    },
    "language_info": {
      "name": "python"
    }
  },
  "cells": [
    {
      "cell_type": "markdown",
      "metadata": {
        "id": "view-in-github",
        "colab_type": "text"
      },
      "source": [
        "<a href=\"https://colab.research.google.com/github/svondracek0/Data-Science-Practicum/blob/main/predikce_sda_soutez.ipynb\" target=\"_parent\"><img src=\"https://colab.research.google.com/assets/colab-badge.svg\" alt=\"Open In Colab\"/></a>"
      ]
    },
    {
      "cell_type": "markdown",
      "source": [
        "# Lineárí regrese - soutěž v predikování"
      ],
      "metadata": {
        "id": "uH76m-Su_fIe"
      }
    },
    {
      "cell_type": "markdown",
      "source": [
        "V tomto notebooku budete chtít co nejpřesněji zpredikovat cenu domu z datasetu, který jsme si představili na úvodní hodině. Vaším cílem bude zvolit vhodné  \n",
        "transformace dat a vybrat vhodné proměnné tak, aby vaše predikce na testovací  množině byly co nejpřesnější. Kritériem v našem případě bude RootMeanSquaredError metrika. V tomto notebooku budete používat dataset   \n",
        "train.csv, který je vybrán jako podmnožina celého houses datasetu. Testovací dataset vám nebude představen a na jeho základě vyberu a oznámím vítěze.  \n",
        "\n",
        "Soutěž bude mít dvě kola, v prvním budete používat pouze lineární regresi, ve druhém můžete použít libovolné algoritmy. V případě, že se najdou více než 3 účastníci, se absolutní vítěz může těšit na **voucher do Alzy v hodnotě 500 Kč, vítěz prvního kola na voucher v hodnotě 250 Kč**. Deadline pro odevzdání prvního kola bude 22.3. ve 23:59, pro celkové pořadí 30.3. 23:59. Pro účast je nutné odevzdat jupyter (colab) notebook dokumentující postup a rovněž predikce na testovací množině. Není nutné se účastnit obou kol. Své výsledky mi prosím\n",
        "posílejte na svondracek@outlook.com .  \n",
        "\n",
        "Prosím berte na vědomí, že si vyhrazuji právo neuznat výsledky u kterých nebude z odevzdaného řešení zřejmý a dokumentovaný postup. Ano - jedná se os stejná data jako ve cvičení a dá se podvádět. Věřte ale, že si toho všimnu ;-)"
      ],
      "metadata": {
        "id": "FWc54IwR_qNq"
      }
    },
    {
      "cell_type": "markdown",
      "source": [
        "## Doporučený postup\n",
        "\n",
        "\n",
        "1. Načtení dat pro trénování modelu, rozdělení na trénovací a testovací množinu\n",
        "2. Feature engineering, experimentování s transformacemi (za použití vhodné metriky)\n",
        "3. Provedení finální predikce na testovací množině\n",
        "\n"
      ],
      "metadata": {
        "id": "1W49zbIOD3hQ"
      }
    },
    {
      "cell_type": "markdown",
      "source": [
        "## Postup"
      ],
      "metadata": {
        "id": "sLf3_5w3GaMW"
      }
    },
    {
      "cell_type": "code",
      "source": [
        "import pandas as pd"
      ],
      "metadata": {
        "id": "QO2H48mtG4Y6"
      },
      "execution_count": 2,
      "outputs": []
    },
    {
      "cell_type": "code",
      "execution_count": 3,
      "metadata": {
        "id": "7Nz69NrC-IaM"
      },
      "outputs": [],
      "source": [
        "df_train = pd.read_csv('https://raw.githubusercontent.com/svondracek0/sda_contest/refs/heads/main/datasety/train.csv')\n",
        "X_eval = pd.read_csv('https://raw.githubusercontent.com/svondracek0/sda_contest/refs/heads/main/datasety/X_test.csv')"
      ]
    },
    {
      "cell_type": "code",
      "source": [
        "# TODO: Následuje vaše řešení"
      ],
      "metadata": {
        "id": "dNEadXc9GzGy"
      },
      "execution_count": 4,
      "outputs": []
    },
    {
      "cell_type": "markdown",
      "source": [
        "## Příprava řešení pro odevzdání"
      ],
      "metadata": {
        "id": "3K-qRdMUHYqC"
      }
    },
    {
      "cell_type": "code",
      "source": [
        "# zde vytvořte predikci na evaluačním datasetu, tu následně prosím stáhněte a spolu s notebookem pošlete na mail uvedený výše\n",
        "y_eval_pred = model.predict(X_eval)\n",
        "y_eval_pred.to_csv(\"y_eval_pred.csv\")"
      ],
      "metadata": {
        "id": "3DJUSkTNHjKu"
      },
      "execution_count": null,
      "outputs": []
    },
    {
      "cell_type": "code",
      "source": [
        "from sklearn.metrics import root_mean_squared_error as rmse\n",
        "y_eval_actual = pd.read_csv(\"y_eval_actual.csv\")\n",
        "rmse_final =  rmse(y_eval_pred, y_eval_actual)\n",
        "print(f\"Vaše RMSE je {rmse_final}\")"
      ],
      "metadata": {
        "id": "zcthIV4eIVgE"
      },
      "execution_count": null,
      "outputs": []
    }
  ]
}