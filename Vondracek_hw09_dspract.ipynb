{
  "nbformat": 4,
  "nbformat_minor": 0,
  "metadata": {
    "colab": {
      "name": "Vondracek_hw09_dspract.ipynb",
      "provenance": [],
      "collapsed_sections": [],
      "mount_file_id": "14OTSAE5vuNl62CZxVtzXvQWlA_rpJay_",
      "authorship_tag": "ABX9TyPREJVVlUy8OVv65Vps2Ydx",
      "include_colab_link": true
    },
    "kernelspec": {
      "name": "python3",
      "display_name": "Python 3"
    },
    "language_info": {
      "name": "python"
    }
  },
  "cells": [
    {
      "cell_type": "markdown",
      "metadata": {
        "id": "view-in-github",
        "colab_type": "text"
      },
      "source": [
        "<a href=\"https://colab.research.google.com/github/svondracek0/Data-Science-Practicum/blob/main/Vondracek_hw09_dspract.ipynb\" target=\"_parent\"><img src=\"https://colab.research.google.com/assets/colab-badge.svg\" alt=\"Open In Colab\"/></a>"
      ]
    },
    {
      "cell_type": "markdown",
      "metadata": {
        "id": "FRaXAYu1lRL8"
      },
      "source": [
        "# NLP DS Praktikum2021 HW02 - Generátor textu\n",
        "\n",
        "*Štěpán Vondráček*\n",
        "\n",
        "Na souboru https://github.com/ryanmcdermott/trump-speeches/blob/master/speeches.txt natrénuji transformer, který následně vygeneruje náhodný Trumpův projev. Můj projekt je do značné míry založen na projektu zabývajícím se projevy A. Babiše.\n",
        "\n",
        "\n"
      ]
    },
    {
      "cell_type": "markdown",
      "metadata": {
        "id": "dAnr2Y0pmEKG"
      },
      "source": [
        "# 1 Inicializace Working Environmentu"
      ]
    },
    {
      "cell_type": "code",
      "metadata": {
        "id": "cWnFyTX1bvVe"
      },
      "source": [
        "import tensorflow as tf\n",
        "import numpy as np\n",
        "from tensorflow import keras\n",
        "from tensorflow.keras.preprocessing.text import Tokenizer\n",
        "from tensorflow.keras.preprocessing.sequence import pad_sequences\n",
        "from tensorflow.keras.layers import Embedding, LSTM, Dense, Bidirectional\n",
        "from tensorflow.keras.models import Sequential\n",
        "from tensorflow.keras.optimizers import Adam\n",
        "import re\n",
        "\n",
        "from google.colab import drive"
      ],
      "execution_count": null,
      "outputs": []
    },
    {
      "cell_type": "code",
      "metadata": {
        "id": "k6YB1qpdzWMk"
      },
      "source": [
        "\n",
        "# Nacteni souboru trump_speech z google disku\n",
        "\n",
        "def open_txt(path = \"/content/drive/MyDrive/trump_speech.txt\"):\n",
        "  file = open(path, \"r\")\n",
        "  data = file.read()\n",
        "  return data\n",
        "  file.close()\n",
        "\n",
        "data = open_txt() #texty mame nactene po radcich do seznamu \n",
        "\n",
        "\n"
      ],
      "execution_count": null,
      "outputs": []
    },
    {
      "cell_type": "markdown",
      "metadata": {
        "id": "7gFxtNkwn3VF"
      },
      "source": [
        "## 2 Preprocessing"
      ]
    },
    {
      "cell_type": "code",
      "metadata": {
        "id": "BAo0Oc7NopYU"
      },
      "source": [
        "#pomoci regexp nahradim prazdne radky a nddbytecne whitespaces za vetami teckou\n",
        "data = data.replace('\\n', \"\").replace('. ', '.')\n",
        "#nyni rozdelim text tak, ze jednotlive vety budou tvorit jeden prvek pole\n",
        "while m:\n",
        "  position = m.span()[0]\n",
        "  data = data[:position] + \"&\" + data[position + 1 :]\n",
        "  m = re.search('\\.[A-Z]', data)\n",
        "corpus = data.lower().split('&')\n",
        "print(corpus[:5])\n",
        "\n"
      ],
      "execution_count": null,
      "outputs": []
    },
    {
      "cell_type": "code",
      "metadata": {
        "id": "vDazFAqSorNM"
      },
      "source": [
        "#tokenizace\n",
        "tokenizer = Tokenizer()\n",
        "tokenizer.fit_on_texts(corpus)\n",
        "total_words = len(tokenizer.word_index) + 1\n",
        "print(\"Total words: \", total_words)\n",
        "\n",
        "input_sequences = []\n",
        "for line in corpus:\n",
        "  token_list = tokenizer.texts_to_sequences([line])[0]\n",
        "  for i in range(1, len(token_list)):\n",
        "    n_gram_sequence = token_list[:i + 1]\n",
        "    input_sequences.append(n_gram_sequence)\n",
        "print(input_sequences[1:10])\n",
        "\n",
        "\n",
        "\n",
        "\n",
        "\n"
      ],
      "execution_count": null,
      "outputs": []
    },
    {
      "cell_type": "code",
      "metadata": {
        "id": "lWUYqkHWpbIJ"
      },
      "source": [
        "# padding\n",
        "max_sequence_len = max([len(x) for x in input_sequences])\n",
        "input_sequences = np.array(pad_sequences(input_sequences, maxlen = max_sequence_len, padding = 'pre'))\n",
        "print(input_sequences[1:5])\n",
        "print(max_sequence_len)"
      ],
      "execution_count": null,
      "outputs": []
    },
    {
      "cell_type": "code",
      "metadata": {
        "id": "X6ZsABeepe0k"
      },
      "source": [
        "xs = input_sequences[:, :-1]\n",
        "labels = input_sequences[:, -1]\n",
        "ys = tf.keras.utils.to_categorical(labels, num_classes = total_words)"
      ],
      "execution_count": null,
      "outputs": []
    },
    {
      "cell_type": "code",
      "metadata": {
        "id": "XaKAj6jmpkRN"
      },
      "source": [
        "model = Sequential()\n",
        "model.add(Embedding(total_words, 100, input_length=max_sequence_len-1))\n",
        "#model.add(Bidirectional(LSTM(128, return_sequences=True)))\n",
        "model.add(Bidirectional(LSTM(64)))\n",
        "model.add(Dense(total_words, activation='softmax'))\n",
        "adam = Adam(lr=0.01)\n",
        "model.compile(loss='categorical_crossentropy', optimizer=adam, metrics=['accuracy'])\n",
        "#earlystop = EarlyStopping(monitor='val_loss', min_delta=0, patience=5, verbose=0, mode='auto')\n",
        "history = model.fit(xs, ys, epochs=10, verbose=1)\n",
        "#print model.summary()\n",
        "print(model)"
      ],
      "execution_count": null,
      "outputs": []
    },
    {
      "cell_type": "code",
      "metadata": {
        "id": "-QO0H00eprBj"
      },
      "source": [
        "seed_text = We have drained the swamp in Washington D.C.!!!\n",
        "next_words = 100\n",
        "  \n",
        "for _ in range(next_words):\n",
        "\ttoken_list = tokenizer.texts_to_sequences([seed_text])[0]\n",
        "\ttoken_list = pad_sequences([token_list], maxlen=max_sequence_len-1, padding='pre')\n",
        "\tpredicted = model.predict_classes(token_list, verbose=0)\n",
        "\toutput_word = \"\"\n",
        "\tfor word, index in tokenizer.word_index.items():\n",
        "\t\tif index == predicted:\n",
        "\t\t\toutput_word = word\n",
        "\t\t\tbreak\n",
        "\tseed_text += \" \" + output_word\n",
        "print(seed_text)"
      ],
      "execution_count": null,
      "outputs": []
    }
  ]
}